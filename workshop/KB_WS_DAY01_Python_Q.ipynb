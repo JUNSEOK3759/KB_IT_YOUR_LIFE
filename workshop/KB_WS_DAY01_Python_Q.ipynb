{
 "cells": [
  {
   "cell_type": "markdown",
   "metadata": {},
   "source": [
    "### Q1) 입력한 단어의 모음 개수(A,E,I,O,U,a,e,i,o,u) 찾기\n",
    "- 키보드로 단어를 입력받아 모음의 개수를 출력하는 코드를 작성하세요.\n",
    "    - 키보드 입력 : HeLLO\n",
    "    - 결과출력 : 2개"
   ]
  },
  {
   "cell_type": "code",
   "execution_count": 1,
   "metadata": {
    "ExecuteTime": {
     "end_time": "2022-02-19T07:04:19.819553Z",
     "start_time": "2022-02-19T07:04:16.751277Z"
    }
   },
   "outputs": [
    {
     "name": "stdout",
     "output_type": "stream",
     "text": [
      "입력 : hello\n",
      "결과 출력 : 2\n"
     ]
    }
   ],
   "source": [
    "a = input('입력 : ')\n",
    "a = a.upper()\n",
    "b = list(a)\n",
    "result = 0\n",
    "for k in b:\n",
    "    if (k ==  'A' or k == 'E' or k == 'I' or k  == 'O' or k == 'U'):\n",
    "        result += 1\n",
    "print('결과 출력 :', result)"
   ]
  },
  {
   "cell_type": "markdown",
   "metadata": {},
   "source": [
    "<br/>\n",
    "<br/>\n",
    "<br/>\n",
    "<br/>"
   ]
  },
  {
   "cell_type": "markdown",
   "metadata": {},
   "source": [
    "### Q2) 'A' 와 구매 성향이 가장 비슷한 사람 찾기\n",
    "- purchase 리스트는 편의점에서 구매 리스트입니다.\n",
    "    - 즉, 'A'는 초콜렛 1개, 콜라 2개, 맥주 8개, 커피 4개, 요플레 0개, 빵 1개를 구입\n",
    "- 다음 규칙에 따라 'A'와 구매 성향이 가장 비슷한 사람을 찾으세요.\n",
    "    - 두 명의 구매 리스트에서 같은 품목의 개수의 차의 제곱을 모두 더한 값을 error라고 정의\n",
    "        - ex) 'A'와 'B'의 error는 `(1-3)^2 + (2-3)^2 + (8-0)^2 + (4-2)^2 + (0-1)^2 + (1-2)^2 = 4 + 1 + 64 + 4 + 1 + 1 = 75`\n",
    "    - error가 작을수록 구매 성향이 비슷하다고 정의\n",
    "    - 두 명의 구매 리스트를 매개변수로 받아 error를 반환하는 함수를 정의\n",
    "    - 'A'와 한 명씩 비교하여 errors 리스트에 [누구, error] 형태의 리스트를 하나씩 추가하세요.\n",
    "        - 결과 : [['B', 75], ['C', 34], ['D', 7], ['E', 102]]\n",
    "    - error가 가장 작은 사람을 `min_who`, 해당 error를 `min_error`에 저장하세요."
   ]
  },
  {
   "cell_type": "code",
   "execution_count": 2,
   "metadata": {
    "ExecuteTime": {
     "end_time": "2022-02-19T06:47:24.529039Z",
     "start_time": "2022-02-19T06:47:24.505026Z"
    }
   },
   "outputs": [],
   "source": [
    "# 코드를 실행하세요.\n",
    "# 순서대로 초콜렛, 콜라, 맥주, 커피, 요플레, 빵의 구매 개수\n",
    "purchase = [['A', 1, 2, 8, 4, 0, 1],\n",
    "            ['B', 3, 3, 0, 2, 1, 2],\n",
    "            ['C', 2, 2, 4, 0, 0, 0],\n",
    "            ['D', 0, 0, 8, 3, 0, 0],\n",
    "            ['E', 8, 3, 4, 2, 4, 5]]"
   ]
  },
  {
   "cell_type": "code",
   "execution_count": 3,
   "metadata": {
    "ExecuteTime": {
     "end_time": "2022-02-19T06:47:26.475175Z",
     "start_time": "2022-02-19T06:47:26.458491Z"
    }
   },
   "outputs": [
    {
     "data": {
      "text/plain": [
       "0"
      ]
     },
     "execution_count": 3,
     "metadata": {},
     "output_type": "execute_result"
    }
   ],
   "source": [
    "# 두 명의 구매 리스트를 매개변수로 받아 error를 반환하는 함수를 작성하세요.\n",
    "def get_error(list1, list2) :\n",
    "    error = 0\n",
    "    for i in range(1, len(list1)):\n",
    "        error += (list1[i] - list2[i]) ** 2\n",
    "            \n",
    "    \n",
    "    return error\n",
    "get_error(purchase[0], purchase[0])\n"
   ]
  },
  {
   "cell_type": "code",
   "execution_count": 4,
   "metadata": {
    "ExecuteTime": {
     "end_time": "2022-02-19T06:47:28.385818Z",
     "start_time": "2022-02-19T06:47:28.378202Z"
    }
   },
   "outputs": [
    {
     "name": "stdout",
     "output_type": "stream",
     "text": [
      "숫자 입력 : 1\n",
      "[['B', 75], ['C', 34], ['D', 7], ['E', 102]]\n"
     ]
    }
   ],
   "source": [
    "# error 리스트\n",
    "errors = []\n",
    "\n",
    "a = int(input(\"숫자 입력 : \")) - 1\n",
    "\n",
    "for j in range(0, len(purchase)):\n",
    "    errors.append(purchase[j][0])\n",
    "    s = [errors[j]]\n",
    "    errors[j] = s\n",
    "    errors[j].append(get_error(purchase[a], purchase[j]))\n",
    "\n",
    "del errors[a]\n",
    "\n",
    "\n",
    "# # 한 명씩 'A'와 구매 리스트를 비교하여 error를 구한 뒤 errors 리스트에 결과를 저장하세요.\n",
    "# # errors 결과 : [['B', 75], ['C', 34], ['D', 7], ['E', 102]]\n",
    "\n",
    "print(errors)"
   ]
  },
  {
   "cell_type": "code",
   "execution_count": 5,
   "metadata": {
    "ExecuteTime": {
     "end_time": "2022-02-19T06:51:19.086565Z",
     "start_time": "2022-02-19T06:51:19.075858Z"
    }
   },
   "outputs": [
    {
     "name": "stdout",
     "output_type": "stream",
     "text": [
      "A와 D가 가장 가깝습니다. (에러 : 7)\n"
     ]
    }
   ],
   "source": [
    "# error가 가장 작은 사람을 min_who, 해당 error를 min_error에 저장하세요.\n",
    "min_error = float('inf') # 무한대\n",
    "min_who = ''\n",
    "\n",
    "for i, x in errors:\n",
    "    if min_error > x:\n",
    "        min_error = x\n",
    "        min_who = i\n",
    "\n",
    "\n",
    "print(f'{purchase[a][0]}와 {min_who}가 가장 가깝습니다. (에러 : {min_error})')"
   ]
  },
  {
   "cell_type": "markdown",
   "metadata": {},
   "source": [
    "<br/>\n",
    "<br/>\n",
    "<br/>\n",
    "<br/>"
   ]
  },
  {
   "cell_type": "markdown",
   "metadata": {},
   "source": [
    "### Q3-0) 가중치를 설정하여 임의 추출하기\n",
    "- random 모듈의 choices 함수를 사용하면 데이터에서 가중치를 설정하여 추출할 수 있습니다.\n",
    "- random.choices( `데이터` , weights = `가중치`)"
   ]
  },
  {
   "cell_type": "code",
   "execution_count": 7,
   "metadata": {
    "ExecuteTime": {
     "end_time": "2022-02-22T02:15:09.184665Z",
     "start_time": "2022-02-22T02:15:09.160887Z"
    }
   },
   "outputs": [
    {
     "name": "stdout",
     "output_type": "stream",
     "text": [
      "[300]\n",
      "[300]\n",
      "[300]\n",
      "[300]\n",
      "[300]\n",
      "[300]\n",
      "[300]\n",
      "[300]\n",
      "[300]\n",
      "[300]\n"
     ]
    }
   ],
   "source": [
    "# 코드를 실행하세요.\n",
    "# 100, 200, 300 값에서 무작위 추출 (가중치 - 100 : 1, 200 : 1, 300 : 8)\n",
    "# 즉, 1개를 추출할 때 100이 선택될 확률은 10%, 200이 선택될 확률은 10%, 300이 선택될 확률은 80%\n",
    "import random\n",
    "for i in range(10) :\n",
    "    print(random.choices([100,200,300], weights = (1, 1, 8)))"
   ]
  },
  {
   "cell_type": "markdown",
   "metadata": {},
   "source": [
    "<br/>\n",
    "<br/>"
   ]
  },
  {
   "cell_type": "markdown",
   "metadata": {},
   "source": [
    "### Q3) 업다운 게임\n",
    "- 사용자가 키보드로 1부터 100까지의 정수를 입력하면, 컴퓨터도 랜덤으로 숫자를 선택합니다.\n",
    "- 사용자가 선택한 숫자와 컴퓨터가 선택한 숫자가 일치할 때까지 게임이 진행됩니다.\n",
    "- 사용자는 매 시도마다 자신의 숫자에 1을 더하거나 뺄 수 있습니다.\n",
    "    - 더하거나 빼는것은 랜덤하게 결정되며, 초기 가중치는 두 경우 모두 10 입니다.\n",
    "- 무한 반복문을 사용하세요.\n",
    "    - 컴퓨터와 숫자와 같으면 \"정답입니다!\", \"n번 시도끝에 맞췄습니다!\" 문구를 출력하고 반복문을 종료합니다.\n",
    "    - 컴퓨터의 숫자가 더 작다면 \"computer : 다운\" 문구를 출력하고 1을 빼는 경우의 가중치에 1을 더합니다.\n",
    "    - 컴퓨터의 숫자가 더 크다면 \"computer : 업\" 문구를 출력하고 1을 더하는 경우의 가중치에 1을 더합니다.\n",
    "    - 가중치에 따라 -1이나 1을 랜덤으로 선택하고, 사용자의 숫자에 선택된 값을 더하세요.\n",
    "    - 반복이 끝날 때 마다 사용자의 숫자를 user_log 리스트에 추가하세요."
   ]
  },
  {
   "cell_type": "code",
   "execution_count": 8,
   "metadata": {
    "ExecuteTime": {
     "end_time": "2022-02-22T02:37:49.075984Z",
     "start_time": "2022-02-22T02:37:48.532360Z"
    },
    "scrolled": false
   },
   "outputs": [
    {
     "name": "stdout",
     "output_type": "stream",
     "text": [
      "1 ~ 100 까지의 숫자를 입력하세요. : 50\n",
      "user : 50!\n",
      "computer : 업\n",
      "user : 49!\n",
      "computer : 업\n",
      "user : 48!\n",
      "computer : 업\n",
      "user : 49!\n",
      "computer : 업\n",
      "user : 50!\n",
      "computer : 업\n",
      "user : 51!\n",
      "computer : 업\n",
      "user : 52!\n",
      "computer : 업\n",
      "user : 51!\n",
      "computer : 업\n",
      "user : 52!\n",
      "computer : 업\n",
      "user : 53!\n",
      "computer : 업\n",
      "user : 52!\n",
      "computer : 업\n",
      "user : 53!\n",
      "computer : 업\n",
      "user : 54!\n",
      "computer : 업\n",
      "user : 55!\n",
      "computer : 업\n",
      "user : 56!\n",
      "computer : 업\n",
      "user : 57!\n",
      "computer : 업\n",
      "user : 58!\n",
      "computer : 업\n",
      "user : 59!\n",
      "computer : 업\n",
      "user : 60!\n",
      "computer : 업\n",
      "user : 61!\n",
      "computer : 업\n",
      "user : 62!\n",
      "computer : 업\n",
      "user : 63!\n",
      "computer : 업\n",
      "user : 62!\n",
      "computer : 업\n",
      "user : 63!\n",
      "computer : 업\n",
      "user : 64!\n",
      "computer : 업\n",
      "user : 63!\n",
      "computer : 업\n",
      "user : 64!\n",
      "computer : 업\n",
      "user : 63!\n",
      "computer : 업\n",
      "user : 64!\n",
      "computer : 업\n",
      "user : 65!\n",
      "computer : 업\n",
      "user : 66!\n",
      "computer : 업\n",
      "user : 67!\n",
      "computer : 업\n",
      "user : 68!\n",
      "computer : 업\n",
      "user : 69!\n",
      "computer : 업\n",
      "user : 68!\n",
      "computer : 업\n",
      "user : 69!\n",
      "computer : 업\n",
      "user : 70!\n",
      "computer : 업\n",
      "user : 69!\n",
      "computer : 업\n",
      "user : 70!\n",
      "computer : 업\n",
      "user : 71!\n",
      "computer : 업\n",
      "user : 70!\n",
      "computer : 업\n",
      "user : 71!\n",
      "computer : 업\n",
      "user : 72!\n",
      "computer : 업\n",
      "user : 71!\n",
      "computer : 업\n",
      "user : 72!\n",
      "computer : 업\n",
      "user : 73!\n",
      "computer : 업\n",
      "user : 74!\n",
      "computer : 업\n",
      "user : 75!\n",
      "computer : 업\n",
      "user : 74!\n",
      "computer : 업\n",
      "user : 75!\n",
      "computer : 업\n",
      "user : 76!\n",
      "computer : 업\n",
      "user : 77!\n",
      "computer : 업\n",
      "user : 76!\n",
      "computer : 업\n",
      "user : 77!\n",
      "computer : 업\n",
      "user : 76!\n",
      "computer : 업\n",
      "user : 77!\n",
      "computer : 업\n",
      "user : 78!\n",
      "computer : 업\n",
      "user : 79!\n",
      "computer : 업\n",
      "user : 80!\n",
      "computer : 업\n",
      "user : 81!\n",
      "computer : 업\n",
      "user : 82!\n",
      "computer : 업\n",
      "user : 83!\n",
      "computer : 업\n",
      "user : 84!\n",
      "computer : 업\n",
      "user : 85!\n",
      "computer : 업\n",
      "user : 86!\n",
      "computer : 업\n",
      "user : 87!\n",
      "computer : 업\n",
      "user : 88!\n",
      "computer : 업\n",
      "user : 89!\n",
      "computer : 업\n",
      "user : 90!\n",
      "computer : 업\n",
      "user : 91!\n",
      "computer : 업\n",
      "user : 92!\n",
      "computer : 업\n",
      "user : 91!\n",
      "computer : 업\n",
      "user : 92!\n",
      "computer : 업\n",
      "user : 93!\n",
      "computer : 업\n",
      "user : 94!\n",
      "computer : 업\n",
      "user : 95!\n",
      "computer : 업\n",
      "user : 96!\n",
      "computer : 업\n",
      "user : 97!\n",
      "computer : 업\n",
      "user : 98!\n",
      "78번 시도에 완성\n"
     ]
    }
   ],
   "source": [
    "user = int(input('1 ~ 100 까지의 숫자를 입력하세요. : '))\n",
    "computer = random.randint(1, 100)\n",
    "cnt = 0 # 시도 횟수\n",
    "weight0 = 10 # -1의 초기 가중치\n",
    "weight1 = 10 # 1의 초기 가중치\n",
    "user_log = [user]\n",
    "while True :\n",
    "    \n",
    "    user_log.append(user)\n",
    "    print(f'user : {user}!')\n",
    "    \n",
    "    if user < 1 or user > 101:\n",
    "        print(\"ㅄ\")\n",
    "        break\n",
    "    if user < computer:\n",
    "        print('computer : 업')\n",
    "        weight1 += 1\n",
    "        cnt += 1\n",
    "    elif user == computer:\n",
    "        print(f'{cnt}번 시도에 완성')\n",
    "        break\n",
    "    else:\n",
    "        print('computer : 다운')\n",
    "        weight0 += 1\n",
    "        cnt += 1\n",
    "    x = random.choices([-1,1], weights = (weight0,weight1))\n",
    "    user += x[0]    "
   ]
  },
  {
   "cell_type": "markdown",
   "metadata": {},
   "source": [
    "<br/>\n",
    "<br/>"
   ]
  },
  {
   "cell_type": "markdown",
   "metadata": {},
   "source": [
    "- (참고) 시각화"
   ]
  },
  {
   "cell_type": "code",
   "execution_count": 8,
   "metadata": {
    "ExecuteTime": {
     "end_time": "2022-02-22T02:40:52.660655Z",
     "start_time": "2022-02-22T02:40:52.352860Z"
    }
   },
   "outputs": [
    {
     "data": {
      "image/png": "[encoded data removed]",
      "text/plain": [
       "<Figure size 1152x432 with 1 Axes>"
      ]
     },
     "metadata": {
      "needs_background": "light"
     },
     "output_type": "display_data"
    }
   ],
   "source": [
    "# 코드를 실행하세요.\n",
    "import matplotlib.pyplot as plt\n",
    "plt.figure(figsize = (16,6))\n",
    "plt.plot(range(len(user_log)), user_log, label = 'user', marker = 'o', c = 'orange')\n",
    "plt.axhline(computer, c = 'red', lw = 0.5, label = 'computer')\n",
    "plt.legend()\n",
    "plt.grid()\n",
    "plt.xlabel('Count')\n",
    "plt.ylabel('User')\n",
    "plt.title('User Log', fontsize = 20)\n",
    "plt.show()"
   ]
  },
  {
   "cell_type": "markdown",
   "metadata": {},
   "source": [
    "<br/>\n",
    "<br/>\n",
    "<br/>\n",
    "<br/>"
   ]
  },
  {
   "cell_type": "markdown",
   "metadata": {},
   "source": [
    "## Q4) 데이터 분석\n",
    "- 아래의 데이터를 data에 저장하세요.\n",
    "- 나이 정보에서 \"nan\"은 결측치를 의미"
   ]
  },
  {
   "cell_type": "markdown",
   "metadata": {},
   "source": [
    "|성별|나이|탑승가족수|탑승클래스|탑승요금|생존여부|\n",
    "|---|---|---|---|---|---|\n",
    "|female\t|48.0\t|0\t|First\t|25.9292\t|1|\n",
    "|male\t|nan\t|0\t|Third\t|7.8958\t|0|\n",
    "|female\t|17.0\t|0\t|Second\t|10.5000\t|1|\n",
    "|female\t|nan\t|0\t|Third\t|8.1375\t|0|\n",
    "|female\t|7.0\t|2\t|Second\t|26.2500\t|1|\n",
    "|male\t|21.0\t|0\t|Third\t|7.8542\t|0|\n",
    "|male\t|36.5\t|2\t|Second\t|26.0000\t|0|\n",
    "|female\t|35.0\t|1\t|First\t|53.1000\t|1|\n",
    "|male\t|28.0\t|1\t|First\t|82.1708\t|0|\n",
    "|female\t|nan\t|1\t|Third\t|15.5000\t|1|\n",
    "|male\t|25.0\t|0\t|Third\t|7.8958\t|0|\n",
    "|female\t|26.0\t|0\t|Third\t|7.9250\t|1|\n",
    "|male\t|54.0\t|0\t|First\t|51.8625\t|0|\n",
    "|male\t|nan\t|0\t|Second\t|13.0000\t|1|\n",
    "|female\t|nan\t|0\t|Third\t|7.7500\t|1|\n",
    "|male\t|28.0\t|0\t|First\t|26.5500\t|1|\n",
    "|male\t|10.0\t|5\t|Third\t|27.9000\t|0|\n",
    "|male\t|24.0\t|1\t|Third\t|16.1000\t|0|\n",
    "|male\t|36.0\t|0\t|Third\t|7.8958\t|0|\n",
    "|female\t|24.0\t|5\t|Second\t|18.7500\t|1|"
   ]
  },
  {
   "cell_type": "markdown",
   "metadata": {},
   "source": [
    "<br/>\n",
    "<br/>"
   ]
  },
  {
   "cell_type": "markdown",
   "metadata": {},
   "source": [
    "### 데이터 로드"
   ]
  },
  {
   "cell_type": "markdown",
   "metadata": {},
   "source": [
    "- 직접 작성"
   ]
  },
  {
   "cell_type": "code",
   "execution_count": 9,
   "metadata": {
    "ExecuteTime": {
     "end_time": "2022-03-10T02:45:20.147090Z",
     "start_time": "2022-03-10T02:45:20.123891Z"
    }
   },
   "outputs": [
    {
     "data": {
      "text/plain": [
       "[['female', 48.0, 0, 'First', 25.9292, 1],\n",
       " ['male', 'nan', 0, 'Third', 7.8958, 0],\n",
       " ['female', 17.0, 0, 'Second', 10.5, 1],\n",
       " ['female', 'nan', 0, 'Third', 8.1375, 0],\n",
       " ['female', 7.0, 2, 'Second', 26.25, 1],\n",
       " ['male', 21.0, 0, 'Third', 7.8542, 0],\n",
       " ['male', 36.5, 2, 'Second', 26.0, 0],\n",
       " ['female', 35.0, 1, 'First', 53.1, 1],\n",
       " ['male', 28.0, 1, 'First', 82.1708, 0],\n",
       " ['female', 'nan', 1, 'Third', 15.5, 1],\n",
       " ['male', 25.0, 0, 'Third', 7.8958, 0],\n",
       " ['female', 26.0, 0, 'Third', 7.925, 1],\n",
       " ['male', 54.0, 0, 'First', 51.8625, 0],\n",
       " ['male', 'nan', 0, 'Second', 13.0, 1],\n",
       " ['female', 'nan', 0, 'Third', 7.75, 1],\n",
       " ['male', 28.0, 0, 'First', 26.55, 1],\n",
       " ['male', 10.0, 5, 'Third', 27.9, 0],\n",
       " ['male', 24.0, 1, 'Third', 16.1, 0],\n",
       " ['male', 36.0, 0, 'Third', 7.8958, 0],\n",
       " ['female', 24.0, 5, 'Second', 18.75, 1]]"
      ]
     },
     "execution_count": 9,
     "metadata": {},
     "output_type": "execute_result"
    }
   ],
   "source": [
    "# 코드를 실행하세요.\n",
    "data = \\\n",
    "[['female', 48.0, 0, 'First', 25.9292, 1],\n",
    " ['male', 'nan', 0, 'Third', 7.8958, 0],\n",
    " ['female', 17.0, 0, 'Second', 10.5, 1],\n",
    " ['female', 'nan', 0, 'Third', 8.1375, 0],\n",
    " ['female', 7.0, 2, 'Second', 26.25, 1],\n",
    " ['male', 21.0, 0, 'Third', 7.8542, 0],\n",
    " ['male', 36.5, 2, 'Second', 26.0, 0],\n",
    " ['female', 35.0, 1, 'First', 53.1, 1],\n",
    " ['male', 28.0, 1, 'First', 82.1708, 0],\n",
    " ['female', 'nan', 1, 'Third', 15.5, 1],\n",
    " ['male', 25.0, 0, 'Third', 7.8958, 0],\n",
    " ['female', 26.0, 0, 'Third', 7.925, 1],\n",
    " ['male', 54.0, 0, 'First', 51.8625, 0],\n",
    " ['male', 'nan', 0, 'Second', 13.0, 1],\n",
    " ['female', 'nan', 0, 'Third', 7.75, 1],\n",
    " ['male', 28.0, 0, 'First', 26.55, 1],\n",
    " ['male', 10.0, 5, 'Third', 27.9, 0],\n",
    " ['male', 24.0, 1, 'Third', 16.1, 0],\n",
    " ['male', 36.0, 0, 'Third', 7.8958, 0],\n",
    " ['female', 24.0, 5, 'Second', 18.75, 1]]\n",
    "data"
   ]
  },
  {
   "cell_type": "markdown",
   "metadata": {},
   "source": [
    "<br/>\n",
    "<br/>"
   ]
  },
  {
   "cell_type": "markdown",
   "metadata": {},
   "source": [
    "- 파일에서 읽기\n",
    "    - `dataset` 폴더의 `titanic.csv` 파일을 읽어서 위와 같은 형식으로 data에 저장하세요. (`encoding = 'utf-8'`)\n",
    "    - 나이, 탑승가족수, 생존여부는 **정수**, 탑승요금은 **실수**로 저장하세요.\n",
    "    - 나이의 `nan`는 결측치를 의미"
   ]
  },
  {
   "cell_type": "code",
   "execution_count": 10,
   "metadata": {
    "ExecuteTime": {
     "end_time": "2022-03-10T04:16:32.808002Z",
     "start_time": "2022-03-10T04:16:32.724411Z"
    }
   },
   "outputs": [
    {
     "ename": "FileNotFoundError",
     "evalue": "[Errno 2] No such file or directory: '../dataset/titanic.csv'",
     "output_type": "error",
     "traceback": [
      "\u001b[1;31m---------------------------------------------------------------------------\u001b[0m",
      "\u001b[1;31mFileNotFoundError\u001b[0m                         Traceback (most recent call last)",
      "Input \u001b[1;32mIn [10]\u001b[0m, in \u001b[0;36m<cell line: 4>\u001b[1;34m()\u001b[0m\n\u001b[0;32m      1\u001b[0m data \u001b[38;5;241m=\u001b[39m []\n\u001b[0;32m      3\u001b[0m \u001b[38;5;66;03m# 파일 읽기\u001b[39;00m\n\u001b[1;32m----> 4\u001b[0m f \u001b[38;5;241m=\u001b[39m \u001b[38;5;28;43mopen\u001b[39;49m\u001b[43m(\u001b[49m\u001b[38;5;124;43m'\u001b[39;49m\u001b[38;5;124;43m../dataset/titanic.csv\u001b[39;49m\u001b[38;5;124;43m'\u001b[39;49m\u001b[43m,\u001b[49m\u001b[43m \u001b[49m\u001b[38;5;124;43m'\u001b[39;49m\u001b[38;5;124;43mr\u001b[39;49m\u001b[38;5;124;43m'\u001b[39;49m\u001b[43m,\u001b[49m\u001b[43m \u001b[49m\u001b[43mencoding\u001b[49m\u001b[43m \u001b[49m\u001b[38;5;241;43m=\u001b[39;49m\u001b[43m \u001b[49m\u001b[38;5;124;43m'\u001b[39;49m\u001b[38;5;124;43mutf-8\u001b[39;49m\u001b[38;5;124;43m'\u001b[39;49m\u001b[43m)\u001b[49m\n\u001b[0;32m      5\u001b[0m lines \u001b[38;5;241m=\u001b[39m f\u001b[38;5;241m.\u001b[39mreadlines()\n\u001b[0;32m      6\u001b[0m f\u001b[38;5;241m.\u001b[39mclose()\n",
      "\u001b[1;31mFileNotFoundError\u001b[0m: [Errno 2] No such file or directory: '../dataset/titanic.csv'"
     ]
    }
   ],
   "source": [
    "data = []\n",
    "\n",
    "# 파일 읽기\n",
    "f = open('../dataset/titanic.csv', 'r', encoding = 'utf-8')\n",
    "lines = f.readlines()\n",
    "f.close()\n",
    "\n",
    "# 리스트로 변환\n",
    "\n",
    "\n",
    "\n",
    "\n",
    "\n",
    "\n",
    "\n",
    "\n",
    "\n",
    "\n",
    "\n",
    "data"
   ]
  },
  {
   "cell_type": "markdown",
   "metadata": {},
   "source": [
    "<br/>\n",
    "<br/>"
   ]
  },
  {
   "cell_type": "markdown",
   "metadata": {},
   "source": [
    "### 속성 조회"
   ]
  },
  {
   "cell_type": "code",
   "execution_count": null,
   "metadata": {
    "ExecuteTime": {
     "end_time": "2022-03-10T04:23:58.487505Z",
     "start_time": "2022-03-10T04:23:58.464128Z"
    }
   },
   "outputs": [],
   "source": [
    "# 데이터의 개수와 특성의 개수를 구하세요.\n",
    "cnt = \n",
    "feature = \n",
    "\n",
    "print(f'데이터 : {cnt}개')\n",
    "print(f'특성   : {feature}개')"
   ]
  },
  {
   "cell_type": "markdown",
   "metadata": {},
   "source": [
    "<br/>\n",
    "<br/>"
   ]
  },
  {
   "cell_type": "markdown",
   "metadata": {},
   "source": [
    "### 데이터 선택"
   ]
  },
  {
   "cell_type": "code",
   "execution_count": null,
   "metadata": {
    "ExecuteTime": {
     "end_time": "2022-03-10T04:24:01.914034Z",
     "start_time": "2022-03-10T04:24:01.891517Z"
    }
   },
   "outputs": [],
   "source": [
    "# 3, 10, 12번 데이터를 선택하세요.\n",
    "selected = []\n",
    "\n",
    "\n",
    "\n",
    "\n",
    "\n",
    "\n",
    "        \n",
    "selected"
   ]
  },
  {
   "cell_type": "code",
   "execution_count": null,
   "metadata": {
    "ExecuteTime": {
     "end_time": "2022-03-10T04:24:04.894884Z",
     "start_time": "2022-03-10T04:24:04.878440Z"
    }
   },
   "outputs": [],
   "source": [
    "# 슬라이싱을 이용하여 5 ~ 15 번 데이터를 선택하세요.\n"
   ]
  },
  {
   "cell_type": "code",
   "execution_count": null,
   "metadata": {
    "ExecuteTime": {
     "end_time": "2022-03-10T04:24:07.079051Z",
     "start_time": "2022-03-10T04:24:07.054814Z"
    }
   },
   "outputs": [],
   "source": [
    "# 5 ~ 15 번 데이터의 성별, 나이, 생존여부를 선택하세요.\n",
    "selected = data[5:16]\n",
    "\n",
    "\n",
    "\n",
    "\n",
    "\n",
    "\n",
    "\n",
    "\n",
    "        \n",
    "selected"
   ]
  },
  {
   "cell_type": "code",
   "execution_count": null,
   "metadata": {
    "ExecuteTime": {
     "end_time": "2022-03-10T04:24:10.736437Z",
     "start_time": "2022-03-10T04:24:10.637836Z"
    }
   },
   "outputs": [],
   "source": [
    "# 남성 데이터를 선택하세요.\n",
    "selected = []\n",
    "\n",
    "\n",
    "\n",
    "\n",
    "\n",
    "\n",
    "\n",
    "\n",
    "        \n",
    "selected"
   ]
  },
  {
   "cell_type": "markdown",
   "metadata": {},
   "source": [
    "<br/>\n",
    "<br/>"
   ]
  },
  {
   "cell_type": "markdown",
   "metadata": {},
   "source": [
    "### 빈도수 구하기"
   ]
  },
  {
   "cell_type": "code",
   "execution_count": null,
   "metadata": {
    "ExecuteTime": {
     "end_time": "2022-03-10T04:24:31.968056Z",
     "start_time": "2022-03-10T04:24:31.952070Z"
    }
   },
   "outputs": [],
   "source": [
    "# 성별 빈도수를 구하세요.\n",
    "male = 0\n",
    "female = 0\n",
    "\n",
    "for i in range(len(data)) :\n",
    "    if data[i][0] == 'male' : \n",
    "        male += 1\n",
    "    else : \n",
    "        female += 1\n",
    "        \n",
    "print(f'male   : {male}')\n",
    "print(f'female : {female}')"
   ]
  },
  {
   "cell_type": "code",
   "execution_count": null,
   "metadata": {
    "ExecuteTime": {
     "end_time": "2022-03-10T04:24:39.625861Z",
     "start_time": "2022-03-10T04:24:39.613793Z"
    }
   },
   "outputs": [],
   "source": [
    "# 탑승클래스 빈도수를 구하세요.\n",
    "first = 0\n",
    "second = 0\n",
    "third = 0\n",
    "\n",
    "for i in range(len(data)) :\n",
    "    if data[i][3] == 'First' : \n",
    "        first += 1\n",
    "    elif data[i][3] == 'Second' : \n",
    "        second += 1\n",
    "    else :\n",
    "        third += 1\n",
    "        \n",
    "print(f'first  : {first}')\n",
    "print(f'second : {second}')\n",
    "print(f'third  : {third}')"
   ]
  },
  {
   "cell_type": "markdown",
   "metadata": {},
   "source": [
    "<br/>\n",
    "<br/>"
   ]
  },
  {
   "cell_type": "markdown",
   "metadata": {},
   "source": [
    "### 통계"
   ]
  },
  {
   "cell_type": "code",
   "execution_count": null,
   "metadata": {
    "ExecuteTime": {
     "end_time": "2022-03-10T04:24:42.536468Z",
     "start_time": "2022-03-10T04:24:42.520438Z"
    }
   },
   "outputs": [],
   "source": [
    "# 탑승요금 평균을 구하세요.\n",
    "\n",
    "\n",
    "\n",
    "\n",
    "\n",
    "\n",
    "\n"
   ]
  },
  {
   "cell_type": "code",
   "execution_count": null,
   "metadata": {
    "ExecuteTime": {
     "end_time": "2022-03-10T04:24:45.205760Z",
     "start_time": "2022-03-10T04:24:45.189760Z"
    }
   },
   "outputs": [],
   "source": [
    "# 평균 나이를 구하세요.\n",
    "\n",
    "\n",
    "\n",
    "\n",
    "\n",
    "\n"
   ]
  },
  {
   "cell_type": "code",
   "execution_count": null,
   "metadata": {
    "ExecuteTime": {
     "end_time": "2022-03-10T04:24:52.448455Z",
     "start_time": "2022-03-10T04:24:52.424618Z"
    }
   },
   "outputs": [],
   "source": [
    "# 생존율을 구하세요.\n",
    "\n",
    "\n",
    "\n",
    "\n",
    "\n",
    "\n"
   ]
  },
  {
   "cell_type": "markdown",
   "metadata": {},
   "source": [
    "<br/>\n",
    "<br/>"
   ]
  },
  {
   "cell_type": "markdown",
   "metadata": {},
   "source": [
    "### 결측치 처리"
   ]
  },
  {
   "cell_type": "code",
   "execution_count": null,
   "metadata": {
    "ExecuteTime": {
     "end_time": "2022-03-10T04:24:56.884065Z",
     "start_time": "2022-03-10T04:24:56.860491Z"
    }
   },
   "outputs": [],
   "source": [
    "# 나이 데이터의 결측치 개수를 구하세요.\n",
    "cnt = 0\n",
    "\n",
    "for i in range(len(data)) :\n",
    "    if data[i][1] == 'nan' :\n",
    "        cnt += 1\n",
    "        \n",
    "print(cnt)"
   ]
  },
  {
   "cell_type": "code",
   "execution_count": null,
   "metadata": {
    "ExecuteTime": {
     "end_time": "2022-03-10T04:24:59.065342Z",
     "start_time": "2022-03-10T04:24:58.921034Z"
    }
   },
   "outputs": [],
   "source": [
    "# 평균으로 결측치를 채우세요.\n",
    "\n",
    "# 데이터 복사 (그대로 실행)\n",
    "import copy\n",
    "data2 = copy.deepcopy(data)\n",
    "\n",
    "# 평균 나이를 avg에 저장하세요. (이전 문제)\n",
    "total = 0\n",
    "cnt = 0\n",
    "\n",
    "for i in range(len(data)) :\n",
    "    if data[i][1] != 'nan' :\n",
    "        total += data[i][1]\n",
    "        cnt += 1\n",
    "        \n",
    "avg = round(total / cnt, 1)\n",
    "\n",
    "# data2의 결측치를 avg로 대체하세요.\n",
    "\n",
    "for i in range(len(data2)) :\n",
    "    if data2[i][1] == 'nan' :\n",
    "        data2[i][1] = avg\n",
    "        \n",
    "data2"
   ]
  },
  {
   "cell_type": "code",
   "execution_count": null,
   "metadata": {
    "ExecuteTime": {
     "end_time": "2022-03-10T04:25:06.567249Z",
     "start_time": "2022-03-10T04:25:06.448517Z"
    }
   },
   "outputs": [],
   "source": [
    "# 결측치가 존재하는 데이터를 제거하세요.\n",
    "idx = [] # 결측치가 존재하는 데이터의 인덱스\n",
    "\n",
    "for i in range(len(data)) :\n",
    "    if data[i][1] == 'nan' :\n",
    "        idx.append(i)\n",
    "        \n",
    "print(idx)\n",
    "\n",
    "# idx의 인덱스 제거\n",
    "for i in idx[::-1] :\n",
    "    data.pop(i)\n",
    "\n",
    "data"
   ]
  },
  {
   "cell_type": "markdown",
   "metadata": {},
   "source": [
    "<br/>\n",
    "<br/>"
   ]
  },
  {
   "cell_type": "markdown",
   "metadata": {},
   "source": [
    "### 그룹화"
   ]
  },
  {
   "cell_type": "code",
   "execution_count": null,
   "metadata": {
    "ExecuteTime": {
     "end_time": "2022-03-10T04:25:16.603164Z",
     "start_time": "2022-03-10T04:25:16.579120Z"
    }
   },
   "outputs": [],
   "source": [
    "# 남성, 여성 별 생존율을 구하세요.\n",
    "male_total = 0\n",
    "male_cnt = 0\n",
    "female_total = 0\n",
    "female_cnt = 0\n",
    "\n",
    "for i in range(len(data)) :\n",
    "    if data[i][0] == 'male' :\n",
    "        male_total += data[i][-1]\n",
    "        male_cnt += 1\n",
    "    else :\n",
    "        female_total += data[i][-1]\n",
    "        female_cnt += 1\n",
    "    \n",
    "print(f'남성 생존율 : {100*(male_total / male_cnt):.2f} %')\n",
    "print(f'여성 생존율 : {100*(female_total / female_cnt):.2f} %')"
   ]
  },
  {
   "cell_type": "code",
   "execution_count": null,
   "metadata": {
    "ExecuteTime": {
     "end_time": "2022-03-10T04:25:20.580065Z",
     "start_time": "2022-03-10T04:25:20.566212Z"
    }
   },
   "outputs": [],
   "source": [
    "# 탑승클래스 별 생존율을 구하세요.\n",
    "first_total = 0\n",
    "first_cnt = 0\n",
    "second_total = 0\n",
    "second_cnt = 0\n",
    "third_total = 0\n",
    "third_cnt = 0\n",
    "\n",
    "\n",
    "\n",
    "\n",
    "\n",
    "\n",
    "\n",
    "\n",
    "\n",
    "\n",
    "    \n",
    "print(f'1등석 탑승자 생존율 : {100*(first_total / first_cnt):.2f} %')\n",
    "print(f'2등석 탑승자 생존율 : {100*(second_total / second_cnt):.2f} %')\n",
    "print(f'3등석 탑승자 생존율 : {100*(third_total / third_cnt):.2f} %')"
   ]
  }
 ],
 "metadata": {
  "kernelspec": {
   "display_name": "Python 3 (ipykernel)",
   "language": "python",
   "name": "python3"
  },
  "language_info": {
   "codemirror_mode": {
    "name": "ipython",
    "version": 3
   },
   "file_extension": ".py",
   "mimetype": "text/x-python",
   "name": "python",
   "nbconvert_exporter": "python",
   "pygments_lexer": "ipython3",
   "version": "3.9.7"
  },
  "toc": {
   "base_numbering": 1,
   "nav_menu": {},
   "number_sections": true,
   "sideBar": true,
   "skip_h1_title": false,
   "title_cell": "Table of Contents",
   "title_sidebar": "Contents",
   "toc_cell": false,
   "toc_position": {},
   "toc_section_display": true,
   "toc_window_display": false
  },
  "varInspector": {
   "cols": {
    "lenName": 16,
    "lenType": 16,
    "lenVar": 40
   },
   "kernels_config": {
    "python": {
     "delete_cmd_postfix": "",
     "delete_cmd_prefix": "del ",
     "library": "var_list.py",
     "varRefreshCmd": "print(var_dic_list())"
    },
    "r": {
     "delete_cmd_postfix": ") ",
     "delete_cmd_prefix": "rm(",
     "library": "var_list.r",
     "varRefreshCmd": "cat(var_dic_list()) "
    }
   },
   "types_to_exclude": [
    "module",
    "function",
    "builtin_function_or_method",
    "instance",
    "_Feature"
   ],
   "window_display": false
  }
 },
 "nbformat": 4,
 "nbformat_minor": 4
}
