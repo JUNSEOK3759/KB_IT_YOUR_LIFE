{
 "cells": [
  {
   "cell_type": "markdown",
   "metadata": {},
   "source": [
    "### Pandas\n",
    "    Pandas는 Panel Datas의 약자\n",
    "    파이썬을 이용한 데이타 분석에서 가장 많이 사용되는 라이브러리\n",
    "    Numpy기반으로 만들어졌다\n",
    "    \n",
    "    Padnas 자료구조\n",
    "    1. Series - 1차원 배열(벡터)    \n",
    "    2. DataFrame - 2차원 배열(메트릭스) 가장 중요(엑셀표 형식)    \n",
    "    3. Panel - 3차원(대상아님)"
   ]
  },
  {
   "cell_type": "markdown",
   "metadata": {},
   "source": [
    "### Series\n",
    "\n",
    "### 1.시리즈 생성, 구조확인"
   ]
  },
  {
   "cell_type": "code",
   "execution_count": 1,
   "metadata": {},
   "outputs": [],
   "source": [
    "import numpy as np\n",
    "import pandas as pd\n",
    "from pandas import Series, DataFrame"
   ]
  },
  {
   "cell_type": "code",
   "execution_count": 2,
   "metadata": {},
   "outputs": [],
   "source": [
    "# Series?"
   ]
  },
  {
   "cell_type": "code",
   "execution_count": 3,
   "metadata": {},
   "outputs": [
    {
     "data": {
      "text/plain": [
       "0    1\n",
       "1    2\n",
       "2    3\n",
       "3    4\n",
       "4    5\n",
       "dtype: int64"
      ]
     },
     "execution_count": 3,
     "metadata": {},
     "output_type": "execute_result"
    }
   ],
   "source": [
    "ser = Series([1,2,3,4,5])\n",
    "ser"
   ]
  },
  {
   "cell_type": "code",
   "execution_count": 12,
   "metadata": {},
   "outputs": [
    {
     "name": "stdout",
     "output_type": "stream",
     "text": [
      "0       1\n",
      "1       2\n",
      "2     3.0\n",
      "3    네 번째\n",
      "4       5\n",
      "dtype: object\n",
      "========================================\n",
      "1\n",
      "네 번째\n"
     ]
    }
   ],
   "source": [
    "ser1 = Series([1,'2', 3.0, '네 번째', 5])#여러데이터 타입의 값들을 섞어서 입력\n",
    "print(ser1)\n",
    "\n",
    "# 가장 범위가 넓은 것은 string인데, pandas에서는 object라고 표기된다.\n",
    "# 따라서, pandas에서 dtype : object라고 나오면, string(문자열)이라고 생각하면 된다.\n",
    "\n",
    "print('=' * 40)\n",
    "print(ser1[0])\n",
    "print(ser1[3])"
   ]
  },
  {
   "cell_type": "code",
   "execution_count": 19,
   "metadata": {},
   "outputs": [
    {
     "name": "stdout",
     "output_type": "stream",
     "text": [
      "RangeIndex(start=0, stop=5, step=1)\n",
      "[19 15 14 10 14]\n",
      "int32\n",
      "0    19\n",
      "1    15\n",
      "2    14\n",
      "3    10\n",
      "4    14\n",
      "dtype: int32\n"
     ]
    }
   ],
   "source": [
    "ser2 = Series(np.random.randint(10, 20, 5))\n",
    "print(ser2.index) # RangeIndex(start=0, stop=5, step=1)는 range(0, 5, 1)과 똑같다고 보면 된다.\n",
    "print(ser2.values)\n",
    "print(ser2.dtype)\n",
    "print(ser2)"
   ]
  },
  {
   "cell_type": "code",
   "execution_count": 34,
   "metadata": {},
   "outputs": [
    {
     "name": "stdout",
     "output_type": "stream",
     "text": [
      "Index(['a', 'b', 'c', 'd', 'e'], dtype='object')\n",
      "[10 10 18 19 10]\n",
      "int32\n",
      "a    10\n",
      "b    10\n",
      "c    18\n",
      "d    19\n",
      "e    10\n",
      "dtype: int32\n",
      "(5,)\n",
      "\n",
      " ****************************************\n",
      "1    15\n",
      "2    11\n",
      "3    11\n",
      "4    18\n",
      "5    10\n",
      "dtype: int32\n"
     ]
    }
   ],
   "source": [
    "#인덱스를 명시적으로 지정할 수 있다.\n",
    "\n",
    "ser2 = Series(np.random.randint(10, 20, 5), index = list('abcde'))\n",
    "print(ser2.index) \n",
    "print(ser2.values)\n",
    "print(ser2.dtype)\n",
    "print(ser2)\n",
    "\n",
    "print(ser1.shape)\n",
    "# series는 1차원이기에 series의 shape은 데이터 사이즈와 같다.\n",
    "print('\\n','*'*40)\n",
    "ser2 = Series(np.random.randint(10, 20, 5), index = list(range(1, 6)))\n",
    "print(ser2)"
   ]
  },
  {
   "cell_type": "markdown",
   "metadata": {},
   "source": [
    "### 2.시리즈 값 조회하기\n",
    "    단일값을 선택하거나 여러값을 선택할때\n",
    "    1)인덱스로 라벨을 사용할수 있다.\n",
    "    \n",
    "    2)슬라이싱 방법\n",
    "        - 라벨사용 : 마지막 라벨 포함됨 ['a' : 'd']\n",
    "        - 숫자사용 : 마지막 숫자 포함 안됨"
   ]
  },
  {
   "cell_type": "code",
   "execution_count": null,
   "metadata": {},
   "outputs": [],
   "source": []
  },
  {
   "cell_type": "code",
   "execution_count": null,
   "metadata": {},
   "outputs": [],
   "source": []
  },
  {
   "cell_type": "code",
   "execution_count": null,
   "metadata": {},
   "outputs": [],
   "source": []
  },
  {
   "cell_type": "code",
   "execution_count": null,
   "metadata": {},
   "outputs": [],
   "source": []
  },
  {
   "cell_type": "code",
   "execution_count": null,
   "metadata": {},
   "outputs": [],
   "source": []
  },
  {
   "cell_type": "markdown",
   "metadata": {},
   "source": [
    "### 3. 누락 데이타 조회하기\n",
    "\n",
    "* isnull() \n",
    "* notnull()\n",
    "   "
   ]
  },
  {
   "cell_type": "code",
   "execution_count": null,
   "metadata": {},
   "outputs": [],
   "source": []
  },
  {
   "cell_type": "code",
   "execution_count": null,
   "metadata": {},
   "outputs": [],
   "source": []
  },
  {
   "cell_type": "code",
   "execution_count": null,
   "metadata": {},
   "outputs": [],
   "source": []
  },
  {
   "cell_type": "code",
   "execution_count": null,
   "metadata": {},
   "outputs": [],
   "source": []
  },
  {
   "cell_type": "markdown",
   "metadata": {},
   "source": [
    "### 4. Pandas를 이용한 시각화\n",
    "#### 누락데이타가 아닌 데이타를 한눈에 보여준다"
   ]
  },
  {
   "cell_type": "code",
   "execution_count": null,
   "metadata": {},
   "outputs": [],
   "source": []
  }
 ],
 "metadata": {
  "kernelspec": {
   "display_name": "Python 3 (ipykernel)",
   "language": "python",
   "name": "python3"
  },
  "language_info": {
   "codemirror_mode": {
    "name": "ipython",
    "version": 3
   },
   "file_extension": ".py",
   "mimetype": "text/x-python",
   "name": "python",
   "nbconvert_exporter": "python",
   "pygments_lexer": "ipython3",
   "version": "3.9.7"
  }
 },
 "nbformat": 4,
 "nbformat_minor": 4
}
