{
 "cells": [
  {
   "cell_type": "markdown",
   "metadata": {},
   "source": [
    "### Pandas\n",
    "    Pandas는 Panel Datas의 약자\n",
    "    파이썬을 이용한 데이타 분석에서 가장 많이 사용되는 라이브러리\n",
    "    Numpy기반으로 만들어졌다\n",
    "    \n",
    "    Padnas 자료구조\n",
    "    1. Series - 1차원 배열(벡터)    \n",
    "    2. DataFrame - 2차원 배열(메트릭스) 가장 중요(엑셀표 형식)    \n",
    "    3. Panel - 3차원(대상아님)"
   ]
  },
  {
   "cell_type": "markdown",
   "metadata": {},
   "source": [
    "### Series\n",
    "\n",
    "### 1.시리즈 생성, 구조확인"
   ]
  },
  {
   "cell_type": "code",
   "execution_count": 1,
   "metadata": {},
   "outputs": [],
   "source": [
    "import numpy as np\n",
    "import pandas as pd\n",
    "from pandas import Series, DataFrame"
   ]
  },
  {
   "cell_type": "code",
   "execution_count": 2,
   "metadata": {},
   "outputs": [],
   "source": [
    "# Series?"
   ]
  },
  {
   "cell_type": "code",
   "execution_count": 3,
   "metadata": {},
   "outputs": [
    {
     "data": {
      "text/plain": [
       "0    1\n",
       "1    2\n",
       "2    3\n",
       "3    4\n",
       "4    5\n",
       "dtype: int64"
      ]
     },
     "execution_count": 3,
     "metadata": {},
     "output_type": "execute_result"
    }
   ],
   "source": [
    "ser = Series([1,2,3,4,5])\n",
    "ser"
   ]
  },
  {
   "cell_type": "code",
   "execution_count": 4,
   "metadata": {},
   "outputs": [],
   "source": [
    "# ser1 = Series([1,'2', 3.0, '네 번째', 5])#여러데이터 타입의 값들을 섞어서 입력\n",
    "# print(ser1)\n",
    "\n",
    "# # 가장 범위가 넓은 것은 string인데, pandas에서는 object라고 표기된다.\n",
    "# # 따라서, pandas에서 dtype : object라고 나오면, string(문자열)이라고 생각하면 된다.\n",
    "\n",
    "# print('=' * 40)\n",
    "# print(ser1[0])\n",
    "# print(ser1[3])"
   ]
  },
  {
   "cell_type": "code",
   "execution_count": 5,
   "metadata": {},
   "outputs": [],
   "source": [
    "# ser1 = Series(np.random.randint(10, 20, 5))\n",
    "# print(ser1.index) # RangeIndex(start=0, stop=5, step=1)는 range(0, 5, 1)과 똑같다고 보면 된다.\n",
    "# print(ser1.values)\n",
    "# print(ser1.dtype)\n",
    "# print(ser1)"
   ]
  },
  {
   "cell_type": "code",
   "execution_count": 6,
   "metadata": {},
   "outputs": [
    {
     "name": "stdout",
     "output_type": "stream",
     "text": [
      "Index(['a', 'b', 'c', 'd', 'e'], dtype='object')\n",
      "[13 18 19 17 11]\n",
      "int32\n",
      "a    13\n",
      "b    18\n",
      "c    19\n",
      "d    17\n",
      "e    11\n",
      "dtype: int32\n",
      "13\n",
      "13\n",
      "(5,)\n",
      "\n",
      " ****************************************\n"
     ]
    }
   ],
   "source": [
    "#인덱스를 명시적으로 지정할 수 있다.\n",
    "\n",
    "ser1 = Series(np.random.randint(10, 20, 5), index = list('abcde'))\n",
    "print(ser1.index) \n",
    "print(ser1.values)\n",
    "print(ser1.dtype)\n",
    "print(ser1)\n",
    "print(ser1['a'])\n",
    "print(ser1[0]) # 기본 인덱스도 동작한다.\n",
    "\n",
    "print(ser1.shape)\n",
    "# series는 1차원이기에 series의 shape은 데이터 사이즈와 같다.\n",
    "print('\\n','*'*40)\n",
    "# ser1 = Series(np.random.randint(10, 20, 5), index = list(range(1, 6)))\n",
    "# print(ser1)"
   ]
  },
  {
   "cell_type": "markdown",
   "metadata": {},
   "source": [
    "### 2.시리즈 값 조회하기\n",
    "    단일값을 선택하거나 여러값을 선택할때\n",
    "    1)인덱스로 라벨을 사용할수 있다.\n",
    "    \n",
    "    2)슬라이싱 방법\n",
    "        - 라벨사용 : 마지막 라벨 포함됨 ['a' : 'd']\n",
    "        - 숫자사용 : 마지막 숫자 포함 안됨"
   ]
  },
  {
   "cell_type": "code",
   "execution_count": 8,
   "metadata": {},
   "outputs": [
    {
     "data": {
      "text/plain": [
       "a    13\n",
       "b    18\n",
       "c    19\n",
       "d    17\n",
       "e    11\n",
       "dtype: int32"
      ]
     },
     "execution_count": 8,
     "metadata": {},
     "output_type": "execute_result"
    }
   ],
   "source": [
    "ser1"
   ]
  },
  {
   "cell_type": "code",
   "execution_count": 19,
   "metadata": {},
   "outputs": [
    {
     "name": "stdout",
     "output_type": "stream",
     "text": [
      "b    18\n",
      "c    19\n",
      "d    17\n",
      "dtype: int32\n",
      "b    18\n",
      "c    19\n",
      "d    17\n",
      "dtype: int32\n"
     ]
    }
   ],
   "source": [
    "#숫자로도 라벨로도 가능\n",
    "'''\n",
    "\n",
    "라벨 슬라이싱의 경우 \n",
    "마지막 라벨이 포함된다!!\n",
    "'''\n",
    "ser1[0]\n",
    "ser1['a']\n",
    "\n",
    "print(ser1[1:4]) # 숫자로 슬라이싱 하는 경우에는 1, 2, 3을 가져온다. \n",
    "# 기존 배열에서 배운 슬라이싱에서는 마지막 것은 가져오지 않는다.\n",
    "# print(ser1['a':4]) # 이는 에러남\n",
    "print(ser1['b':'d']) #슬라이싱에서 라벨을 쓸 때는 마지막 것도 가져온다."
   ]
  },
  {
   "cell_type": "code",
   "execution_count": 24,
   "metadata": {},
   "outputs": [
    {
     "data": {
      "text/plain": [
       "a    13\n",
       "c    19\n",
       "e    11\n",
       "dtype: int32"
      ]
     },
     "execution_count": 24,
     "metadata": {},
     "output_type": "execute_result"
    }
   ],
   "source": [
    "ser1[:2] # 0, 1 추출\n",
    "ser1_1 = ser1[::2]\n",
    "ser1_1"
   ]
  },
  {
   "cell_type": "code",
   "execution_count": 28,
   "metadata": {},
   "outputs": [
    {
     "name": "stdout",
     "output_type": "stream",
     "text": [
      "a    13\n",
      "b    18\n",
      "c    19\n",
      "d    17\n",
      "e    11\n",
      "dtype: int32\n",
      "a    13\n",
      "c    19\n",
      "e    11\n",
      "dtype: int32\n"
     ]
    }
   ],
   "source": [
    "print(ser1)\n",
    "print(ser1_1)"
   ]
  },
  {
   "cell_type": "markdown",
   "metadata": {},
   "source": [
    "#### 시리즈간의 연산"
   ]
  },
  {
   "cell_type": "markdown",
   "metadata": {},
   "source": [
    "'''\n",
    "pandas는 값없음, 결측데이터, 누락 데이터는 모두 같은 말이다.\n",
    "이는 모두 NaN으로 표현해준다.\n",
    "\n",
    "Series끼리 더했을 때,  같은 행 값들끼리 더해지는데, 같은 행이 없다면 \n",
    "그 값들은 NaN 값이 나온다.\n",
    "\n",
    "\n",
    "dtype이 float64가 나온 이유도 NaN 때문이다.\n",
    "\n",
    "NaN의 데이터타입이 float64이기 때문이다. NaN이 나오지 않았다면 int32가 나왔을 것이다.\n",
    "'''"
   ]
  },
  {
   "cell_type": "code",
   "execution_count": 46,
   "metadata": {},
   "outputs": [
    {
     "name": "stdout",
     "output_type": "stream",
     "text": [
      "a    26.0\n",
      "b     NaN\n",
      "c    38.0\n",
      "d     NaN\n",
      "e    22.0\n",
      "dtype: float64\n"
     ]
    }
   ],
   "source": [
    "resSer = ser1 + ser1_1       \n",
    "print(resSer)"
   ]
  },
  {
   "cell_type": "markdown",
   "metadata": {},
   "source": [
    "### 3. 누락 데이타 조회하기\n",
    "\n",
    "* isnull() \n",
    "* notnull()\n",
    "   "
   ]
  },
  {
   "cell_type": "code",
   "execution_count": 55,
   "metadata": {},
   "outputs": [
    {
     "name": "stdout",
     "output_type": "stream",
     "text": [
      "a    False\n",
      "b     True\n",
      "c    False\n",
      "d     True\n",
      "e    False\n",
      "dtype: bool\n",
      "b   NaN\n",
      "d   NaN\n",
      "dtype: float64\n",
      "%%%%%%%%%%%%%%%%%%%%%%%%%%%%%%%%%%%%%%%%\n",
      "2\n"
     ]
    }
   ],
   "source": [
    "print(resSer.isnull())\n",
    "print(resSer[resSer.isnull()])\n",
    "print('%' * 40)\n",
    "print(resSer.isnull().sum()) ## null의 갯수 파악"
   ]
  },
  {
   "cell_type": "code",
   "execution_count": 50,
   "metadata": {},
   "outputs": [
    {
     "name": "stdout",
     "output_type": "stream",
     "text": [
      "a     True\n",
      "b    False\n",
      "c     True\n",
      "d    False\n",
      "e     True\n",
      "dtype: bool\n",
      "a    26.0\n",
      "c    38.0\n",
      "e    22.0\n",
      "dtype: float64\n"
     ]
    }
   ],
   "source": [
    "print(resSer.notnull())\n",
    "print(resSer[resSer.notnull()])"
   ]
  },
  {
   "cell_type": "code",
   "execution_count": null,
   "metadata": {},
   "outputs": [],
   "source": []
  },
  {
   "cell_type": "code",
   "execution_count": null,
   "metadata": {},
   "outputs": [],
   "source": []
  },
  {
   "cell_type": "markdown",
   "metadata": {},
   "source": [
    "### 4. Pandas를 이용한 시각화\n",
    "#### 누락데이타가 아닌 데이타를 한눈에 보여준다"
   ]
  },
  {
   "cell_type": "code",
   "execution_count": 58,
   "metadata": {},
   "outputs": [
    {
     "data": {
      "image/png": "[encoded data removed]",
      "text/plain": [
       "<Figure size 432x288 with 1 Axes>"
      ]
     },
     "metadata": {
      "needs_background": "light"
     },
     "output_type": "display_data"
    }
   ],
   "source": [
    "import matplotlib.pyplot as plt\n",
    "\n",
    "resSer[resSer.notnull()].plot(kind = 'bar')\n",
    "plt.show()"
   ]
  },
  {
   "cell_type": "code",
   "execution_count": null,
   "metadata": {},
   "outputs": [],
   "source": []
  }
 ],
 "metadata": {
  "kernelspec": {
   "display_name": "Python 3 (ipykernel)",
   "language": "python",
   "name": "python3"
  },
  "language_info": {
   "codemirror_mode": {
    "name": "ipython",
    "version": 3
   },
   "file_extension": ".py",
   "mimetype": "text/x-python",
   "name": "python",
   "nbconvert_exporter": "python",
   "pygments_lexer": "ipython3",
   "version": "3.9.7"
  }
 },
 "nbformat": 4,
 "nbformat_minor": 4
}
