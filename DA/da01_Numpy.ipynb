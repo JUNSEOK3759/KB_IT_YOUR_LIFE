{
 "cells": [
  {
   "cell_type": "markdown",
   "metadata": {},
   "source": [
    "### Numpy\n",
    "    Numeric Python의 약자\n",
    "    수학분야 관련 통계 연산작업시 사용\n",
    "    과학 계산 컴퓨팅, 데이타 분석에 필요한 기본적인 패키지\n",
    "    \n",
    "    Numpy배열은 리스트와 거의 흡사\n",
    "    리스트보다 훨씬 빠르고 메모리 효율성이 높아서 성능상 우의를 차지한다.\n",
    "        \n",
    "    Numpy는 가장 기본이 되는 패키지로,   \n",
    "    바로 다음으로 배우게 될 Pandas는 Numpy를 기반으로 만들어졌다\n",
    "    \n",
    "    Numpy는 사용에 앞서서 import 해서 사용해야 한다.\n",
    "    Numpy 배열 만드는 방법\n",
    "    1) array() 사용\n",
    "    2) random 모듈의 랜덤함수 사용"
   ]
  },
  {
   "cell_type": "markdown",
   "metadata": {},
   "source": [
    "#### Numpy 버전 체크"
   ]
  },
  {
   "cell_type": "code",
   "execution_count": 4,
   "metadata": {},
   "outputs": [
    {
     "data": {
      "text/plain": [
       "'numpy'"
      ]
     },
     "execution_count": 4,
     "metadata": {},
     "output_type": "execute_result"
    }
   ],
   "source": [
    "import numpy as np\n",
    "\n",
    "np.__version__\n",
    "\n",
    "np.__name__"
   ]
  },
  {
   "cell_type": "markdown",
   "metadata": {},
   "source": [
    "### 1. np 배열 생성 | 리스트와 비교\n",
    "    array() 함수 사용 | rand() 함수 사용"
   ]
  },
  {
   "cell_type": "markdown",
   "metadata": {},
   "source": [
    "#### array 함수"
   ]
  },
  {
   "cell_type": "code",
   "execution_count": 23,
   "metadata": {},
   "outputs": [
    {
     "name": "stdout",
     "output_type": "stream",
     "text": [
      "[1, 2, 3, 4, 4, 5, 6, 7]\n",
      "[1 2 3 4]\n",
      "[4 5 6 7]\n",
      "========================================\n",
      "[ 5  7  9 11]\n",
      "[ 4 10 18 28]\n"
     ]
    }
   ],
   "source": [
    "a = [1,2,3,4]\n",
    "b = [4,5,6,7]\n",
    "numpy_a = np.array(a)\n",
    "numpy_b = np.array(b)\n",
    "summ = a + b\n",
    "print(summ)\n",
    "print(numpy_a)\n",
    "print(numpy_b)\n",
    "print('='* 40)\n",
    "sum = numpy_a + numpy_b\n",
    "print(sum)\n",
    "mul = numpy_a * numpy_b\n",
    "print(mul)"
   ]
  },
  {
   "cell_type": "code",
   "execution_count": 29,
   "metadata": {},
   "outputs": [
    {
     "name": "stdout",
     "output_type": "stream",
     "text": [
      "[4, 5, 6, 7]\n",
      "[4 5 6 7]\n",
      "<class 'list'>\n",
      "<class 'numpy.ndarray'>\n"
     ]
    }
   ],
   "source": [
    "myList = [4, 5, 6, 7]\n",
    "myArr = np.array(myList)\n",
    "print(myList)\n",
    "print(myArr)\n",
    "\n",
    "print(type(myList))\n",
    "print(type(myArr))\n",
    "\n",
    "# ndarray : 다차원 행렬 구조를 지원하는 numpy의 핵심 클래스"
   ]
  },
  {
   "cell_type": "code",
   "execution_count": 30,
   "metadata": {},
   "outputs": [
    {
     "data": {
      "text/plain": [
       "array([[1, 2, 3],\n",
       "       [4, 5, 6],\n",
       "       [7, 8, 9]])"
      ]
     },
     "execution_count": 30,
     "metadata": {},
     "output_type": "execute_result"
    }
   ],
   "source": [
    "np.array([ [1,2,3],\n",
    "           [4,5,6],\n",
    "           [7,8,9] ])"
   ]
  },
  {
   "cell_type": "code",
   "execution_count": 41,
   "metadata": {},
   "outputs": [
    {
     "name": "stdout",
     "output_type": "stream",
     "text": [
      "[5, 6]\n",
      "[-5  6]\n",
      "[-5, 6]\n",
      "[-5  6]\n",
      "========================================\n",
      "[4, 5, 6, 7]\n",
      "[ 4 -5  6  7]\n"
     ]
    }
   ],
   "source": [
    "# myList는 다른 변수에 할당한 값을 바꿔도 기존 변수에 저장된 값은 바뀌지 않지만,\n",
    "# myArr은 다른 변수에 할당한 값을 바꿔주면 기존 변수도 바뀌는 것을 알 수 있다.\n",
    "\n",
    "'''\n",
    "\n",
    "리스트는 원본이 안바뀐다. 변경을 하게되면 기존의 것을 카피해놓고 새롭게 생성한 뷰를\n",
    "쓰는 것이다.\n",
    "\n",
    "반면에 nd배열은 데이터를 변경하면 원본뷰가 수정된다.\n",
    "\n",
    "이것이 메모리상에서의 리스트와 nd배열의 가장 큰 차이점이다.\n",
    "\n",
    "-->\n",
    "메모리 효율성과 연관되는 부분이 발생한다.\n",
    "'''\n",
    "\n",
    "\n",
    "myList_sub = myList[1:3]\n",
    "print(myList_sub)\n",
    "myArr_sub = myArr[1:3]\n",
    "print(myArr_sub)\n",
    "\n",
    "myList_sub[0] = -5\n",
    "print(myList_sub)\n",
    "myArr_sub[0] = -5\n",
    "print(myArr_sub)\n",
    "\n",
    "print('=' * 40)\n",
    "\n",
    "print(myList)\n",
    "print(myArr)"
   ]
  },
  {
   "cell_type": "markdown",
   "metadata": {},
   "source": [
    "#### random 모듈의 난수 생성"
   ]
  },
  {
   "cell_type": "code",
   "execution_count": 66,
   "metadata": {},
   "outputs": [
    {
     "name": "stdout",
     "output_type": "stream",
     "text": [
      "[0.78713214 0.10680494 0.48644643 0.40698553 0.54812997]\n",
      "<class 'numpy.ndarray'>\n",
      "[2 9 6 2 7]\n",
      "<class 'numpy.ndarray'>\n",
      "[ 0.50197085  0.64456815  0.83109538  0.18540648 -1.07293777  1.97506425\n",
      " -1.29312778 -0.83331647  1.06291233  1.1314089 ]\n",
      "<class 'numpy.ndarray'>\n",
      "[[ 0.18668922 -0.71792847  0.47857931  0.66356919 -1.35387531]\n",
      " [ 0.69930684  0.26791885 -0.22138394  0.00270664  0.27282943]\n",
      " [-1.00995884 -0.12500446  1.1509325   0.13223056  0.22708121]]\n",
      "[[9 6 4 7 7]\n",
      " [6 7 5 5 1]\n",
      " [9 3 1 1 5]]\n"
     ]
    }
   ],
   "source": [
    "a = np.random.rand(5)\n",
    "print(a)\n",
    "print(type(a))\n",
    "\n",
    "b = np.random.randint(1, 10, 5) # 1부터 9 사이의 정수 5개 추출\n",
    "print(b)\n",
    "print(type(b))\n",
    "\n",
    "c = np.random.randn(10) ## randn은 정규분포에 해당하는 값을 가져온다.\n",
    "# randn값은 머신이 학습하기 좋은 데이터이다.\n",
    "print(c)\n",
    "print(type(c))\n",
    "\n",
    "d = np.random.randn(3,5) # 3행 5열의 난수값을 생성한다.\n",
    "print(d)\n",
    "\n",
    "e = np.random.randint(1, 10, (3,5)) # 3행 5열의 정수값 생성\n",
    "print(e)"
   ]
  },
  {
   "cell_type": "code",
   "execution_count": null,
   "metadata": {},
   "outputs": [],
   "source": []
  },
  {
   "cell_type": "code",
   "execution_count": null,
   "metadata": {},
   "outputs": [],
   "source": []
  },
  {
   "cell_type": "markdown",
   "metadata": {},
   "source": [
    "### 2. np배열의 초기화\n",
    "    zeros(),ones(), arange()..함수를 이용해서 배열 생성과 동시에 특정한 값으로\n",
    "    초기화 할 수 있다"
   ]
  },
  {
   "cell_type": "code",
   "execution_count": 85,
   "metadata": {},
   "outputs": [
    {
     "name": "stdout",
     "output_type": "stream",
     "text": [
      "[0. 0. 0. 0. 0. 0. 0. 0. 0. 0.]\n",
      "[1. 1. 1. 1. 1. 1. 1. 1. 1. 1.]\n",
      "[[1. 0. 0.]\n",
      " [0. 1. 0.]\n",
      " [0. 0. 1.]]\n",
      "[[1. 0. 0. 0. 0.]\n",
      " [0. 1. 0. 0. 0.]\n",
      " [0. 0. 1. 0. 0.]\n",
      " [0. 0. 0. 1. 0.]\n",
      " [0. 0. 0. 0. 1.]]\n",
      "[0 1 2]\n",
      "[3 4 5 6]\n",
      "[3 5 7 9]\n",
      "========================================\n",
      "[7. 7. 7. 7. 7. 7. 7. 7. 7. 7.]\n",
      "[11. 11. 11. 11. 11. 11. 11. 11. 11. 11.]\n",
      "[[23 23 23 23 23]\n",
      " [23 23 23 23 23]\n",
      " [23 23 23 23 23]\n",
      " [23 23 23 23 23]\n",
      " [23 23 23 23 23]\n",
      " [23 23 23 23 23]\n",
      " [23 23 23 23 23]]\n"
     ]
    }
   ],
   "source": [
    "# 실수형으로 만들어진다. \n",
    "az = np.zeros(10)\n",
    "print(az)\n",
    "\n",
    "#\n",
    "ao= np.ones(10)\n",
    "print(ao)\n",
    "\n",
    "#3. eye\n",
    "ae = np.eye(3)\n",
    "print(ae)\n",
    "ae1 = np.eye(5)\n",
    "print(ae1)\n",
    "\n",
    "#4. arange()\n",
    "\n",
    "print(np.arange(3))\n",
    "print(np.arange(3, 7))\n",
    "print(np.arange(3, 10, 2))\n",
    "\n",
    "print('=' * 40)\n",
    "\n",
    "# 5. zeros와 ones로 다른 값도 만들기\n",
    "ao= np.ones(10) * 7\n",
    "print(ao)\n",
    "\n",
    "print(np.zeros(10) + 11)\n",
    "\n",
    "af = np.full((7, 5), 23) ## 23으로 7,5행렬을 모두 채운다.\n",
    "print(af)"
   ]
  },
  {
   "cell_type": "code",
   "execution_count": null,
   "metadata": {},
   "outputs": [],
   "source": []
  },
  {
   "cell_type": "code",
   "execution_count": null,
   "metadata": {},
   "outputs": [],
   "source": []
  },
  {
   "cell_type": "code",
   "execution_count": null,
   "metadata": {},
   "outputs": [],
   "source": []
  },
  {
   "cell_type": "markdown",
   "metadata": {},
   "source": [
    "#### np배열과 리스트의 차이점\n",
    "    1. np배열은 원본을 바로 바꿈으로써 메모리 효율성이 뛰어나다\n",
    "    2. 리스트는 여러가지 자료형이 원소로 올수 있지만\n",
    "       np배열은 한가지 자료형만 원소로 쓰일수 있다"
   ]
  },
  {
   "cell_type": "code",
   "execution_count": 92,
   "metadata": {},
   "outputs": [
    {
     "name": "stdout",
     "output_type": "stream",
     "text": [
      "[1, 2, 3.9, '4', 'KB']\n",
      "<class 'list'>\n",
      "['1' '2' '3.9' '4' 'KB']\n",
      "<class 'numpy.ndarray'>\n"
     ]
    }
   ],
   "source": [
    "L = [1,2, 3.9,'4', 'KB']\n",
    "print(L)\n",
    "print(type (L))\n",
    "\n",
    "AL = np.array(L)\n",
    "print(AL) # 한가지 자료형만 원소로 올 수 있으므로 가장 큰 데이터 타입인 문자로 변환된다.\n",
    "print(type(AL))"
   ]
  },
  {
   "cell_type": "code",
   "execution_count": 101,
   "metadata": {},
   "outputs": [
    {
     "name": "stdout",
     "output_type": "stream",
     "text": [
      "[1.  6.  3.  9.2]\n",
      "<class 'numpy.ndarray'>\n",
      "[1. 2. 3. 4.]\n",
      "[1. 2. 3. 4.]\n",
      "1\n",
      "(4,)\n",
      "4\n"
     ]
    }
   ],
   "source": [
    "A2 = np.array([1,6,3,9.2])\n",
    "print(A2) # 전부 다 실수형으로 변환된다.\n",
    "print(type(A2))\n",
    "\n",
    "A3 = np.array([1,2,3,4], dtype = 'float')\n",
    "print(A3)\n",
    "\n",
    "A4 = np.array([1,2,3,4], dtype = np.float64)\n",
    "print(A4)\n",
    "\n",
    "print(A4.ndim)\n",
    "print(A4.shape)\n",
    "print(A4.size)"
   ]
  },
  {
   "cell_type": "markdown",
   "metadata": {},
   "source": [
    "### 3. Numpy 배열에서 사용되는 함수, 속성\n",
    "     * ndim  \n",
    "     * shape\n",
    "     * size\n",
    "     * dtype\n",
    "     * T  ==> 3X5행렬을 5X3으로 바꾼다. 행과 열을 바꾼다. T = > transpose\n",
    "     \n",
    "     reshape() type() astype()"
   ]
  },
  {
   "cell_type": "code",
   "execution_count": 107,
   "metadata": {},
   "outputs": [
    {
     "name": "stdout",
     "output_type": "stream",
     "text": [
      "120\n",
      "136\n"
     ]
    }
   ],
   "source": [
    "import sys\n",
    "arr = np.array([1,2,3,4]) ## dtype = np.int32로 고정되어 있다.\n",
    "arr_f = np.array([1,2,3,4], dtype = np.int64)\n",
    "\n",
    "\n",
    "print(sys.getsizeof(arr))\n",
    "print(sys.getsizeof(arr_f))\n",
    "\n",
    "# int32와 64는 밑과 같지 메모리를 차지하는 공간이 다르다."
   ]
  },
  {
   "cell_type": "code",
   "execution_count": 110,
   "metadata": {},
   "outputs": [
    {
     "data": {
      "text/plain": [
       "array([[1, 2, 3],\n",
       "       [4, 5, 6]])"
      ]
     },
     "execution_count": 110,
     "metadata": {},
     "output_type": "execute_result"
    }
   ],
   "source": [
    "arr1 = np.array([[1.0, 2, 3 ],\n",
    "                 [4, 5, 6]], dtype = np.int32)\n",
    "arr1"
   ]
  },
  {
   "cell_type": "code",
   "execution_count": 130,
   "metadata": {},
   "outputs": [
    {
     "name": "stdout",
     "output_type": "stream",
     "text": [
      "<class 'numpy.ndarray'>\n",
      "2\n",
      "(2, 3)\n",
      "******************************\n",
      "2\n",
      "(2, 3)\n",
      "6\n",
      "int32\n",
      "******************************\n",
      "float32\n",
      "******************************\n"
     ]
    },
    {
     "data": {
      "text/plain": [
       "array([[ 0,  1,  2,  3,  4,  5,  6,  7],\n",
       "       [ 8,  9, 10, 11, 12, 13, 14, 15],\n",
       "       [16, 17, 18, 19, 20, 21, 22, 23],\n",
       "       [24, 25, 26, 27, 28, 29, 30, 31]])"
      ]
     },
     "execution_count": 130,
     "metadata": {},
     "output_type": "execute_result"
    }
   ],
   "source": [
    "#함수사용,,,,,,,,\n",
    "print(type(arr1))\n",
    "print(np.ndim(arr1))\n",
    "print(np.shape(arr1))\n",
    "\n",
    "print('*' * 30)\n",
    "\n",
    "print(arr1.ndim)\n",
    "print(arr1.shape)\n",
    "print(arr1.size)\n",
    "\n",
    "print(arr1.dtype)\n",
    "\n",
    "print('*' * 30)\n",
    "\n",
    "#ndarray안에 들어있는 모든 요소들의 타입을 한방에 바꿔버리는 기능... astype\n",
    "arr1_1 = arr1.astype(np.float32)                   \n",
    "print(arr1_1.dtype)\n",
    "\n",
    "print('*' * 30)\n",
    "\n",
    "arr_r = np.arange(32).reshape(4,8)\n",
    "arr_r"
   ]
  },
  {
   "cell_type": "markdown",
   "metadata": {},
   "source": [
    "### 4. Numpy Indexing, Slicing\n",
    "\n",
    "파이썬에서 사용하던 인덱스, 슬라이싱과 동일"
   ]
  },
  {
   "cell_type": "markdown",
   "metadata": {},
   "source": [
    "#### Indexing"
   ]
  },
  {
   "cell_type": "markdown",
   "metadata": {},
   "source": [
    "`1차원 인덱싱`"
   ]
  },
  {
   "cell_type": "code",
   "execution_count": 150,
   "metadata": {},
   "outputs": [
    {
     "name": "stdout",
     "output_type": "stream",
     "text": [
      "[2 3 4]\n",
      "[5 4 3 2 1]\n"
     ]
    }
   ],
   "source": [
    "arr1 = np.array([1,2,3,4,5])\n",
    "arr1\n",
    "\n",
    "arr1[2] # 3\n",
    "arr1[-1] # 5\n",
    "# arr1.[6] # error\n",
    "\n",
    "arr1[:2] #슬라이싱 가능\n",
    "print(arr1[-4:-1]) # [2 3 4]\n",
    "print(arr1[::-1])"
   ]
  },
  {
   "cell_type": "code",
   "execution_count": null,
   "metadata": {},
   "outputs": [],
   "source": []
  },
  {
   "cell_type": "markdown",
   "metadata": {},
   "source": [
    "#### 조건 인덱싱"
   ]
  },
  {
   "cell_type": "code",
   "execution_count": 151,
   "metadata": {},
   "outputs": [
    {
     "data": {
      "text/plain": [
       "array([[ 1.76405235,  0.40015721,  0.97873798,  2.2408932 ],\n",
       "       [ 1.86755799, -0.97727788,  0.95008842, -0.15135721],\n",
       "       [-0.10321885,  0.4105985 ,  0.14404357,  1.45427351],\n",
       "       [ 0.76103773,  0.12167502,  0.44386323,  0.33367433]])"
      ]
     },
     "execution_count": 151,
     "metadata": {},
     "output_type": "execute_result"
    }
   ],
   "source": [
    "np.random.seed(0)\n",
    "\n",
    "arr1 = np.random.randn(4,4)\n",
    "arr1"
   ]
  },
  {
   "cell_type": "code",
   "execution_count": 154,
   "metadata": {},
   "outputs": [
    {
     "name": "stdout",
     "output_type": "stream",
     "text": [
      "[[False False False False]\n",
      " [False  True False  True]\n",
      " [ True False False False]\n",
      " [False False False False]]\n",
      "[-0.97727788 -0.15135721 -0.10321885]\n"
     ]
    }
   ],
   "source": [
    "#1. 논리연산자를 사용해서 값을 받아옴\n",
    "print(arr1 < 0) # 불린으로 나옴\n",
    "print(arr1[arr1<0]) # 0보다 작은 값을 추출"
   ]
  },
  {
   "cell_type": "code",
   "execution_count": 155,
   "metadata": {},
   "outputs": [
    {
     "data": {
      "text/plain": [
       "array([[1.76405235, 0.40015721, 0.97873798, 2.2408932 ],\n",
       "       [1.86755799, 0.        , 0.95008842, 0.        ],\n",
       "       [0.        , 0.4105985 , 0.14404357, 1.45427351],\n",
       "       [0.76103773, 0.12167502, 0.44386323, 0.33367433]])"
      ]
     },
     "execution_count": 155,
     "metadata": {},
     "output_type": "execute_result"
    }
   ],
   "source": [
    "arr1[arr1<0] = 0 # ndarray는 원본이 바뀐다.\n",
    "arr1"
   ]
  },
  {
   "cell_type": "markdown",
   "metadata": {},
   "source": [
    "`2차원 인덱싱과 reshape  \n",
    " reshape는 변환전과 후의 행과 열 곱한 수가 동일해야 한다\n",
    "`"
   ]
  },
  {
   "cell_type": "markdown",
   "metadata": {},
   "source": [
    "`2차원 배열 슬라이싱과 reshape`"
   ]
  },
  {
   "cell_type": "code",
   "execution_count": 161,
   "metadata": {},
   "outputs": [
    {
     "data": {
      "text/plain": [
       "array([[ 0,  1,  2,  3,  4,  5,  6,  7],\n",
       "       [ 8,  9, 10, 11, 12, 13, 14, 15],\n",
       "       [16, 17, 18, 19, 20, 21, 22, 23],\n",
       "       [24, 25, 26, 27, 28, 29, 30, 31]])"
      ]
     },
     "execution_count": 161,
     "metadata": {},
     "output_type": "execute_result"
    }
   ],
   "source": [
    "arr2 = np.arange(32).reshape(4, -1)\n",
    "arr2"
   ]
  },
  {
   "cell_type": "code",
   "execution_count": 165,
   "metadata": {},
   "outputs": [
    {
     "data": {
      "text/plain": [
       "array([[ 1,  2],\n",
       "       [ 9, 10],\n",
       "       [17, 18],\n",
       "       [25, 26]])"
      ]
     },
     "execution_count": 165,
     "metadata": {},
     "output_type": "execute_result"
    }
   ],
   "source": [
    "arr2[:, 1:3]"
   ]
  },
  {
   "cell_type": "code",
   "execution_count": 166,
   "metadata": {},
   "outputs": [
    {
     "data": {
      "text/plain": [
       "array([[25, 26]])"
      ]
     },
     "execution_count": 166,
     "metadata": {},
     "output_type": "execute_result"
    }
   ],
   "source": [
    "arr2[-1:, 1:3]"
   ]
  },
  {
   "cell_type": "code",
   "execution_count": 164,
   "metadata": {},
   "outputs": [
    {
     "data": {
      "text/plain": [
       "array([[ 1,  2],\n",
       "       [ 9, 10],\n",
       "       [17, 18],\n",
       "       [25, 26]])"
      ]
     },
     "execution_count": 164,
     "metadata": {},
     "output_type": "execute_result"
    }
   ],
   "source": [
    "arr2[:, np.arange(1, 3)]"
   ]
  },
  {
   "cell_type": "markdown",
   "metadata": {},
   "source": [
    "### 5. 정렬\n",
    "\n",
    "np.sort(arr)"
   ]
  },
  {
   "cell_type": "code",
   "execution_count": 179,
   "metadata": {},
   "outputs": [],
   "source": [
    "arr3 = np.array([1, 10, 5, 8, 2, 4, 3, 6, 8, 9, 10])"
   ]
  },
  {
   "cell_type": "code",
   "execution_count": 180,
   "metadata": {},
   "outputs": [
    {
     "data": {
      "text/plain": [
       "array([ 1,  2,  3,  4,  5,  6,  8,  8,  9, 10, 10])"
      ]
     },
     "execution_count": 180,
     "metadata": {},
     "output_type": "execute_result"
    }
   ],
   "source": [
    "np.sort(arr3)"
   ]
  },
  {
   "cell_type": "code",
   "execution_count": 181,
   "metadata": {},
   "outputs": [
    {
     "data": {
      "text/plain": [
       "array([ 1, 10,  5,  8,  2,  4,  3,  6,  8,  9, 10])"
      ]
     },
     "execution_count": 181,
     "metadata": {},
     "output_type": "execute_result"
    }
   ],
   "source": [
    "arr3"
   ]
  },
  {
   "cell_type": "markdown",
   "metadata": {},
   "source": [
    "`하지만 이 값들은 유지되지 않습니다.\n",
    "`"
   ]
  },
  {
   "cell_type": "code",
   "execution_count": 189,
   "metadata": {},
   "outputs": [],
   "source": [
    "# arr3 = np.sort(arr3)"
   ]
  },
  {
   "cell_type": "code",
   "execution_count": null,
   "metadata": {},
   "outputs": [],
   "source": []
  },
  {
   "cell_type": "code",
   "execution_count": 175,
   "metadata": {},
   "outputs": [
    {
     "data": {
      "text/plain": [
       "array([ 1,  2,  3,  4,  5,  6,  8,  8,  9, 10, 10])"
      ]
     },
     "execution_count": 175,
     "metadata": {},
     "output_type": "execute_result"
    }
   ],
   "source": [
    "# arr3"
   ]
  },
  {
   "cell_type": "markdown",
   "metadata": {},
   "source": [
    "`같은 변수로 할당해주면 된다.\n",
    "`"
   ]
  },
  {
   "cell_type": "markdown",
   "metadata": {},
   "source": [
    "`\n",
    "데이터분석은 대부분 원본 데이터를 가지고 작업을 하는 것이다.\n",
    "원본 데이터가 손상된다면 문제가 생길 수 있기 때문에 arr3.sort()처럼 바로 바뀌지 않도록 하기 위해서\n",
    "위와 같이 설정해놓은 것이다.\n",
    "실제 작업할 때는 np.sort()를 사용하는 것이 데이터 손상을 막기에는 좋다.\n",
    "`"
   ]
  },
  {
   "cell_type": "code",
   "execution_count": 183,
   "metadata": {},
   "outputs": [
    {
     "data": {
      "text/plain": [
       "array([ 1,  2,  3,  4,  5,  6,  8,  8,  9, 10, 10])"
      ]
     },
     "execution_count": 183,
     "metadata": {},
     "output_type": "execute_result"
    }
   ],
   "source": [
    "arr3.sort()\n",
    "arr3 # 이런식으로 sort하게되면 값이 유지된다."
   ]
  },
  {
   "cell_type": "code",
   "execution_count": 188,
   "metadata": {},
   "outputs": [
    {
     "name": "stdout",
     "output_type": "stream",
     "text": [
      "<class 'numpy.ndarray'>\n",
      "<class 'NoneType'>\n"
     ]
    }
   ],
   "source": [
    "print(type(np.sort(arr3)))\n",
    "print(type(arr3.sort()))"
   ]
  },
  {
   "cell_type": "code",
   "execution_count": null,
   "metadata": {},
   "outputs": [],
   "source": []
  },
  {
   "cell_type": "code",
   "execution_count": null,
   "metadata": {},
   "outputs": [],
   "source": []
  },
  {
   "cell_type": "code",
   "execution_count": null,
   "metadata": {},
   "outputs": [],
   "source": []
  },
  {
   "cell_type": "markdown",
   "metadata": {},
   "source": [
    "#### N차원 정렬"
   ]
  },
  {
   "cell_type": "code",
   "execution_count": 191,
   "metadata": {},
   "outputs": [
    {
     "data": {
      "text/plain": [
       "array([[ 5,  6,  7,  8],\n",
       "       [ 4,  3,  2,  1],\n",
       "       [10,  9, 12, 11]])"
      ]
     },
     "execution_count": 191,
     "metadata": {},
     "output_type": "execute_result"
    }
   ],
   "source": [
    "arr2d = np.array([[5,6,7,8], \n",
    "                  [4,3,2,1],\n",
    "                  [10, 9, 12, 11]])\n",
    "\n",
    "arr2d.shape\n",
    "arr2d"
   ]
  },
  {
   "cell_type": "markdown",
   "metadata": {},
   "source": [
    "`\n",
    "열방향 정렬 = > axis = 1\n",
    "행방향 정렬 = > axis = 0\n",
    "axis만 쓰고 값을 할당하지 않으면 디폴트값 0\n",
    "`"
   ]
  },
  {
   "cell_type": "code",
   "execution_count": 196,
   "metadata": {},
   "outputs": [
    {
     "data": {
      "text/plain": [
       "array([[ 5,  6,  7,  8],\n",
       "       [ 1,  2,  3,  4],\n",
       "       [ 9, 10, 11, 12]])"
      ]
     },
     "execution_count": 196,
     "metadata": {},
     "output_type": "execute_result"
    }
   ],
   "source": [
    "np.sort(arr2d, axis=1) # 열으로 정렬\n"
   ]
  },
  {
   "cell_type": "code",
   "execution_count": 197,
   "metadata": {},
   "outputs": [
    {
     "data": {
      "text/plain": [
       "array([[ 4,  3,  2,  1],\n",
       "       [ 5,  6,  7,  8],\n",
       "       [10,  9, 12, 11]])"
      ]
     },
     "execution_count": 197,
     "metadata": {},
     "output_type": "execute_result"
    }
   ],
   "source": [
    "np.sort(arr2d, axis=0) # 행으로 정렬"
   ]
  },
  {
   "cell_type": "code",
   "execution_count": null,
   "metadata": {},
   "outputs": [],
   "source": []
  },
  {
   "cell_type": "code",
   "execution_count": null,
   "metadata": {},
   "outputs": [],
   "source": []
  }
 ],
 "metadata": {
  "kernelspec": {
   "display_name": "Python 3 (ipykernel)",
   "language": "python",
   "name": "python3"
  },
  "language_info": {
   "codemirror_mode": {
    "name": "ipython",
    "version": 3
   },
   "file_extension": ".py",
   "mimetype": "text/x-python",
   "name": "python",
   "nbconvert_exporter": "python",
   "pygments_lexer": "ipython3",
   "version": "3.9.7"
  }
 },
 "nbformat": 4,
 "nbformat_minor": 4
}
