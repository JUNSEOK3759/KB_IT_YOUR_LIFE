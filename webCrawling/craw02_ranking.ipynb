{
 "cells": [
  {
   "cell_type": "markdown",
   "id": "60645530",
   "metadata": {},
   "source": [
    "#### 순위 데이타 가져오기\n",
    "\n",
    "인터넷 사용자들이 방문하는 웹 사이트의 방문 정보등 웹 트래픽을 분석해서 웹 사이트의 순위를 제공하는  \n",
    "웹 사이트가 있다.  \n",
    "아마존 계열사인 알렉사(Alexa Internet.Inc)의 경우 전 세계적으로 혹은 나라별로 웹 사이트의 순위 정보를 제공한다.  \n",
    "나라별로 제공하는 웹 사이트 순위에서 한국을 선택하면 한국 사용자들의 방문 정보를 바탕으로 웹 사이트  \n",
    "순위 정보를 제공한다. \n",
    "\n",
    "https://www.alexa.com/topsItes/countries/KR"
   ]
  },
  {
   "cell_type": "code",
   "execution_count": 1,
   "id": "992986da",
   "metadata": {},
   "outputs": [],
   "source": [
    "import requests\n",
    "from bs4 import BeautifulSoup"
   ]
  },
  {
   "cell_type": "code",
   "execution_count": 26,
   "id": "706aa73c",
   "metadata": {},
   "outputs": [
    {
     "name": "stdout",
     "output_type": "stream",
     "text": [
      "Google.com\n",
      "Naver.com\n",
      "Youtube.com\n",
      "Tistory.com\n",
      "Daum.net\n",
      "Kakao.com\n",
      "Instagram.com\n",
      "Facebook.com\n",
      "Namu.wiki\n",
      "Coupang.com\n",
      "Google.co.kr\n",
      "Dcinside.com\n",
      "Fmkorea.com\n",
      "Twitter.com\n",
      "Amazon.com\n",
      "Nicovideo.jp\n",
      "Wikipedia.org\n",
      "Github.com\n",
      "Nate.com\n",
      "Ruliweb.com\n",
      "Chosun.com\n",
      "Gmarket.co.kr\n",
      "Saramin.co.kr\n",
      "Yna.co.kr\n",
      "Zoom.us\n",
      "Notion.so\n",
      "Inven.co.kr\n",
      "Cafe24.com\n",
      "Netflix.com\n",
      "Twitch.tv\n",
      "11st.co.kr\n",
      "Linkedin.com\n",
      "Aliexpress.com\n",
      "Danawa.com\n",
      "Brunch.co.kr\n",
      "Mk.co.kr\n",
      "Donga.com\n",
      "Apple.com\n",
      "Afreecatv.com\n",
      "Auction.co.kr\n",
      "Rakuten.co.jp\n",
      "Hankyung.com\n",
      "Jobkorea.co.kr\n",
      "Microsoft.com\n",
      "Clien.net\n",
      "Ppomppu.co.kr\n",
      "Theqoo.net\n",
      "Joongang.co.kr\n",
      "Kakaku.com\n",
      "Arca.live\n"
     ]
    }
   ],
   "source": [
    "# 순위 5위까지의 랭킹을 가져온다.\n",
    "url = 'https://www.alexa.com/topsItes/countries/KR'\n",
    "\n",
    "rank = requests.get(url).text\n",
    "soup = BeautifulSoup(rank, 'html.parser')\n",
    "\n",
    "ranks = soup.select(\"div>p>a\")\n",
    "\n",
    "\n",
    "a = []\n",
    "for i in ranks:\n",
    "    a.append(i.text)\n",
    "for i in a:\n",
    "    print(i)   "
   ]
  },
  {
   "cell_type": "code",
   "execution_count": 19,
   "id": "9389af34",
   "metadata": {},
   "outputs": [
    {
     "name": "stdout",
     "output_type": "stream",
     "text": [
      "1.Naver.com\n",
      "2.Youtube.com\n",
      "3.Tistory.com\n",
      "4.Daum.net\n",
      "5.Kakao.com\n"
     ]
    }
   ],
   "source": [
    "# 순위 5위까지의 랭킹 사이트 이름만\n",
    "for k in range(1, 6):\n",
    "    print(\"{}.{}\".format(k, ranks[k].text))"
   ]
  },
  {
   "cell_type": "code",
   "execution_count": 36,
   "id": "dc15bb12",
   "metadata": {
    "scrolled": false
   },
   "outputs": [
    {
     "data": {
      "text/html": [
       "<div>\n",
       "<style scoped>\n",
       "    .dataframe tbody tr th:only-of-type {\n",
       "        vertical-align: middle;\n",
       "    }\n",
       "\n",
       "    .dataframe tbody tr th {\n",
       "        vertical-align: top;\n",
       "    }\n",
       "\n",
       "    .dataframe thead th {\n",
       "        text-align: right;\n",
       "    }\n",
       "</style>\n",
       "<table border=\"1\" class=\"dataframe\">\n",
       "  <thead>\n",
       "    <tr style=\"text-align: right;\">\n",
       "      <th></th>\n",
       "      <th>WebSite</th>\n",
       "    </tr>\n",
       "  </thead>\n",
       "  <tbody>\n",
       "    <tr>\n",
       "      <th>0</th>\n",
       "      <td>[Google.com]</td>\n",
       "    </tr>\n",
       "    <tr>\n",
       "      <th>1</th>\n",
       "      <td>[Naver.com]</td>\n",
       "    </tr>\n",
       "    <tr>\n",
       "      <th>2</th>\n",
       "      <td>[Youtube.com]</td>\n",
       "    </tr>\n",
       "    <tr>\n",
       "      <th>3</th>\n",
       "      <td>[Tistory.com]</td>\n",
       "    </tr>\n",
       "    <tr>\n",
       "      <th>4</th>\n",
       "      <td>[Daum.net]</td>\n",
       "    </tr>\n",
       "  </tbody>\n",
       "</table>\n",
       "</div>"
      ],
      "text/plain": [
       "         WebSite\n",
       "0   [Google.com]\n",
       "1    [Naver.com]\n",
       "2  [Youtube.com]\n",
       "3  [Tistory.com]\n",
       "4     [Daum.net]"
      ]
     },
     "execution_count": 36,
     "metadata": {},
     "output_type": "execute_result"
    }
   ],
   "source": [
    "# DataFrame으로 변환하기\n",
    "import pandas as pd\n",
    "\n",
    "rank_dic = {'WebSite' : ranks}\n",
    "df= pd.DataFrame(rank_dic, columns = ['WebSite'])\n",
    "# 구글이 없어지고 나온다.\n",
    "df.head(5)"
   ]
  },
  {
   "cell_type": "code",
   "execution_count": null,
   "id": "9d0c188a",
   "metadata": {},
   "outputs": [],
   "source": []
  }
 ],
 "metadata": {
  "kernelspec": {
   "display_name": "Python 3 (ipykernel)",
   "language": "python",
   "name": "python3"
  },
  "language_info": {
   "codemirror_mode": {
    "name": "ipython",
    "version": 3
   },
   "file_extension": ".py",
   "mimetype": "text/x-python",
   "name": "python",
   "nbconvert_exporter": "python",
   "pygments_lexer": "ipython3",
   "version": "3.9.7"
  }
 },
 "nbformat": 4,
 "nbformat_minor": 5
}
