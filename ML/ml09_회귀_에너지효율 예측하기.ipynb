{
 "cells": [
  {
   "cell_type": "markdown",
   "metadata": {},
   "source": [
    "## 필수 패키지 로드"
   ]
  },
  {
   "cell_type": "code",
   "execution_count": 3,
   "metadata": {
    "ExecuteTime": {
     "end_time": "2022-03-07T07:57:03.127988Z",
     "start_time": "2022-03-07T07:57:01.181581Z"
    }
   },
   "outputs": [],
   "source": [
    "import numpy as np\n",
    "import pandas as pd\n",
    "import matplotlib.pyplot as plt\n",
    "import seaborn as sns"
   ]
  },
  {
   "cell_type": "markdown",
   "metadata": {},
   "source": [
    "## 데이터 읽기 및 조회\n",
    "\n",
    " - 상위 5개 샘플(행) 조회"
   ]
  },
  {
   "cell_type": "code",
   "execution_count": 4,
   "metadata": {
    "ExecuteTime": {
     "end_time": "2022-03-07T07:57:04.055884Z",
     "start_time": "2022-03-07T07:57:03.127988Z"
    }
   },
   "outputs": [
    {
     "data": {
      "text/html": [
       "<div>\n",
       "<style scoped>\n",
       "    .dataframe tbody tr th:only-of-type {\n",
       "        vertical-align: middle;\n",
       "    }\n",
       "\n",
       "    .dataframe tbody tr th {\n",
       "        vertical-align: top;\n",
       "    }\n",
       "\n",
       "    .dataframe thead th {\n",
       "        text-align: right;\n",
       "    }\n",
       "</style>\n",
       "<table border=\"1\" class=\"dataframe\">\n",
       "  <thead>\n",
       "    <tr style=\"text-align: right;\">\n",
       "      <th></th>\n",
       "      <th>X1</th>\n",
       "      <th>X2</th>\n",
       "      <th>X3</th>\n",
       "      <th>X4</th>\n",
       "      <th>X5</th>\n",
       "      <th>X6</th>\n",
       "      <th>X7</th>\n",
       "      <th>X8</th>\n",
       "      <th>Y1</th>\n",
       "      <th>Y2</th>\n",
       "    </tr>\n",
       "  </thead>\n",
       "  <tbody>\n",
       "    <tr>\n",
       "      <th>0</th>\n",
       "      <td>0.98</td>\n",
       "      <td>514.5</td>\n",
       "      <td>294.0</td>\n",
       "      <td>110.25</td>\n",
       "      <td>7.0</td>\n",
       "      <td>2</td>\n",
       "      <td>0.0</td>\n",
       "      <td>0</td>\n",
       "      <td>15.55</td>\n",
       "      <td>21.33</td>\n",
       "    </tr>\n",
       "    <tr>\n",
       "      <th>1</th>\n",
       "      <td>0.98</td>\n",
       "      <td>514.5</td>\n",
       "      <td>294.0</td>\n",
       "      <td>110.25</td>\n",
       "      <td>7.0</td>\n",
       "      <td>3</td>\n",
       "      <td>0.0</td>\n",
       "      <td>0</td>\n",
       "      <td>15.55</td>\n",
       "      <td>21.33</td>\n",
       "    </tr>\n",
       "    <tr>\n",
       "      <th>2</th>\n",
       "      <td>0.98</td>\n",
       "      <td>514.5</td>\n",
       "      <td>294.0</td>\n",
       "      <td>110.25</td>\n",
       "      <td>7.0</td>\n",
       "      <td>4</td>\n",
       "      <td>0.0</td>\n",
       "      <td>0</td>\n",
       "      <td>15.55</td>\n",
       "      <td>21.33</td>\n",
       "    </tr>\n",
       "    <tr>\n",
       "      <th>3</th>\n",
       "      <td>0.98</td>\n",
       "      <td>514.5</td>\n",
       "      <td>294.0</td>\n",
       "      <td>110.25</td>\n",
       "      <td>7.0</td>\n",
       "      <td>5</td>\n",
       "      <td>0.0</td>\n",
       "      <td>0</td>\n",
       "      <td>15.55</td>\n",
       "      <td>21.33</td>\n",
       "    </tr>\n",
       "    <tr>\n",
       "      <th>4</th>\n",
       "      <td>0.90</td>\n",
       "      <td>563.5</td>\n",
       "      <td>318.5</td>\n",
       "      <td>122.50</td>\n",
       "      <td>7.0</td>\n",
       "      <td>2</td>\n",
       "      <td>0.0</td>\n",
       "      <td>0</td>\n",
       "      <td>20.84</td>\n",
       "      <td>28.28</td>\n",
       "    </tr>\n",
       "  </tbody>\n",
       "</table>\n",
       "</div>"
      ],
      "text/plain": [
       "     X1     X2     X3      X4   X5  X6   X7  X8     Y1     Y2\n",
       "0  0.98  514.5  294.0  110.25  7.0   2  0.0   0  15.55  21.33\n",
       "1  0.98  514.5  294.0  110.25  7.0   3  0.0   0  15.55  21.33\n",
       "2  0.98  514.5  294.0  110.25  7.0   4  0.0   0  15.55  21.33\n",
       "3  0.98  514.5  294.0  110.25  7.0   5  0.0   0  15.55  21.33\n",
       "4  0.90  563.5  318.5  122.50  7.0   2  0.0   0  20.84  28.28"
      ]
     },
     "execution_count": 4,
     "metadata": {},
     "output_type": "execute_result"
    }
   ],
   "source": [
    "df = pd.read_excel('../dataset/ENB2012_data.xlsx')\n",
    "df.head()"
   ]
  },
  {
   "cell_type": "markdown",
   "metadata": {},
   "source": [
    " - 샘플과 특성 개수 확인 (shape)"
   ]
  },
  {
   "cell_type": "code",
   "execution_count": 5,
   "metadata": {
    "ExecuteTime": {
     "end_time": "2022-03-07T07:57:04.079963Z",
     "start_time": "2022-03-07T07:57:04.055884Z"
    }
   },
   "outputs": [
    {
     "data": {
      "text/plain": [
       "(768, 10)"
      ]
     },
     "execution_count": 5,
     "metadata": {},
     "output_type": "execute_result"
    }
   ],
   "source": [
    "df.shape"
   ]
  },
  {
   "cell_type": "markdown",
   "metadata": {},
   "source": [
    " - 아래 열 이름을 참고하여 df의 열 이름을 변경\n",
    " - ['relative_compactness', 'surface_area', 'wall_area', 'roof_area', 'overall_height', 'orientation', 'glazing_area', 'glazing_area_distribution', 'heating_load', 'cooling_load']"
   ]
  },
  {
   "cell_type": "code",
   "execution_count": 6,
   "metadata": {
    "ExecuteTime": {
     "end_time": "2022-03-07T07:57:04.153948Z",
     "start_time": "2022-03-07T07:57:04.082161Z"
    }
   },
   "outputs": [
    {
     "data": {
      "text/html": [
       "<div>\n",
       "<style scoped>\n",
       "    .dataframe tbody tr th:only-of-type {\n",
       "        vertical-align: middle;\n",
       "    }\n",
       "\n",
       "    .dataframe tbody tr th {\n",
       "        vertical-align: top;\n",
       "    }\n",
       "\n",
       "    .dataframe thead th {\n",
       "        text-align: right;\n",
       "    }\n",
       "</style>\n",
       "<table border=\"1\" class=\"dataframe\">\n",
       "  <thead>\n",
       "    <tr style=\"text-align: right;\">\n",
       "      <th></th>\n",
       "      <th>relative_compactness</th>\n",
       "      <th>surface_area</th>\n",
       "      <th>wall_area</th>\n",
       "      <th>roof_area</th>\n",
       "      <th>overall_height</th>\n",
       "      <th>orientation</th>\n",
       "      <th>glazing_area</th>\n",
       "      <th>glazing_area_distribution</th>\n",
       "      <th>heating_load</th>\n",
       "      <th>cooling_load</th>\n",
       "    </tr>\n",
       "  </thead>\n",
       "  <tbody>\n",
       "    <tr>\n",
       "      <th>0</th>\n",
       "      <td>0.98</td>\n",
       "      <td>514.5</td>\n",
       "      <td>294.0</td>\n",
       "      <td>110.25</td>\n",
       "      <td>7.0</td>\n",
       "      <td>2</td>\n",
       "      <td>0.0</td>\n",
       "      <td>0</td>\n",
       "      <td>15.55</td>\n",
       "      <td>21.33</td>\n",
       "    </tr>\n",
       "    <tr>\n",
       "      <th>1</th>\n",
       "      <td>0.98</td>\n",
       "      <td>514.5</td>\n",
       "      <td>294.0</td>\n",
       "      <td>110.25</td>\n",
       "      <td>7.0</td>\n",
       "      <td>3</td>\n",
       "      <td>0.0</td>\n",
       "      <td>0</td>\n",
       "      <td>15.55</td>\n",
       "      <td>21.33</td>\n",
       "    </tr>\n",
       "    <tr>\n",
       "      <th>2</th>\n",
       "      <td>0.98</td>\n",
       "      <td>514.5</td>\n",
       "      <td>294.0</td>\n",
       "      <td>110.25</td>\n",
       "      <td>7.0</td>\n",
       "      <td>4</td>\n",
       "      <td>0.0</td>\n",
       "      <td>0</td>\n",
       "      <td>15.55</td>\n",
       "      <td>21.33</td>\n",
       "    </tr>\n",
       "    <tr>\n",
       "      <th>3</th>\n",
       "      <td>0.98</td>\n",
       "      <td>514.5</td>\n",
       "      <td>294.0</td>\n",
       "      <td>110.25</td>\n",
       "      <td>7.0</td>\n",
       "      <td>5</td>\n",
       "      <td>0.0</td>\n",
       "      <td>0</td>\n",
       "      <td>15.55</td>\n",
       "      <td>21.33</td>\n",
       "    </tr>\n",
       "    <tr>\n",
       "      <th>4</th>\n",
       "      <td>0.90</td>\n",
       "      <td>563.5</td>\n",
       "      <td>318.5</td>\n",
       "      <td>122.50</td>\n",
       "      <td>7.0</td>\n",
       "      <td>2</td>\n",
       "      <td>0.0</td>\n",
       "      <td>0</td>\n",
       "      <td>20.84</td>\n",
       "      <td>28.28</td>\n",
       "    </tr>\n",
       "    <tr>\n",
       "      <th>...</th>\n",
       "      <td>...</td>\n",
       "      <td>...</td>\n",
       "      <td>...</td>\n",
       "      <td>...</td>\n",
       "      <td>...</td>\n",
       "      <td>...</td>\n",
       "      <td>...</td>\n",
       "      <td>...</td>\n",
       "      <td>...</td>\n",
       "      <td>...</td>\n",
       "    </tr>\n",
       "    <tr>\n",
       "      <th>763</th>\n",
       "      <td>0.64</td>\n",
       "      <td>784.0</td>\n",
       "      <td>343.0</td>\n",
       "      <td>220.50</td>\n",
       "      <td>3.5</td>\n",
       "      <td>5</td>\n",
       "      <td>0.4</td>\n",
       "      <td>5</td>\n",
       "      <td>17.88</td>\n",
       "      <td>21.40</td>\n",
       "    </tr>\n",
       "    <tr>\n",
       "      <th>764</th>\n",
       "      <td>0.62</td>\n",
       "      <td>808.5</td>\n",
       "      <td>367.5</td>\n",
       "      <td>220.50</td>\n",
       "      <td>3.5</td>\n",
       "      <td>2</td>\n",
       "      <td>0.4</td>\n",
       "      <td>5</td>\n",
       "      <td>16.54</td>\n",
       "      <td>16.88</td>\n",
       "    </tr>\n",
       "    <tr>\n",
       "      <th>765</th>\n",
       "      <td>0.62</td>\n",
       "      <td>808.5</td>\n",
       "      <td>367.5</td>\n",
       "      <td>220.50</td>\n",
       "      <td>3.5</td>\n",
       "      <td>3</td>\n",
       "      <td>0.4</td>\n",
       "      <td>5</td>\n",
       "      <td>16.44</td>\n",
       "      <td>17.11</td>\n",
       "    </tr>\n",
       "    <tr>\n",
       "      <th>766</th>\n",
       "      <td>0.62</td>\n",
       "      <td>808.5</td>\n",
       "      <td>367.5</td>\n",
       "      <td>220.50</td>\n",
       "      <td>3.5</td>\n",
       "      <td>4</td>\n",
       "      <td>0.4</td>\n",
       "      <td>5</td>\n",
       "      <td>16.48</td>\n",
       "      <td>16.61</td>\n",
       "    </tr>\n",
       "    <tr>\n",
       "      <th>767</th>\n",
       "      <td>0.62</td>\n",
       "      <td>808.5</td>\n",
       "      <td>367.5</td>\n",
       "      <td>220.50</td>\n",
       "      <td>3.5</td>\n",
       "      <td>5</td>\n",
       "      <td>0.4</td>\n",
       "      <td>5</td>\n",
       "      <td>16.64</td>\n",
       "      <td>16.03</td>\n",
       "    </tr>\n",
       "  </tbody>\n",
       "</table>\n",
       "<p>768 rows × 10 columns</p>\n",
       "</div>"
      ],
      "text/plain": [
       "     relative_compactness  surface_area  wall_area  roof_area  overall_height  \\\n",
       "0                    0.98         514.5      294.0     110.25             7.0   \n",
       "1                    0.98         514.5      294.0     110.25             7.0   \n",
       "2                    0.98         514.5      294.0     110.25             7.0   \n",
       "3                    0.98         514.5      294.0     110.25             7.0   \n",
       "4                    0.90         563.5      318.5     122.50             7.0   \n",
       "..                    ...           ...        ...        ...             ...   \n",
       "763                  0.64         784.0      343.0     220.50             3.5   \n",
       "764                  0.62         808.5      367.5     220.50             3.5   \n",
       "765                  0.62         808.5      367.5     220.50             3.5   \n",
       "766                  0.62         808.5      367.5     220.50             3.5   \n",
       "767                  0.62         808.5      367.5     220.50             3.5   \n",
       "\n",
       "     orientation  glazing_area  glazing_area_distribution  heating_load  \\\n",
       "0              2           0.0                          0         15.55   \n",
       "1              3           0.0                          0         15.55   \n",
       "2              4           0.0                          0         15.55   \n",
       "3              5           0.0                          0         15.55   \n",
       "4              2           0.0                          0         20.84   \n",
       "..           ...           ...                        ...           ...   \n",
       "763            5           0.4                          5         17.88   \n",
       "764            2           0.4                          5         16.54   \n",
       "765            3           0.4                          5         16.44   \n",
       "766            4           0.4                          5         16.48   \n",
       "767            5           0.4                          5         16.64   \n",
       "\n",
       "     cooling_load  \n",
       "0           21.33  \n",
       "1           21.33  \n",
       "2           21.33  \n",
       "3           21.33  \n",
       "4           28.28  \n",
       "..            ...  \n",
       "763         21.40  \n",
       "764         16.88  \n",
       "765         17.11  \n",
       "766         16.61  \n",
       "767         16.03  \n",
       "\n",
       "[768 rows x 10 columns]"
      ]
     },
     "execution_count": 6,
     "metadata": {},
     "output_type": "execute_result"
    }
   ],
   "source": [
    "df.columns = ['relative_compactness', 'surface_area', 'wall_area', 'roof_area', 'overall_height',\n",
    "                'orientation', 'glazing_area', 'glazing_area_distribution', 'heating_load', 'cooling_load']\n",
    "df"
   ]
  },
  {
   "cell_type": "markdown",
   "metadata": {},
   "source": [
    " - 정보를 조회"
   ]
  },
  {
   "cell_type": "code",
   "execution_count": 7,
   "metadata": {
    "ExecuteTime": {
     "end_time": "2022-03-07T07:57:04.185955Z",
     "start_time": "2022-03-07T07:57:04.153948Z"
    }
   },
   "outputs": [
    {
     "name": "stdout",
     "output_type": "stream",
     "text": [
      "<class 'pandas.core.frame.DataFrame'>\n",
      "RangeIndex: 768 entries, 0 to 767\n",
      "Data columns (total 10 columns):\n",
      " #   Column                     Non-Null Count  Dtype  \n",
      "---  ------                     --------------  -----  \n",
      " 0   relative_compactness       768 non-null    float64\n",
      " 1   surface_area               768 non-null    float64\n",
      " 2   wall_area                  768 non-null    float64\n",
      " 3   roof_area                  768 non-null    float64\n",
      " 4   overall_height             768 non-null    float64\n",
      " 5   orientation                768 non-null    int64  \n",
      " 6   glazing_area               768 non-null    float64\n",
      " 7   glazing_area_distribution  768 non-null    int64  \n",
      " 8   heating_load               768 non-null    float64\n",
      " 9   cooling_load               768 non-null    float64\n",
      "dtypes: float64(8), int64(2)\n",
      "memory usage: 60.1 KB\n"
     ]
    }
   ],
   "source": [
    "df.info()"
   ]
  },
  {
   "cell_type": "markdown",
   "metadata": {},
   "source": [
    "<br/>\n",
    "<br/>\n",
    "<br/>\n",
    "<br/>"
   ]
  },
  {
   "cell_type": "markdown",
   "metadata": {},
   "source": [
    "## 결측치 처리"
   ]
  },
  {
   "cell_type": "code",
   "execution_count": 8,
   "metadata": {
    "ExecuteTime": {
     "end_time": "2022-03-07T07:57:04.201954Z",
     "start_time": "2022-03-07T07:57:04.185955Z"
    }
   },
   "outputs": [
    {
     "data": {
      "text/plain": [
       "relative_compactness         0\n",
       "surface_area                 0\n",
       "wall_area                    0\n",
       "roof_area                    0\n",
       "overall_height               0\n",
       "orientation                  0\n",
       "glazing_area                 0\n",
       "glazing_area_distribution    0\n",
       "heating_load                 0\n",
       "cooling_load                 0\n",
       "dtype: int64"
      ]
     },
     "execution_count": 8,
     "metadata": {},
     "output_type": "execute_result"
    }
   ],
   "source": [
    "df.isna().sum()"
   ]
  },
  {
   "cell_type": "markdown",
   "metadata": {},
   "source": [
    "<br/>\n",
    "<br/>\n",
    "<br/>\n",
    "<br/>"
   ]
  },
  {
   "cell_type": "markdown",
   "metadata": {},
   "source": [
    "## 데이터 분석\n",
    " - df.hist()를 이용하여 히스토그램을 출력\n",
    " - hist의 옵션으로 figsize=(15,15), bins=10을 적용"
   ]
  },
  {
   "cell_type": "code",
   "execution_count": 9,
   "metadata": {
    "ExecuteTime": {
     "end_time": "2022-03-07T07:57:07.246329Z",
     "start_time": "2022-03-07T07:57:04.201954Z"
    }
   },
   "outputs": [
    {
     "data": {
      "image/png": "[encoded data removed]",
      "text/plain": [
       "<Figure size 1080x1080 with 12 Axes>"
      ]
     },
     "metadata": {
      "needs_background": "light"
     },
     "output_type": "display_data"
    }
   ],
   "source": [
    "df.hist(figsize=(15, 15), bins=10)\n",
    "plt.show()"
   ]
  },
  {
   "cell_type": "markdown",
   "metadata": {},
   "source": [
    " - 각 열의 이상치 존재 여부를 확인"
   ]
  },
  {
   "cell_type": "code",
   "execution_count": 10,
   "metadata": {
    "ExecuteTime": {
     "end_time": "2022-03-07T07:57:07.710154Z",
     "start_time": "2022-03-07T07:57:07.246329Z"
    }
   },
   "outputs": [
    {
     "data": {
      "image/png": "[encoded data removed]",
      "text/plain": [
       "<Figure size 1152x864 with 1 Axes>"
      ]
     },
     "metadata": {
      "needs_background": "light"
     },
     "output_type": "display_data"
    }
   ],
   "source": [
    "df.plot(kind='box', figsize=(16,12))\n",
    "plt.show()"
   ]
  },
  {
   "cell_type": "code",
   "execution_count": 11,
   "metadata": {
    "ExecuteTime": {
     "end_time": "2022-03-07T07:57:09.267634Z",
     "start_time": "2022-03-07T07:57:07.710154Z"
    }
   },
   "outputs": [
    {
     "data": {
      "image/png": "[encoded data removed]",
      "text/plain": [
       "<Figure size 1080x720 with 12 Axes>"
      ]
     },
     "metadata": {
      "needs_background": "light"
     },
     "output_type": "display_data"
    }
   ],
   "source": [
    "df.plot(kind='box', figsize=(15,10), subplots=True, layout=(3, 4))\n",
    "plt.show()"
   ]
  },
  {
   "cell_type": "markdown",
   "metadata": {},
   "source": [
    " - 각 열 별 상관 관계를 출력\n",
    " "
   ]
  },
  {
   "cell_type": "code",
   "execution_count": 12,
   "metadata": {
    "ExecuteTime": {
     "end_time": "2022-03-07T07:57:22.331328Z",
     "start_time": "2022-03-07T07:57:22.283325Z"
    }
   },
   "outputs": [
    {
     "data": {
      "text/html": [
       "<div>\n",
       "<style scoped>\n",
       "    .dataframe tbody tr th:only-of-type {\n",
       "        vertical-align: middle;\n",
       "    }\n",
       "\n",
       "    .dataframe tbody tr th {\n",
       "        vertical-align: top;\n",
       "    }\n",
       "\n",
       "    .dataframe thead th {\n",
       "        text-align: right;\n",
       "    }\n",
       "</style>\n",
       "<table border=\"1\" class=\"dataframe\">\n",
       "  <thead>\n",
       "    <tr style=\"text-align: right;\">\n",
       "      <th></th>\n",
       "      <th>relative_compactness</th>\n",
       "      <th>surface_area</th>\n",
       "      <th>wall_area</th>\n",
       "      <th>roof_area</th>\n",
       "      <th>overall_height</th>\n",
       "      <th>orientation</th>\n",
       "      <th>glazing_area</th>\n",
       "      <th>glazing_area_distribution</th>\n",
       "      <th>heating_load</th>\n",
       "      <th>cooling_load</th>\n",
       "    </tr>\n",
       "  </thead>\n",
       "  <tbody>\n",
       "    <tr>\n",
       "      <th>relative_compactness</th>\n",
       "      <td>1.000</td>\n",
       "      <td>-0.992</td>\n",
       "      <td>-0.204</td>\n",
       "      <td>-0.869</td>\n",
       "      <td>0.828</td>\n",
       "      <td>0.000</td>\n",
       "      <td>-0.000</td>\n",
       "      <td>-0.000</td>\n",
       "      <td>0.622</td>\n",
       "      <td>0.634</td>\n",
       "    </tr>\n",
       "    <tr>\n",
       "      <th>surface_area</th>\n",
       "      <td>-0.992</td>\n",
       "      <td>1.000</td>\n",
       "      <td>0.196</td>\n",
       "      <td>0.881</td>\n",
       "      <td>-0.858</td>\n",
       "      <td>-0.000</td>\n",
       "      <td>0.000</td>\n",
       "      <td>0.000</td>\n",
       "      <td>-0.658</td>\n",
       "      <td>-0.673</td>\n",
       "    </tr>\n",
       "    <tr>\n",
       "      <th>wall_area</th>\n",
       "      <td>-0.204</td>\n",
       "      <td>0.196</td>\n",
       "      <td>1.000</td>\n",
       "      <td>-0.292</td>\n",
       "      <td>0.281</td>\n",
       "      <td>-0.000</td>\n",
       "      <td>-0.000</td>\n",
       "      <td>0.000</td>\n",
       "      <td>0.456</td>\n",
       "      <td>0.427</td>\n",
       "    </tr>\n",
       "    <tr>\n",
       "      <th>roof_area</th>\n",
       "      <td>-0.869</td>\n",
       "      <td>0.881</td>\n",
       "      <td>-0.292</td>\n",
       "      <td>1.000</td>\n",
       "      <td>-0.973</td>\n",
       "      <td>-0.000</td>\n",
       "      <td>-0.000</td>\n",
       "      <td>-0.000</td>\n",
       "      <td>-0.862</td>\n",
       "      <td>-0.863</td>\n",
       "    </tr>\n",
       "    <tr>\n",
       "      <th>overall_height</th>\n",
       "      <td>0.828</td>\n",
       "      <td>-0.858</td>\n",
       "      <td>0.281</td>\n",
       "      <td>-0.973</td>\n",
       "      <td>1.000</td>\n",
       "      <td>0.000</td>\n",
       "      <td>0.000</td>\n",
       "      <td>-0.000</td>\n",
       "      <td>0.889</td>\n",
       "      <td>0.896</td>\n",
       "    </tr>\n",
       "    <tr>\n",
       "      <th>orientation</th>\n",
       "      <td>0.000</td>\n",
       "      <td>-0.000</td>\n",
       "      <td>-0.000</td>\n",
       "      <td>-0.000</td>\n",
       "      <td>0.000</td>\n",
       "      <td>1.000</td>\n",
       "      <td>-0.000</td>\n",
       "      <td>-0.000</td>\n",
       "      <td>-0.003</td>\n",
       "      <td>0.014</td>\n",
       "    </tr>\n",
       "    <tr>\n",
       "      <th>glazing_area</th>\n",
       "      <td>-0.000</td>\n",
       "      <td>0.000</td>\n",
       "      <td>-0.000</td>\n",
       "      <td>-0.000</td>\n",
       "      <td>0.000</td>\n",
       "      <td>-0.000</td>\n",
       "      <td>1.000</td>\n",
       "      <td>0.213</td>\n",
       "      <td>0.270</td>\n",
       "      <td>0.208</td>\n",
       "    </tr>\n",
       "    <tr>\n",
       "      <th>glazing_area_distribution</th>\n",
       "      <td>-0.000</td>\n",
       "      <td>0.000</td>\n",
       "      <td>0.000</td>\n",
       "      <td>-0.000</td>\n",
       "      <td>-0.000</td>\n",
       "      <td>-0.000</td>\n",
       "      <td>0.213</td>\n",
       "      <td>1.000</td>\n",
       "      <td>0.087</td>\n",
       "      <td>0.051</td>\n",
       "    </tr>\n",
       "    <tr>\n",
       "      <th>heating_load</th>\n",
       "      <td>0.622</td>\n",
       "      <td>-0.658</td>\n",
       "      <td>0.456</td>\n",
       "      <td>-0.862</td>\n",
       "      <td>0.889</td>\n",
       "      <td>-0.003</td>\n",
       "      <td>0.270</td>\n",
       "      <td>0.087</td>\n",
       "      <td>1.000</td>\n",
       "      <td>0.976</td>\n",
       "    </tr>\n",
       "    <tr>\n",
       "      <th>cooling_load</th>\n",
       "      <td>0.634</td>\n",
       "      <td>-0.673</td>\n",
       "      <td>0.427</td>\n",
       "      <td>-0.863</td>\n",
       "      <td>0.896</td>\n",
       "      <td>0.014</td>\n",
       "      <td>0.208</td>\n",
       "      <td>0.051</td>\n",
       "      <td>0.976</td>\n",
       "      <td>1.000</td>\n",
       "    </tr>\n",
       "  </tbody>\n",
       "</table>\n",
       "</div>"
      ],
      "text/plain": [
       "                           relative_compactness  surface_area  wall_area  \\\n",
       "relative_compactness                      1.000        -0.992     -0.204   \n",
       "surface_area                             -0.992         1.000      0.196   \n",
       "wall_area                                -0.204         0.196      1.000   \n",
       "roof_area                                -0.869         0.881     -0.292   \n",
       "overall_height                            0.828        -0.858      0.281   \n",
       "orientation                               0.000        -0.000     -0.000   \n",
       "glazing_area                             -0.000         0.000     -0.000   \n",
       "glazing_area_distribution                -0.000         0.000      0.000   \n",
       "heating_load                              0.622        -0.658      0.456   \n",
       "cooling_load                              0.634        -0.673      0.427   \n",
       "\n",
       "                           roof_area  overall_height  orientation  \\\n",
       "relative_compactness          -0.869           0.828        0.000   \n",
       "surface_area                   0.881          -0.858       -0.000   \n",
       "wall_area                     -0.292           0.281       -0.000   \n",
       "roof_area                      1.000          -0.973       -0.000   \n",
       "overall_height                -0.973           1.000        0.000   \n",
       "orientation                   -0.000           0.000        1.000   \n",
       "glazing_area                  -0.000           0.000       -0.000   \n",
       "glazing_area_distribution     -0.000          -0.000       -0.000   \n",
       "heating_load                  -0.862           0.889       -0.003   \n",
       "cooling_load                  -0.863           0.896        0.014   \n",
       "\n",
       "                           glazing_area  glazing_area_distribution  \\\n",
       "relative_compactness             -0.000                     -0.000   \n",
       "surface_area                      0.000                      0.000   \n",
       "wall_area                        -0.000                      0.000   \n",
       "roof_area                        -0.000                     -0.000   \n",
       "overall_height                    0.000                     -0.000   \n",
       "orientation                      -0.000                     -0.000   \n",
       "glazing_area                      1.000                      0.213   \n",
       "glazing_area_distribution         0.213                      1.000   \n",
       "heating_load                      0.270                      0.087   \n",
       "cooling_load                      0.208                      0.051   \n",
       "\n",
       "                           heating_load  cooling_load  \n",
       "relative_compactness              0.622         0.634  \n",
       "surface_area                     -0.658        -0.673  \n",
       "wall_area                         0.456         0.427  \n",
       "roof_area                        -0.862        -0.863  \n",
       "overall_height                    0.889         0.896  \n",
       "orientation                      -0.003         0.014  \n",
       "glazing_area                      0.270         0.208  \n",
       "glazing_area_distribution         0.087         0.051  \n",
       "heating_load                      1.000         0.976  \n",
       "cooling_load                      0.976         1.000  "
      ]
     },
     "execution_count": 12,
     "metadata": {},
     "output_type": "execute_result"
    }
   ],
   "source": [
    "np.round(df.corr(), 3)"
   ]
  },
  {
   "cell_type": "markdown",
   "metadata": {},
   "source": [
    " - 각 열 별 상관 관계 값을 히트맵으로 시각화\n",
    " - 컬러맵은 Greens, 값은 소수점 둘째자리까지 출력"
   ]
  },
  {
   "cell_type": "code",
   "execution_count": 13,
   "metadata": {
    "ExecuteTime": {
     "end_time": "2022-03-07T07:57:23.290362Z",
     "start_time": "2022-03-07T07:57:22.331328Z"
    }
   },
   "outputs": [
    {
     "data": {
      "image/png": "[encoded data removed]",
      "text/plain": [
       "<Figure size 720x720 with 2 Axes>"
      ]
     },
     "metadata": {
      "needs_background": "light"
     },
     "output_type": "display_data"
    }
   ],
   "source": [
    "plt.figure(figsize=(10,10))\n",
    "sns.heatmap(df.corr(), cmap='Greens', annot=True, fmt='.2f')\n",
    "plt.show()"
   ]
  },
  {
   "cell_type": "markdown",
   "metadata": {},
   "source": [
    "<br/>\n",
    "<br/>\n",
    "<br/>\n",
    "<br/>"
   ]
  },
  {
   "cell_type": "markdown",
   "metadata": {},
   "source": [
    "## 특성 공학\n",
    " - 종속 변수 headting load와 cooling load를 더해서 load 열을 생성"
   ]
  },
  {
   "cell_type": "code",
   "execution_count": 14,
   "metadata": {
    "ExecuteTime": {
     "end_time": "2022-03-07T07:57:23.326347Z",
     "start_time": "2022-03-07T07:57:23.290362Z"
    }
   },
   "outputs": [
    {
     "data": {
      "text/html": [
       "<div>\n",
       "<style scoped>\n",
       "    .dataframe tbody tr th:only-of-type {\n",
       "        vertical-align: middle;\n",
       "    }\n",
       "\n",
       "    .dataframe tbody tr th {\n",
       "        vertical-align: top;\n",
       "    }\n",
       "\n",
       "    .dataframe thead th {\n",
       "        text-align: right;\n",
       "    }\n",
       "</style>\n",
       "<table border=\"1\" class=\"dataframe\">\n",
       "  <thead>\n",
       "    <tr style=\"text-align: right;\">\n",
       "      <th></th>\n",
       "      <th>relative_compactness</th>\n",
       "      <th>surface_area</th>\n",
       "      <th>wall_area</th>\n",
       "      <th>roof_area</th>\n",
       "      <th>overall_height</th>\n",
       "      <th>orientation</th>\n",
       "      <th>glazing_area</th>\n",
       "      <th>glazing_area_distribution</th>\n",
       "      <th>heating_load</th>\n",
       "      <th>cooling_load</th>\n",
       "      <th>load</th>\n",
       "    </tr>\n",
       "  </thead>\n",
       "  <tbody>\n",
       "    <tr>\n",
       "      <th>0</th>\n",
       "      <td>0.98</td>\n",
       "      <td>514.5</td>\n",
       "      <td>294.0</td>\n",
       "      <td>110.25</td>\n",
       "      <td>7.0</td>\n",
       "      <td>2</td>\n",
       "      <td>0.0</td>\n",
       "      <td>0</td>\n",
       "      <td>15.55</td>\n",
       "      <td>21.33</td>\n",
       "      <td>36.88</td>\n",
       "    </tr>\n",
       "    <tr>\n",
       "      <th>1</th>\n",
       "      <td>0.98</td>\n",
       "      <td>514.5</td>\n",
       "      <td>294.0</td>\n",
       "      <td>110.25</td>\n",
       "      <td>7.0</td>\n",
       "      <td>3</td>\n",
       "      <td>0.0</td>\n",
       "      <td>0</td>\n",
       "      <td>15.55</td>\n",
       "      <td>21.33</td>\n",
       "      <td>36.88</td>\n",
       "    </tr>\n",
       "    <tr>\n",
       "      <th>2</th>\n",
       "      <td>0.98</td>\n",
       "      <td>514.5</td>\n",
       "      <td>294.0</td>\n",
       "      <td>110.25</td>\n",
       "      <td>7.0</td>\n",
       "      <td>4</td>\n",
       "      <td>0.0</td>\n",
       "      <td>0</td>\n",
       "      <td>15.55</td>\n",
       "      <td>21.33</td>\n",
       "      <td>36.88</td>\n",
       "    </tr>\n",
       "    <tr>\n",
       "      <th>3</th>\n",
       "      <td>0.98</td>\n",
       "      <td>514.5</td>\n",
       "      <td>294.0</td>\n",
       "      <td>110.25</td>\n",
       "      <td>7.0</td>\n",
       "      <td>5</td>\n",
       "      <td>0.0</td>\n",
       "      <td>0</td>\n",
       "      <td>15.55</td>\n",
       "      <td>21.33</td>\n",
       "      <td>36.88</td>\n",
       "    </tr>\n",
       "    <tr>\n",
       "      <th>4</th>\n",
       "      <td>0.90</td>\n",
       "      <td>563.5</td>\n",
       "      <td>318.5</td>\n",
       "      <td>122.50</td>\n",
       "      <td>7.0</td>\n",
       "      <td>2</td>\n",
       "      <td>0.0</td>\n",
       "      <td>0</td>\n",
       "      <td>20.84</td>\n",
       "      <td>28.28</td>\n",
       "      <td>49.12</td>\n",
       "    </tr>\n",
       "    <tr>\n",
       "      <th>...</th>\n",
       "      <td>...</td>\n",
       "      <td>...</td>\n",
       "      <td>...</td>\n",
       "      <td>...</td>\n",
       "      <td>...</td>\n",
       "      <td>...</td>\n",
       "      <td>...</td>\n",
       "      <td>...</td>\n",
       "      <td>...</td>\n",
       "      <td>...</td>\n",
       "      <td>...</td>\n",
       "    </tr>\n",
       "    <tr>\n",
       "      <th>763</th>\n",
       "      <td>0.64</td>\n",
       "      <td>784.0</td>\n",
       "      <td>343.0</td>\n",
       "      <td>220.50</td>\n",
       "      <td>3.5</td>\n",
       "      <td>5</td>\n",
       "      <td>0.4</td>\n",
       "      <td>5</td>\n",
       "      <td>17.88</td>\n",
       "      <td>21.40</td>\n",
       "      <td>39.28</td>\n",
       "    </tr>\n",
       "    <tr>\n",
       "      <th>764</th>\n",
       "      <td>0.62</td>\n",
       "      <td>808.5</td>\n",
       "      <td>367.5</td>\n",
       "      <td>220.50</td>\n",
       "      <td>3.5</td>\n",
       "      <td>2</td>\n",
       "      <td>0.4</td>\n",
       "      <td>5</td>\n",
       "      <td>16.54</td>\n",
       "      <td>16.88</td>\n",
       "      <td>33.42</td>\n",
       "    </tr>\n",
       "    <tr>\n",
       "      <th>765</th>\n",
       "      <td>0.62</td>\n",
       "      <td>808.5</td>\n",
       "      <td>367.5</td>\n",
       "      <td>220.50</td>\n",
       "      <td>3.5</td>\n",
       "      <td>3</td>\n",
       "      <td>0.4</td>\n",
       "      <td>5</td>\n",
       "      <td>16.44</td>\n",
       "      <td>17.11</td>\n",
       "      <td>33.55</td>\n",
       "    </tr>\n",
       "    <tr>\n",
       "      <th>766</th>\n",
       "      <td>0.62</td>\n",
       "      <td>808.5</td>\n",
       "      <td>367.5</td>\n",
       "      <td>220.50</td>\n",
       "      <td>3.5</td>\n",
       "      <td>4</td>\n",
       "      <td>0.4</td>\n",
       "      <td>5</td>\n",
       "      <td>16.48</td>\n",
       "      <td>16.61</td>\n",
       "      <td>33.09</td>\n",
       "    </tr>\n",
       "    <tr>\n",
       "      <th>767</th>\n",
       "      <td>0.62</td>\n",
       "      <td>808.5</td>\n",
       "      <td>367.5</td>\n",
       "      <td>220.50</td>\n",
       "      <td>3.5</td>\n",
       "      <td>5</td>\n",
       "      <td>0.4</td>\n",
       "      <td>5</td>\n",
       "      <td>16.64</td>\n",
       "      <td>16.03</td>\n",
       "      <td>32.67</td>\n",
       "    </tr>\n",
       "  </tbody>\n",
       "</table>\n",
       "<p>768 rows × 11 columns</p>\n",
       "</div>"
      ],
      "text/plain": [
       "     relative_compactness  surface_area  wall_area  roof_area  overall_height  \\\n",
       "0                    0.98         514.5      294.0     110.25             7.0   \n",
       "1                    0.98         514.5      294.0     110.25             7.0   \n",
       "2                    0.98         514.5      294.0     110.25             7.0   \n",
       "3                    0.98         514.5      294.0     110.25             7.0   \n",
       "4                    0.90         563.5      318.5     122.50             7.0   \n",
       "..                    ...           ...        ...        ...             ...   \n",
       "763                  0.64         784.0      343.0     220.50             3.5   \n",
       "764                  0.62         808.5      367.5     220.50             3.5   \n",
       "765                  0.62         808.5      367.5     220.50             3.5   \n",
       "766                  0.62         808.5      367.5     220.50             3.5   \n",
       "767                  0.62         808.5      367.5     220.50             3.5   \n",
       "\n",
       "     orientation  glazing_area  glazing_area_distribution  heating_load  \\\n",
       "0              2           0.0                          0         15.55   \n",
       "1              3           0.0                          0         15.55   \n",
       "2              4           0.0                          0         15.55   \n",
       "3              5           0.0                          0         15.55   \n",
       "4              2           0.0                          0         20.84   \n",
       "..           ...           ...                        ...           ...   \n",
       "763            5           0.4                          5         17.88   \n",
       "764            2           0.4                          5         16.54   \n",
       "765            3           0.4                          5         16.44   \n",
       "766            4           0.4                          5         16.48   \n",
       "767            5           0.4                          5         16.64   \n",
       "\n",
       "     cooling_load   load  \n",
       "0           21.33  36.88  \n",
       "1           21.33  36.88  \n",
       "2           21.33  36.88  \n",
       "3           21.33  36.88  \n",
       "4           28.28  49.12  \n",
       "..            ...    ...  \n",
       "763         21.40  39.28  \n",
       "764         16.88  33.42  \n",
       "765         17.11  33.55  \n",
       "766         16.61  33.09  \n",
       "767         16.03  32.67  \n",
       "\n",
       "[768 rows x 11 columns]"
      ]
     },
     "execution_count": 14,
     "metadata": {},
     "output_type": "execute_result"
    }
   ],
   "source": [
    "df['load'] = df['heating_load'] + df['cooling_load']\n",
    "df"
   ]
  },
  {
   "cell_type": "markdown",
   "metadata": {},
   "source": [
    "#### 상관관계가 0.97 이상인 특성들이 있는지 확인\n",
    " - relative_compactness와 surface_area의 열 별 상관관계를 소수점 셋째자리까지 출력"
   ]
  },
  {
   "cell_type": "code",
   "execution_count": 15,
   "metadata": {
    "ExecuteTime": {
     "end_time": "2022-03-07T07:57:23.370725Z",
     "start_time": "2022-03-07T07:57:23.354722Z"
    }
   },
   "outputs": [
    {
     "data": {
      "text/html": [
       "<div>\n",
       "<style scoped>\n",
       "    .dataframe tbody tr th:only-of-type {\n",
       "        vertical-align: middle;\n",
       "    }\n",
       "\n",
       "    .dataframe tbody tr th {\n",
       "        vertical-align: top;\n",
       "    }\n",
       "\n",
       "    .dataframe thead th {\n",
       "        text-align: right;\n",
       "    }\n",
       "</style>\n",
       "<table border=\"1\" class=\"dataframe\">\n",
       "  <thead>\n",
       "    <tr style=\"text-align: right;\">\n",
       "      <th></th>\n",
       "      <th>relative_compactness</th>\n",
       "      <th>surface_area</th>\n",
       "    </tr>\n",
       "  </thead>\n",
       "  <tbody>\n",
       "    <tr>\n",
       "      <th>relative_compactness</th>\n",
       "      <td>1.000</td>\n",
       "      <td>-0.992</td>\n",
       "    </tr>\n",
       "    <tr>\n",
       "      <th>surface_area</th>\n",
       "      <td>-0.992</td>\n",
       "      <td>1.000</td>\n",
       "    </tr>\n",
       "    <tr>\n",
       "      <th>wall_area</th>\n",
       "      <td>-0.204</td>\n",
       "      <td>0.196</td>\n",
       "    </tr>\n",
       "    <tr>\n",
       "      <th>roof_area</th>\n",
       "      <td>-0.869</td>\n",
       "      <td>0.881</td>\n",
       "    </tr>\n",
       "    <tr>\n",
       "      <th>overall_height</th>\n",
       "      <td>0.828</td>\n",
       "      <td>-0.858</td>\n",
       "    </tr>\n",
       "    <tr>\n",
       "      <th>orientation</th>\n",
       "      <td>0.000</td>\n",
       "      <td>-0.000</td>\n",
       "    </tr>\n",
       "    <tr>\n",
       "      <th>glazing_area</th>\n",
       "      <td>-0.000</td>\n",
       "      <td>0.000</td>\n",
       "    </tr>\n",
       "    <tr>\n",
       "      <th>glazing_area_distribution</th>\n",
       "      <td>-0.000</td>\n",
       "      <td>0.000</td>\n",
       "    </tr>\n",
       "    <tr>\n",
       "      <th>heating_load</th>\n",
       "      <td>0.622</td>\n",
       "      <td>-0.658</td>\n",
       "    </tr>\n",
       "    <tr>\n",
       "      <th>cooling_load</th>\n",
       "      <td>0.634</td>\n",
       "      <td>-0.673</td>\n",
       "    </tr>\n",
       "    <tr>\n",
       "      <th>load</th>\n",
       "      <td>0.632</td>\n",
       "      <td>-0.669</td>\n",
       "    </tr>\n",
       "  </tbody>\n",
       "</table>\n",
       "</div>"
      ],
      "text/plain": [
       "                           relative_compactness  surface_area\n",
       "relative_compactness                      1.000        -0.992\n",
       "surface_area                             -0.992         1.000\n",
       "wall_area                                -0.204         0.196\n",
       "roof_area                                -0.869         0.881\n",
       "overall_height                            0.828        -0.858\n",
       "orientation                               0.000        -0.000\n",
       "glazing_area                             -0.000         0.000\n",
       "glazing_area_distribution                -0.000         0.000\n",
       "heating_load                              0.622        -0.658\n",
       "cooling_load                              0.634        -0.673\n",
       "load                                      0.632        -0.669"
      ]
     },
     "execution_count": 15,
     "metadata": {},
     "output_type": "execute_result"
    }
   ],
   "source": [
    "np.round(df.corr()[['relative_compactness', 'surface_area']], 3)"
   ]
  },
  {
   "cell_type": "markdown",
   "metadata": {},
   "source": [
    " - roof_area와 overall_height의 열 별 상관관계를 소수점 셋째자리까지 출력"
   ]
  },
  {
   "cell_type": "code",
   "execution_count": 16,
   "metadata": {
    "ExecuteTime": {
     "end_time": "2022-03-07T07:57:23.386725Z",
     "start_time": "2022-03-07T07:57:23.370725Z"
    }
   },
   "outputs": [
    {
     "data": {
      "text/html": [
       "<div>\n",
       "<style scoped>\n",
       "    .dataframe tbody tr th:only-of-type {\n",
       "        vertical-align: middle;\n",
       "    }\n",
       "\n",
       "    .dataframe tbody tr th {\n",
       "        vertical-align: top;\n",
       "    }\n",
       "\n",
       "    .dataframe thead th {\n",
       "        text-align: right;\n",
       "    }\n",
       "</style>\n",
       "<table border=\"1\" class=\"dataframe\">\n",
       "  <thead>\n",
       "    <tr style=\"text-align: right;\">\n",
       "      <th></th>\n",
       "      <th>roof_area</th>\n",
       "      <th>overall_height</th>\n",
       "    </tr>\n",
       "  </thead>\n",
       "  <tbody>\n",
       "    <tr>\n",
       "      <th>relative_compactness</th>\n",
       "      <td>-0.869</td>\n",
       "      <td>0.828</td>\n",
       "    </tr>\n",
       "    <tr>\n",
       "      <th>surface_area</th>\n",
       "      <td>0.881</td>\n",
       "      <td>-0.858</td>\n",
       "    </tr>\n",
       "    <tr>\n",
       "      <th>wall_area</th>\n",
       "      <td>-0.292</td>\n",
       "      <td>0.281</td>\n",
       "    </tr>\n",
       "    <tr>\n",
       "      <th>roof_area</th>\n",
       "      <td>1.000</td>\n",
       "      <td>-0.973</td>\n",
       "    </tr>\n",
       "    <tr>\n",
       "      <th>overall_height</th>\n",
       "      <td>-0.973</td>\n",
       "      <td>1.000</td>\n",
       "    </tr>\n",
       "    <tr>\n",
       "      <th>orientation</th>\n",
       "      <td>-0.000</td>\n",
       "      <td>0.000</td>\n",
       "    </tr>\n",
       "    <tr>\n",
       "      <th>glazing_area</th>\n",
       "      <td>-0.000</td>\n",
       "      <td>0.000</td>\n",
       "    </tr>\n",
       "    <tr>\n",
       "      <th>glazing_area_distribution</th>\n",
       "      <td>-0.000</td>\n",
       "      <td>-0.000</td>\n",
       "    </tr>\n",
       "    <tr>\n",
       "      <th>heating_load</th>\n",
       "      <td>-0.862</td>\n",
       "      <td>0.889</td>\n",
       "    </tr>\n",
       "    <tr>\n",
       "      <th>cooling_load</th>\n",
       "      <td>-0.863</td>\n",
       "      <td>0.896</td>\n",
       "    </tr>\n",
       "    <tr>\n",
       "      <th>load</th>\n",
       "      <td>-0.867</td>\n",
       "      <td>0.898</td>\n",
       "    </tr>\n",
       "  </tbody>\n",
       "</table>\n",
       "</div>"
      ],
      "text/plain": [
       "                           roof_area  overall_height\n",
       "relative_compactness          -0.869           0.828\n",
       "surface_area                   0.881          -0.858\n",
       "wall_area                     -0.292           0.281\n",
       "roof_area                      1.000          -0.973\n",
       "overall_height                -0.973           1.000\n",
       "orientation                   -0.000           0.000\n",
       "glazing_area                  -0.000           0.000\n",
       "glazing_area_distribution     -0.000          -0.000\n",
       "heating_load                  -0.862           0.889\n",
       "cooling_load                  -0.863           0.896\n",
       "load                          -0.867           0.898"
      ]
     },
     "execution_count": 16,
     "metadata": {},
     "output_type": "execute_result"
    }
   ],
   "source": [
    "np.round(df.corr()[['roof_area', 'overall_height']], 3)"
   ]
  },
  {
   "cell_type": "markdown",
   "metadata": {},
   "source": [
    "<br/>\n",
    "<br/>\n",
    "<br/>\n",
    "<br/>"
   ]
  },
  {
   "cell_type": "markdown",
   "metadata": {},
   "source": [
    "## 학습에 사용할 열 선택\n",
    " - Y = load 열\n",
    " - X = load, heating_load, cooling_load, relative_compactness, roof_area를 제외한 나머지 열"
   ]
  },
  {
   "cell_type": "code",
   "execution_count": 17,
   "metadata": {
    "ExecuteTime": {
     "end_time": "2022-03-07T07:57:23.402728Z",
     "start_time": "2022-03-07T07:57:23.386725Z"
    }
   },
   "outputs": [],
   "source": [
    "features = [\n",
    "    #'relative_compactness', 나머지 열은 주석으로 처리해서 제거함\n",
    "    'surface_area', \n",
    "    'wall_area', \n",
    "    #'roof_area',\n",
    "    'overall_height',\n",
    "    'orientation',\n",
    "    'glazing_area',\n",
    "    'glazing_area_distribution',\n",
    "]"
   ]
  },
  {
   "cell_type": "code",
   "execution_count": 18,
   "metadata": {
    "ExecuteTime": {
     "end_time": "2022-03-07T07:57:23.418730Z",
     "start_time": "2022-03-07T07:57:23.402728Z"
    }
   },
   "outputs": [],
   "source": [
    "X = df[features]\n",
    "Y = df['load']"
   ]
  },
  {
   "cell_type": "markdown",
   "metadata": {},
   "source": [
    " - X의 상위 5개 행을 출력"
   ]
  },
  {
   "cell_type": "code",
   "execution_count": 19,
   "metadata": {
    "ExecuteTime": {
     "end_time": "2022-03-07T07:57:23.434733Z",
     "start_time": "2022-03-07T07:57:23.418730Z"
    }
   },
   "outputs": [
    {
     "data": {
      "text/html": [
       "<div>\n",
       "<style scoped>\n",
       "    .dataframe tbody tr th:only-of-type {\n",
       "        vertical-align: middle;\n",
       "    }\n",
       "\n",
       "    .dataframe tbody tr th {\n",
       "        vertical-align: top;\n",
       "    }\n",
       "\n",
       "    .dataframe thead th {\n",
       "        text-align: right;\n",
       "    }\n",
       "</style>\n",
       "<table border=\"1\" class=\"dataframe\">\n",
       "  <thead>\n",
       "    <tr style=\"text-align: right;\">\n",
       "      <th></th>\n",
       "      <th>surface_area</th>\n",
       "      <th>wall_area</th>\n",
       "      <th>overall_height</th>\n",
       "      <th>orientation</th>\n",
       "      <th>glazing_area</th>\n",
       "      <th>glazing_area_distribution</th>\n",
       "    </tr>\n",
       "  </thead>\n",
       "  <tbody>\n",
       "    <tr>\n",
       "      <th>0</th>\n",
       "      <td>514.5</td>\n",
       "      <td>294.0</td>\n",
       "      <td>7.0</td>\n",
       "      <td>2</td>\n",
       "      <td>0.0</td>\n",
       "      <td>0</td>\n",
       "    </tr>\n",
       "    <tr>\n",
       "      <th>1</th>\n",
       "      <td>514.5</td>\n",
       "      <td>294.0</td>\n",
       "      <td>7.0</td>\n",
       "      <td>3</td>\n",
       "      <td>0.0</td>\n",
       "      <td>0</td>\n",
       "    </tr>\n",
       "    <tr>\n",
       "      <th>2</th>\n",
       "      <td>514.5</td>\n",
       "      <td>294.0</td>\n",
       "      <td>7.0</td>\n",
       "      <td>4</td>\n",
       "      <td>0.0</td>\n",
       "      <td>0</td>\n",
       "    </tr>\n",
       "    <tr>\n",
       "      <th>3</th>\n",
       "      <td>514.5</td>\n",
       "      <td>294.0</td>\n",
       "      <td>7.0</td>\n",
       "      <td>5</td>\n",
       "      <td>0.0</td>\n",
       "      <td>0</td>\n",
       "    </tr>\n",
       "    <tr>\n",
       "      <th>4</th>\n",
       "      <td>563.5</td>\n",
       "      <td>318.5</td>\n",
       "      <td>7.0</td>\n",
       "      <td>2</td>\n",
       "      <td>0.0</td>\n",
       "      <td>0</td>\n",
       "    </tr>\n",
       "  </tbody>\n",
       "</table>\n",
       "</div>"
      ],
      "text/plain": [
       "   surface_area  wall_area  overall_height  orientation  glazing_area  \\\n",
       "0         514.5      294.0             7.0            2           0.0   \n",
       "1         514.5      294.0             7.0            3           0.0   \n",
       "2         514.5      294.0             7.0            4           0.0   \n",
       "3         514.5      294.0             7.0            5           0.0   \n",
       "4         563.5      318.5             7.0            2           0.0   \n",
       "\n",
       "   glazing_area_distribution  \n",
       "0                          0  \n",
       "1                          0  \n",
       "2                          0  \n",
       "3                          0  \n",
       "4                          0  "
      ]
     },
     "execution_count": 19,
     "metadata": {},
     "output_type": "execute_result"
    }
   ],
   "source": [
    "X.head()"
   ]
  },
  {
   "cell_type": "markdown",
   "metadata": {},
   "source": [
    " - Y의 상위 5개 행을 출력"
   ]
  },
  {
   "cell_type": "code",
   "execution_count": 20,
   "metadata": {
    "ExecuteTime": {
     "end_time": "2022-03-07T07:57:23.442732Z",
     "start_time": "2022-03-07T07:57:23.434733Z"
    }
   },
   "outputs": [
    {
     "data": {
      "text/plain": [
       "0    36.88\n",
       "1    36.88\n",
       "2    36.88\n",
       "3    36.88\n",
       "4    49.12\n",
       "Name: load, dtype: float64"
      ]
     },
     "execution_count": 20,
     "metadata": {},
     "output_type": "execute_result"
    }
   ],
   "source": [
    "Y.head()"
   ]
  },
  {
   "cell_type": "markdown",
   "metadata": {},
   "source": [
    "<br/>\n",
    "<br/>\n",
    "<br/>\n",
    "<br/>"
   ]
  },
  {
   "cell_type": "markdown",
   "metadata": {},
   "source": [
    "## 데이터 분할\n",
    " - 데이터를 학습 및 평가 데이터로 분할하세요.\n",
    " - 분할 비율은 75:25입니다.\n",
    " - random_state=0으로 설정하세요."
   ]
  },
  {
   "cell_type": "code",
   "execution_count": 22,
   "metadata": {
    "ExecuteTime": {
     "end_time": "2022-03-07T07:57:23.571468Z",
     "start_time": "2022-03-07T07:57:23.442732Z"
    }
   },
   "outputs": [],
   "source": [
    "from sklearn.model_selection import train_test_split"
   ]
  },
  {
   "cell_type": "code",
   "execution_count": 23,
   "metadata": {},
   "outputs": [],
   "source": [
    "X_train, X_test, Y_train, Y_test = train_test_split(X, Y, random_state=0, test_size=0.25)"
   ]
  },
  {
   "cell_type": "markdown",
   "metadata": {},
   "source": [
    " - 분할된 데이터의 shape을 출력하세요."
   ]
  },
  {
   "cell_type": "code",
   "execution_count": 26,
   "metadata": {
    "ExecuteTime": {
     "end_time": "2022-03-07T07:57:23.587360Z",
     "start_time": "2022-03-07T07:57:23.571468Z"
    }
   },
   "outputs": [
    {
     "name": "stdout",
     "output_type": "stream",
     "text": [
      "X Train Shape :  (576, 6)\n",
      "X Test Shape :  (192, 6)\n",
      "Y Train Shape :  (576,)\n",
      "Y Test Shape :  (192,)\n"
     ]
    }
   ],
   "source": [
    "print('X Train Shape : ', X_train.shape)\n",
    "print('X Test Shape : ', X_test.shape)\n",
    "print('Y Train Shape : ', Y_train.shape)\n",
    "print('Y Test Shape : ', Y_test.shape)"
   ]
  },
  {
   "cell_type": "markdown",
   "metadata": {},
   "source": [
    "<br/>\n",
    "<br/>\n",
    "<br/>\n",
    "<br/>"
   ]
  },
  {
   "cell_type": "markdown",
   "metadata": {},
   "source": [
    "## 모델 생성 및 학습\n",
    " - LinearRegression 모델을 이용하여 모델링 후, 학습 및 성능평가지표를 출력하세요."
   ]
  },
  {
   "cell_type": "code",
   "execution_count": 43,
   "metadata": {},
   "outputs": [],
   "source": [
    "from sklearn.linear_model import LinearRegression\n"
   ]
  },
  {
   "cell_type": "code",
   "execution_count": 46,
   "metadata": {
    "ExecuteTime": {
     "end_time": "2022-03-07T07:57:23.709375Z",
     "start_time": "2022-03-07T07:57:23.591517Z"
    }
   },
   "outputs": [
    {
     "data": {
      "text/plain": [
       "(0.9079020943795573, 0.9023397984355199)"
      ]
     },
     "execution_count": 46,
     "metadata": {},
     "output_type": "execute_result"
    }
   ],
   "source": [
    "#모델생성\n",
    "model = LinearRegression()\n",
    "\n",
    "# 모델학습\n",
    "model.fit(X_train, Y_train)\n",
    "model.predict(X_test)\n",
    "model.score(X_train, Y_train), model.score(X_test, Y_test)"
   ]
  },
  {
   "cell_type": "markdown",
   "metadata": {},
   "source": [
    " - 학습된 모델의 회귀 계수(weight)와 절편(bias)을 출력하세요."
   ]
  },
  {
   "cell_type": "code",
   "execution_count": 47,
   "metadata": {
    "ExecuteTime": {
     "end_time": "2022-03-07T07:57:23.725377Z",
     "start_time": "2022-03-07T07:57:23.709375Z"
    }
   },
   "outputs": [
    {
     "data": {
      "text/plain": [
       "(array([2.85401162e-02, 6.59087864e-02, 1.07227397e+01, 2.61067284e-02,\n",
       "        3.41967461e+01, 1.84732663e-01]),\n",
       " -58.149839532465556)"
      ]
     },
     "execution_count": 47,
     "metadata": {},
     "output_type": "execute_result"
    }
   ],
   "source": [
    "xx.coef_, xx.intercept_"
   ]
  },
  {
   "cell_type": "markdown",
   "metadata": {},
   "source": [
    "<br/>\n",
    "<br/>\n",
    "<br/>\n",
    "<br/>"
   ]
  },
  {
   "cell_type": "markdown",
   "metadata": {},
   "source": [
    "## 모델 예측 및 평가\n",
    " - 전체 X 데이터의 예측 결과를 출력하세요."
   ]
  },
  {
   "cell_type": "code",
   "execution_count": 53,
   "metadata": {},
   "outputs": [
    {
     "data": {
      "text/html": [
       "<div>\n",
       "<style scoped>\n",
       "    .dataframe tbody tr th:only-of-type {\n",
       "        vertical-align: middle;\n",
       "    }\n",
       "\n",
       "    .dataframe tbody tr th {\n",
       "        vertical-align: top;\n",
       "    }\n",
       "\n",
       "    .dataframe thead th {\n",
       "        text-align: right;\n",
       "    }\n",
       "</style>\n",
       "<table border=\"1\" class=\"dataframe\">\n",
       "  <thead>\n",
       "    <tr style=\"text-align: right;\">\n",
       "      <th></th>\n",
       "      <th>relative_compactness</th>\n",
       "      <th>surface_area</th>\n",
       "      <th>wall_area</th>\n",
       "      <th>roof_area</th>\n",
       "      <th>overall_height</th>\n",
       "      <th>orientation</th>\n",
       "      <th>glazing_area</th>\n",
       "      <th>glazing_area_distribution</th>\n",
       "      <th>heating_load</th>\n",
       "      <th>cooling_load</th>\n",
       "      <th>load</th>\n",
       "    </tr>\n",
       "  </thead>\n",
       "  <tbody>\n",
       "    <tr>\n",
       "      <th>0</th>\n",
       "      <td>0.98</td>\n",
       "      <td>514.5</td>\n",
       "      <td>294.0</td>\n",
       "      <td>110.25</td>\n",
       "      <td>7.0</td>\n",
       "      <td>2</td>\n",
       "      <td>0.0</td>\n",
       "      <td>0</td>\n",
       "      <td>15.55</td>\n",
       "      <td>21.33</td>\n",
       "      <td>36.88</td>\n",
       "    </tr>\n",
       "    <tr>\n",
       "      <th>1</th>\n",
       "      <td>0.98</td>\n",
       "      <td>514.5</td>\n",
       "      <td>294.0</td>\n",
       "      <td>110.25</td>\n",
       "      <td>7.0</td>\n",
       "      <td>3</td>\n",
       "      <td>0.0</td>\n",
       "      <td>0</td>\n",
       "      <td>15.55</td>\n",
       "      <td>21.33</td>\n",
       "      <td>36.88</td>\n",
       "    </tr>\n",
       "    <tr>\n",
       "      <th>2</th>\n",
       "      <td>0.98</td>\n",
       "      <td>514.5</td>\n",
       "      <td>294.0</td>\n",
       "      <td>110.25</td>\n",
       "      <td>7.0</td>\n",
       "      <td>4</td>\n",
       "      <td>0.0</td>\n",
       "      <td>0</td>\n",
       "      <td>15.55</td>\n",
       "      <td>21.33</td>\n",
       "      <td>36.88</td>\n",
       "    </tr>\n",
       "    <tr>\n",
       "      <th>3</th>\n",
       "      <td>0.98</td>\n",
       "      <td>514.5</td>\n",
       "      <td>294.0</td>\n",
       "      <td>110.25</td>\n",
       "      <td>7.0</td>\n",
       "      <td>5</td>\n",
       "      <td>0.0</td>\n",
       "      <td>0</td>\n",
       "      <td>15.55</td>\n",
       "      <td>21.33</td>\n",
       "      <td>36.88</td>\n",
       "    </tr>\n",
       "    <tr>\n",
       "      <th>4</th>\n",
       "      <td>0.90</td>\n",
       "      <td>563.5</td>\n",
       "      <td>318.5</td>\n",
       "      <td>122.50</td>\n",
       "      <td>7.0</td>\n",
       "      <td>2</td>\n",
       "      <td>0.0</td>\n",
       "      <td>0</td>\n",
       "      <td>20.84</td>\n",
       "      <td>28.28</td>\n",
       "      <td>49.12</td>\n",
       "    </tr>\n",
       "    <tr>\n",
       "      <th>...</th>\n",
       "      <td>...</td>\n",
       "      <td>...</td>\n",
       "      <td>...</td>\n",
       "      <td>...</td>\n",
       "      <td>...</td>\n",
       "      <td>...</td>\n",
       "      <td>...</td>\n",
       "      <td>...</td>\n",
       "      <td>...</td>\n",
       "      <td>...</td>\n",
       "      <td>...</td>\n",
       "    </tr>\n",
       "    <tr>\n",
       "      <th>763</th>\n",
       "      <td>0.64</td>\n",
       "      <td>784.0</td>\n",
       "      <td>343.0</td>\n",
       "      <td>220.50</td>\n",
       "      <td>3.5</td>\n",
       "      <td>5</td>\n",
       "      <td>0.4</td>\n",
       "      <td>5</td>\n",
       "      <td>17.88</td>\n",
       "      <td>21.40</td>\n",
       "      <td>39.28</td>\n",
       "    </tr>\n",
       "    <tr>\n",
       "      <th>764</th>\n",
       "      <td>0.62</td>\n",
       "      <td>808.5</td>\n",
       "      <td>367.5</td>\n",
       "      <td>220.50</td>\n",
       "      <td>3.5</td>\n",
       "      <td>2</td>\n",
       "      <td>0.4</td>\n",
       "      <td>5</td>\n",
       "      <td>16.54</td>\n",
       "      <td>16.88</td>\n",
       "      <td>33.42</td>\n",
       "    </tr>\n",
       "    <tr>\n",
       "      <th>765</th>\n",
       "      <td>0.62</td>\n",
       "      <td>808.5</td>\n",
       "      <td>367.5</td>\n",
       "      <td>220.50</td>\n",
       "      <td>3.5</td>\n",
       "      <td>3</td>\n",
       "      <td>0.4</td>\n",
       "      <td>5</td>\n",
       "      <td>16.44</td>\n",
       "      <td>17.11</td>\n",
       "      <td>33.55</td>\n",
       "    </tr>\n",
       "    <tr>\n",
       "      <th>766</th>\n",
       "      <td>0.62</td>\n",
       "      <td>808.5</td>\n",
       "      <td>367.5</td>\n",
       "      <td>220.50</td>\n",
       "      <td>3.5</td>\n",
       "      <td>4</td>\n",
       "      <td>0.4</td>\n",
       "      <td>5</td>\n",
       "      <td>16.48</td>\n",
       "      <td>16.61</td>\n",
       "      <td>33.09</td>\n",
       "    </tr>\n",
       "    <tr>\n",
       "      <th>767</th>\n",
       "      <td>0.62</td>\n",
       "      <td>808.5</td>\n",
       "      <td>367.5</td>\n",
       "      <td>220.50</td>\n",
       "      <td>3.5</td>\n",
       "      <td>5</td>\n",
       "      <td>0.4</td>\n",
       "      <td>5</td>\n",
       "      <td>16.64</td>\n",
       "      <td>16.03</td>\n",
       "      <td>32.67</td>\n",
       "    </tr>\n",
       "  </tbody>\n",
       "</table>\n",
       "<p>768 rows × 11 columns</p>\n",
       "</div>"
      ],
      "text/plain": [
       "     relative_compactness  surface_area  wall_area  roof_area  overall_height  \\\n",
       "0                    0.98         514.5      294.0     110.25             7.0   \n",
       "1                    0.98         514.5      294.0     110.25             7.0   \n",
       "2                    0.98         514.5      294.0     110.25             7.0   \n",
       "3                    0.98         514.5      294.0     110.25             7.0   \n",
       "4                    0.90         563.5      318.5     122.50             7.0   \n",
       "..                    ...           ...        ...        ...             ...   \n",
       "763                  0.64         784.0      343.0     220.50             3.5   \n",
       "764                  0.62         808.5      367.5     220.50             3.5   \n",
       "765                  0.62         808.5      367.5     220.50             3.5   \n",
       "766                  0.62         808.5      367.5     220.50             3.5   \n",
       "767                  0.62         808.5      367.5     220.50             3.5   \n",
       "\n",
       "     orientation  glazing_area  glazing_area_distribution  heating_load  \\\n",
       "0              2           0.0                          0         15.55   \n",
       "1              3           0.0                          0         15.55   \n",
       "2              4           0.0                          0         15.55   \n",
       "3              5           0.0                          0         15.55   \n",
       "4              2           0.0                          0         20.84   \n",
       "..           ...           ...                        ...           ...   \n",
       "763            5           0.4                          5         17.88   \n",
       "764            2           0.4                          5         16.54   \n",
       "765            3           0.4                          5         16.44   \n",
       "766            4           0.4                          5         16.48   \n",
       "767            5           0.4                          5         16.64   \n",
       "\n",
       "     cooling_load   load  \n",
       "0           21.33  36.88  \n",
       "1           21.33  36.88  \n",
       "2           21.33  36.88  \n",
       "3           21.33  36.88  \n",
       "4           28.28  49.12  \n",
       "..            ...    ...  \n",
       "763         21.40  39.28  \n",
       "764         16.88  33.42  \n",
       "765         17.11  33.55  \n",
       "766         16.61  33.09  \n",
       "767         16.03  32.67  \n",
       "\n",
       "[768 rows x 11 columns]"
      ]
     },
     "execution_count": 53,
     "metadata": {},
     "output_type": "execute_result"
    }
   ],
   "source": [
    "df"
   ]
  },
  {
   "cell_type": "code",
   "execution_count": 55,
   "metadata": {
    "ExecuteTime": {
     "end_time": "2022-03-07T07:57:23.741378Z",
     "start_time": "2022-03-07T07:57:23.725377Z"
    }
   },
   "outputs": [
    {
     "data": {
      "text/plain": [
       "array([51.02262445, 51.04873117, 51.0748379 , 51.10094463, 54.0358554 ,\n",
       "       54.06196213, 54.08806886, 54.11417559, 53.12032298, 53.14642971,\n",
       "       53.17253644, 53.19864317, 55.4343211 , 55.46042783, 55.48653455,\n",
       "       55.51264128, 57.74831921, 57.77442594, 57.80053267, 57.82663939,\n",
       "       63.29184785, 63.31795458, 63.34406131, 63.37016804, 15.15813506,\n",
       "       15.18424179, 15.21034852, 15.23645525, 17.47213317, 17.4982399 ,\n",
       "       17.52434663, 17.55045336, 19.78613129, 19.81223802, 19.83834474,\n",
       "       19.86445147, 22.1001294 , 22.12623613, 22.15234286, 22.17844958,\n",
       "       24.41412751, 24.44023424, 24.46634097, 24.4924477 , 26.72812562,\n",
       "       26.75423235, 26.78033908, 26.80644581, 54.62703172, 54.65313845,\n",
       "       54.67924518, 54.70535191, 57.64026268, 57.66636941, 57.69247614,\n",
       "       57.71858287, 56.72473026, 56.75083699, 56.77694372, 56.80305045,\n",
       "       59.03872837, 59.0648351 , 59.09094183, 59.11704856, 61.35272649,\n",
       "       61.37883322, 61.40493994, 61.43104667, 66.89625513, 66.92236186,\n",
       "       66.94846859, 66.97457532, 18.76254234, 18.78864907, 18.8147558 ,\n",
       "       18.84086252, 21.07654045, 21.10264718, 21.12875391, 21.15486064,\n",
       "       23.39053856, 23.41664529, 23.44275202, 23.46885875, 25.70453668,\n",
       "       25.7306434 , 25.75675013, 25.78285686, 28.01853479, 28.04464152,\n",
       "       28.07074825, 28.09685497, 30.3325329 , 30.35863963, 30.38474636,\n",
       "       30.41085309, 54.81176438, 54.83787111, 54.86397784, 54.89008457,\n",
       "       57.82499534, 57.85110207, 57.8772088 , 57.90331553, 56.90946292,\n",
       "       56.93556965, 56.96167638, 56.98778311, 59.22346104, 59.24956777,\n",
       "       59.27567449, 59.30178122, 61.53745915, 61.56356588, 61.58967261,\n",
       "       61.61577933, 67.08098779, 67.10709452, 67.13320125, 67.15930798,\n",
       "       18.947275  , 18.97338173, 18.99948846, 19.02559519, 21.26127311,\n",
       "       21.28737984, 21.31348657, 21.3395933 , 23.57527123, 23.60137795,\n",
       "       23.62748468, 23.65359141, 25.88926934, 25.91537607, 25.9414828 ,\n",
       "       25.96758952, 28.20326745, 28.22937418, 28.25548091, 28.28158764,\n",
       "       30.51726556, 30.54337229, 30.56947902, 30.59558575, 54.99649705,\n",
       "       55.02260378, 55.0487105 , 55.07481723, 58.00972801, 58.03583474,\n",
       "       58.06194146, 58.08804819, 57.09419559, 57.12030232, 57.14640904,\n",
       "       57.17251577, 59.4081937 , 59.43430043, 59.46040716, 59.48651388,\n",
       "       61.72219181, 61.74829854, 61.77440527, 61.800512  , 67.26572046,\n",
       "       67.29182719, 67.31793391, 67.34404064, 19.13200766, 19.15811439,\n",
       "       19.18422112, 19.21032785, 21.44600578, 21.4721125 , 21.49821923,\n",
       "       21.52432596, 23.76000389, 23.78611062, 23.81221735, 23.83832407,\n",
       "       26.074002  , 26.10010873, 26.12621546, 26.15232219, 28.38800011,\n",
       "       28.41410684, 28.44021357, 28.4663203 , 30.70199823, 30.72810496,\n",
       "       30.75421168, 30.78031841, 55.18122971, 55.20733644, 55.23344317,\n",
       "       55.2595499 , 58.19446067, 58.2205674 , 58.24667413, 58.27278085,\n",
       "       57.27892825, 57.30503498, 57.33114171, 57.35724843, 59.59292636,\n",
       "       59.61903309, 59.64513982, 59.67124655, 61.90692447, 61.9330312 ,\n",
       "       61.95913793, 61.98524466, 67.45045312, 67.47655985, 67.50266658,\n",
       "       67.52877331, 19.31674033, 19.34284705, 19.36895378, 19.39506051,\n",
       "       21.63073844, 21.65684517, 21.6829519 , 21.70905862, 23.94473655,\n",
       "       23.97084328, 23.99695001, 24.02305674, 26.25873466, 26.28484139,\n",
       "       26.31094812, 26.33705485, 28.57273278, 28.59883951, 28.62494623,\n",
       "       28.65105296, 30.88673089, 30.91283762, 30.93894435, 30.96505108,\n",
       "       55.36596237, 55.3920691 , 55.41817583, 55.44428256, 58.37919333,\n",
       "       58.40530006, 58.43140679, 58.45751352, 57.46366091, 57.48976764,\n",
       "       57.51587437, 57.5419811 , 59.77765902, 59.80376575, 59.82987248,\n",
       "       59.85597921, 62.09165714, 62.11776387, 62.14387059, 62.16997732,\n",
       "       67.63518578, 67.66129251, 67.68739924, 67.71350597, 19.50147299,\n",
       "       19.52757972, 19.55368645, 19.57979317, 21.8154711 , 21.84157783,\n",
       "       21.86768456, 21.89379129, 24.12946921, 24.15557594, 24.18168267,\n",
       "       24.2077894 , 26.44346733, 26.46957406, 26.49568078, 26.52178751,\n",
       "       28.75746544, 28.78357217, 28.8096789 , 28.83578563, 31.07146355,\n",
       "       31.09757028, 31.12367701, 31.14978374, 59.75654364, 59.78265037,\n",
       "       59.8087571 , 59.83486383, 62.7697746 , 62.79588133, 62.82198806,\n",
       "       62.84809479, 61.85424218, 61.88034891, 61.90645564, 61.93256237,\n",
       "       64.1682403 , 64.19434702, 64.22045375, 64.24656048, 66.48223841,\n",
       "       66.50834514, 66.53445186, 66.56055859, 72.02576705, 72.05187378,\n",
       "       72.07798051, 72.10408724, 23.89205426, 23.91816099, 23.94426772,\n",
       "       23.97037445, 26.20605237, 26.2321591 , 26.25826583, 26.28437256,\n",
       "       28.52005049, 28.54615721, 28.57226394, 28.59837067, 30.8340486 ,\n",
       "       30.86015533, 30.88626205, 30.91236878, 33.14804671, 33.17415344,\n",
       "       33.20026017, 33.2263669 , 35.46204482, 35.48815155, 35.51425828,\n",
       "       35.54036501, 59.94127631, 59.96738303, 59.99348976, 60.01959649,\n",
       "       62.95450727, 62.98061399, 63.00672072, 63.03282745, 62.03897485,\n",
       "       62.06508157, 62.0911883 , 62.11729503, 64.35297296, 64.37907969,\n",
       "       64.40518641, 64.43129314, 66.66697107, 66.6930778 , 66.71918453,\n",
       "       66.74529126, 72.21049972, 72.23660644, 72.26271317, 72.2888199 ,\n",
       "       24.07678692, 24.10289365, 24.12900038, 24.15510711, 26.39078504,\n",
       "       26.41689176, 26.44299849, 26.46910522, 28.70478315, 28.73088988,\n",
       "       28.7569966 , 28.78310333, 31.01878126, 31.04488799, 31.07099472,\n",
       "       31.09710145, 33.33277937, 33.3588861 , 33.38499283, 33.41109956,\n",
       "       35.64677749, 35.67288421, 35.69899094, 35.72509767, 60.12600897,\n",
       "       60.1521157 , 60.17822243, 60.20432915, 63.13923993, 63.16534666,\n",
       "       63.19145338, 63.21756011, 62.22370751, 62.24981424, 62.27592096,\n",
       "       62.30202769, 64.53770562, 64.56381235, 64.58991908, 64.61602581,\n",
       "       66.85170373, 66.87781046, 66.90391719, 66.93002392, 72.39523238,\n",
       "       72.42133911, 72.44744584, 72.47355256, 24.26151959, 24.28762631,\n",
       "       24.31373304, 24.33983977, 26.5755177 , 26.60162443, 26.62773115,\n",
       "       26.65383788, 28.88951581, 28.91562254, 28.94172927, 28.967836  ,\n",
       "       31.20351392, 31.22962065, 31.25572738, 31.28183411, 33.51751204,\n",
       "       33.54361876, 33.56972549, 33.59583222, 35.83151015, 35.85761688,\n",
       "       35.88372361, 35.90983033, 60.31074163, 60.33684836, 60.36295509,\n",
       "       60.38906182, 63.32397259, 63.35007932, 63.37618605, 63.40229278,\n",
       "       62.40844017, 62.4345469 , 62.46065363, 62.48676036, 64.72243828,\n",
       "       64.74854501, 64.77465174, 64.80075847, 67.0364364 , 67.06254312,\n",
       "       67.08864985, 67.11475658, 72.57996504, 72.60607177, 72.6321785 ,\n",
       "       72.65828523, 24.44625225, 24.47235898, 24.4984657 , 24.52457243,\n",
       "       26.76025036, 26.78635709, 26.81246382, 26.83857055, 29.07424847,\n",
       "       29.1003552 , 29.12646193, 29.15256866, 31.38824659, 31.41435331,\n",
       "       31.44046004, 31.46656677, 33.7022447 , 33.72835143, 33.75445816,\n",
       "       33.78056488, 36.01624281, 36.04234954, 36.06845627, 36.094563  ,\n",
       "       60.49547429, 60.52158102, 60.54768775, 60.57379448, 63.50870525,\n",
       "       63.53481198, 63.56091871, 63.58702544, 62.59317283, 62.61927956,\n",
       "       62.64538629, 62.67149302, 64.90717095, 64.93327767, 64.9593844 ,\n",
       "       64.98549113, 67.22116906, 67.24727579, 67.27338252, 67.29948924,\n",
       "       72.7646977 , 72.79080443, 72.81691116, 72.84301789, 24.63098491,\n",
       "       24.65709164, 24.68319837, 24.7093051 , 26.94498302, 26.97108975,\n",
       "       26.99719648, 27.02330321, 29.25898114, 29.28508786, 29.31119459,\n",
       "       29.33730132, 31.57297925, 31.59908598, 31.62519271, 31.65129943,\n",
       "       33.88697736, 33.91308409, 33.93919082, 33.96529755, 36.20097547,\n",
       "       36.2270822 , 36.25318893, 36.27929566, 64.88605557, 64.91216229,\n",
       "       64.93826902, 64.96437575, 67.89928652, 67.92539325, 67.95149998,\n",
       "       67.97760671, 66.9837541 , 67.00986083, 67.03596756, 67.06207429,\n",
       "       69.29775222, 69.32385895, 69.34996567, 69.3760724 , 71.61175033,\n",
       "       71.63785706, 71.66396379, 71.69007051, 77.15527897, 77.1813857 ,\n",
       "       77.20749243, 77.23359916, 29.02156618, 29.04767291, 29.07377964,\n",
       "       29.09988637, 31.33556429, 31.36167102, 31.38777775, 31.41388448,\n",
       "       33.64956241, 33.67566914, 33.70177586, 33.72788259, 35.96356052,\n",
       "       35.98966725, 36.01577398, 36.0418807 , 38.27755863, 38.30366536,\n",
       "       38.32977209, 38.35587882, 40.59155674, 40.61766347, 40.6437702 ,\n",
       "       40.66987693, 65.07078823, 65.09689496, 65.12300168, 65.14910841,\n",
       "       68.08401919, 68.11012592, 68.13623264, 68.16233937, 67.16848677,\n",
       "       67.1945935 , 67.22070022, 67.24680695, 69.48248488, 69.50859161,\n",
       "       69.53469834, 69.56080506, 71.79648299, 71.82258972, 71.84869645,\n",
       "       71.87480318, 77.34001164, 77.36611837, 77.39222509, 77.41833182,\n",
       "       29.20629884, 29.23240557, 29.2585123 , 29.28461903, 31.52029696,\n",
       "       31.54640369, 31.57251041, 31.59861714, 33.83429507, 33.8604018 ,\n",
       "       33.88650853, 33.91261525, 36.14829318, 36.17439991, 36.20050664,\n",
       "       36.22661337, 38.46229129, 38.48839802, 38.51450475, 38.54061148,\n",
       "       40.77628941, 40.80239614, 40.82850286, 40.85460959, 65.25552089,\n",
       "       65.28162762, 65.30773435, 65.33384108, 68.26875185, 68.29485858,\n",
       "       68.32096531, 68.34707203, 67.35321943, 67.37932616, 67.40543289,\n",
       "       67.43153961, 69.66721754, 69.69332427, 69.719431  , 69.74553773,\n",
       "       71.98121565, 72.00732238, 72.03342911, 72.05953584, 77.5247443 ,\n",
       "       77.55085103, 77.57695776, 77.60306449, 29.39103151, 29.41713824,\n",
       "       29.44324496, 29.46935169, 31.70502962, 31.73113635, 31.75724308,\n",
       "       31.7833498 , 34.01902773, 34.04513446, 34.07124119, 34.09734792,\n",
       "       36.33302584, 36.35913257, 36.3852393 , 36.41134603, 38.64702396,\n",
       "       38.67313069, 38.69923741, 38.72534414, 40.96102207, 40.9871288 ,\n",
       "       41.01323553, 41.03934226, 65.44025355, 65.46636028, 65.49246701,\n",
       "       65.51857374, 68.45348451, 68.47959124, 68.50569797, 68.5318047 ,\n",
       "       67.53795209, 67.56405882, 67.59016555, 67.61627228, 69.8519502 ,\n",
       "       69.87805693, 69.90416366, 69.93027039, 72.16594832, 72.19205505,\n",
       "       72.21816177, 72.2442685 , 77.70947696, 77.73558369, 77.76169042,\n",
       "       77.78779715, 29.57576417, 29.6018709 , 29.62797763, 29.65408435,\n",
       "       31.88976228, 31.91586901, 31.94197574, 31.96808247, 34.20376039,\n",
       "       34.22986712, 34.25597385, 34.28208058, 36.51775851, 36.54386524,\n",
       "       36.56997196, 36.59607869, 38.83175662, 38.85786335, 38.88397008,\n",
       "       38.91007681, 41.14575473, 41.17186146, 41.19796819, 41.22407492,\n",
       "       65.62498622, 65.65109294, 65.67719967, 65.7033064 , 68.63821717,\n",
       "       68.6643239 , 68.69043063, 68.71653736, 67.72268475, 67.74879148,\n",
       "       67.77489821, 67.80100494, 70.03668287, 70.0627896 , 70.08889632,\n",
       "       70.11500305, 72.35068098, 72.37678771, 72.40289444, 72.42900117,\n",
       "       77.89420963, 77.92031635, 77.94642308, 77.97252981, 29.76049683,\n",
       "       29.78660356, 29.81271029, 29.83881702, 32.07449494, 32.10060167,\n",
       "       32.1267084 , 32.15281513, 34.38849306, 34.41459979, 34.44070651,\n",
       "       34.46681324, 36.70249117, 36.7285979 , 36.75470463, 36.78081136,\n",
       "       39.01648928, 39.04259601, 39.06870274, 39.09480947, 41.3304874 ,\n",
       "       41.35659412, 41.38270085, 41.40880758])"
      ]
     },
     "execution_count": 55,
     "metadata": {},
     "output_type": "execute_result"
    }
   ],
   "source": [
    "pred = model.predict(X)\n",
    "pred "
   ]
  },
  {
   "cell_type": "markdown",
   "metadata": {},
   "source": [
    "- 예측 결과를 load_pred로 df에 추가하세요."
   ]
  },
  {
   "cell_type": "code",
   "execution_count": 56,
   "metadata": {
    "ExecuteTime": {
     "end_time": "2022-03-07T07:57:23.773382Z",
     "start_time": "2022-03-07T07:57:23.741378Z"
    }
   },
   "outputs": [
    {
     "data": {
      "text/html": [
       "<div>\n",
       "<style scoped>\n",
       "    .dataframe tbody tr th:only-of-type {\n",
       "        vertical-align: middle;\n",
       "    }\n",
       "\n",
       "    .dataframe tbody tr th {\n",
       "        vertical-align: top;\n",
       "    }\n",
       "\n",
       "    .dataframe thead th {\n",
       "        text-align: right;\n",
       "    }\n",
       "</style>\n",
       "<table border=\"1\" class=\"dataframe\">\n",
       "  <thead>\n",
       "    <tr style=\"text-align: right;\">\n",
       "      <th></th>\n",
       "      <th>relative_compactness</th>\n",
       "      <th>surface_area</th>\n",
       "      <th>wall_area</th>\n",
       "      <th>roof_area</th>\n",
       "      <th>overall_height</th>\n",
       "      <th>orientation</th>\n",
       "      <th>glazing_area</th>\n",
       "      <th>glazing_area_distribution</th>\n",
       "      <th>heating_load</th>\n",
       "      <th>cooling_load</th>\n",
       "      <th>load</th>\n",
       "      <th>load_pred</th>\n",
       "    </tr>\n",
       "  </thead>\n",
       "  <tbody>\n",
       "    <tr>\n",
       "      <th>0</th>\n",
       "      <td>0.98</td>\n",
       "      <td>514.5</td>\n",
       "      <td>294.0</td>\n",
       "      <td>110.25</td>\n",
       "      <td>7.0</td>\n",
       "      <td>2</td>\n",
       "      <td>0.0</td>\n",
       "      <td>0</td>\n",
       "      <td>15.55</td>\n",
       "      <td>21.33</td>\n",
       "      <td>36.88</td>\n",
       "      <td>51.022624</td>\n",
       "    </tr>\n",
       "    <tr>\n",
       "      <th>1</th>\n",
       "      <td>0.98</td>\n",
       "      <td>514.5</td>\n",
       "      <td>294.0</td>\n",
       "      <td>110.25</td>\n",
       "      <td>7.0</td>\n",
       "      <td>3</td>\n",
       "      <td>0.0</td>\n",
       "      <td>0</td>\n",
       "      <td>15.55</td>\n",
       "      <td>21.33</td>\n",
       "      <td>36.88</td>\n",
       "      <td>51.048731</td>\n",
       "    </tr>\n",
       "    <tr>\n",
       "      <th>2</th>\n",
       "      <td>0.98</td>\n",
       "      <td>514.5</td>\n",
       "      <td>294.0</td>\n",
       "      <td>110.25</td>\n",
       "      <td>7.0</td>\n",
       "      <td>4</td>\n",
       "      <td>0.0</td>\n",
       "      <td>0</td>\n",
       "      <td>15.55</td>\n",
       "      <td>21.33</td>\n",
       "      <td>36.88</td>\n",
       "      <td>51.074838</td>\n",
       "    </tr>\n",
       "    <tr>\n",
       "      <th>3</th>\n",
       "      <td>0.98</td>\n",
       "      <td>514.5</td>\n",
       "      <td>294.0</td>\n",
       "      <td>110.25</td>\n",
       "      <td>7.0</td>\n",
       "      <td>5</td>\n",
       "      <td>0.0</td>\n",
       "      <td>0</td>\n",
       "      <td>15.55</td>\n",
       "      <td>21.33</td>\n",
       "      <td>36.88</td>\n",
       "      <td>51.100945</td>\n",
       "    </tr>\n",
       "    <tr>\n",
       "      <th>4</th>\n",
       "      <td>0.90</td>\n",
       "      <td>563.5</td>\n",
       "      <td>318.5</td>\n",
       "      <td>122.50</td>\n",
       "      <td>7.0</td>\n",
       "      <td>2</td>\n",
       "      <td>0.0</td>\n",
       "      <td>0</td>\n",
       "      <td>20.84</td>\n",
       "      <td>28.28</td>\n",
       "      <td>49.12</td>\n",
       "      <td>54.035855</td>\n",
       "    </tr>\n",
       "    <tr>\n",
       "      <th>...</th>\n",
       "      <td>...</td>\n",
       "      <td>...</td>\n",
       "      <td>...</td>\n",
       "      <td>...</td>\n",
       "      <td>...</td>\n",
       "      <td>...</td>\n",
       "      <td>...</td>\n",
       "      <td>...</td>\n",
       "      <td>...</td>\n",
       "      <td>...</td>\n",
       "      <td>...</td>\n",
       "      <td>...</td>\n",
       "    </tr>\n",
       "    <tr>\n",
       "      <th>763</th>\n",
       "      <td>0.64</td>\n",
       "      <td>784.0</td>\n",
       "      <td>343.0</td>\n",
       "      <td>220.50</td>\n",
       "      <td>3.5</td>\n",
       "      <td>5</td>\n",
       "      <td>0.4</td>\n",
       "      <td>5</td>\n",
       "      <td>17.88</td>\n",
       "      <td>21.40</td>\n",
       "      <td>39.28</td>\n",
       "      <td>39.094809</td>\n",
       "    </tr>\n",
       "    <tr>\n",
       "      <th>764</th>\n",
       "      <td>0.62</td>\n",
       "      <td>808.5</td>\n",
       "      <td>367.5</td>\n",
       "      <td>220.50</td>\n",
       "      <td>3.5</td>\n",
       "      <td>2</td>\n",
       "      <td>0.4</td>\n",
       "      <td>5</td>\n",
       "      <td>16.54</td>\n",
       "      <td>16.88</td>\n",
       "      <td>33.42</td>\n",
       "      <td>41.330487</td>\n",
       "    </tr>\n",
       "    <tr>\n",
       "      <th>765</th>\n",
       "      <td>0.62</td>\n",
       "      <td>808.5</td>\n",
       "      <td>367.5</td>\n",
       "      <td>220.50</td>\n",
       "      <td>3.5</td>\n",
       "      <td>3</td>\n",
       "      <td>0.4</td>\n",
       "      <td>5</td>\n",
       "      <td>16.44</td>\n",
       "      <td>17.11</td>\n",
       "      <td>33.55</td>\n",
       "      <td>41.356594</td>\n",
       "    </tr>\n",
       "    <tr>\n",
       "      <th>766</th>\n",
       "      <td>0.62</td>\n",
       "      <td>808.5</td>\n",
       "      <td>367.5</td>\n",
       "      <td>220.50</td>\n",
       "      <td>3.5</td>\n",
       "      <td>4</td>\n",
       "      <td>0.4</td>\n",
       "      <td>5</td>\n",
       "      <td>16.48</td>\n",
       "      <td>16.61</td>\n",
       "      <td>33.09</td>\n",
       "      <td>41.382701</td>\n",
       "    </tr>\n",
       "    <tr>\n",
       "      <th>767</th>\n",
       "      <td>0.62</td>\n",
       "      <td>808.5</td>\n",
       "      <td>367.5</td>\n",
       "      <td>220.50</td>\n",
       "      <td>3.5</td>\n",
       "      <td>5</td>\n",
       "      <td>0.4</td>\n",
       "      <td>5</td>\n",
       "      <td>16.64</td>\n",
       "      <td>16.03</td>\n",
       "      <td>32.67</td>\n",
       "      <td>41.408808</td>\n",
       "    </tr>\n",
       "  </tbody>\n",
       "</table>\n",
       "<p>768 rows × 12 columns</p>\n",
       "</div>"
      ],
      "text/plain": [
       "     relative_compactness  surface_area  wall_area  roof_area  overall_height  \\\n",
       "0                    0.98         514.5      294.0     110.25             7.0   \n",
       "1                    0.98         514.5      294.0     110.25             7.0   \n",
       "2                    0.98         514.5      294.0     110.25             7.0   \n",
       "3                    0.98         514.5      294.0     110.25             7.0   \n",
       "4                    0.90         563.5      318.5     122.50             7.0   \n",
       "..                    ...           ...        ...        ...             ...   \n",
       "763                  0.64         784.0      343.0     220.50             3.5   \n",
       "764                  0.62         808.5      367.5     220.50             3.5   \n",
       "765                  0.62         808.5      367.5     220.50             3.5   \n",
       "766                  0.62         808.5      367.5     220.50             3.5   \n",
       "767                  0.62         808.5      367.5     220.50             3.5   \n",
       "\n",
       "     orientation  glazing_area  glazing_area_distribution  heating_load  \\\n",
       "0              2           0.0                          0         15.55   \n",
       "1              3           0.0                          0         15.55   \n",
       "2              4           0.0                          0         15.55   \n",
       "3              5           0.0                          0         15.55   \n",
       "4              2           0.0                          0         20.84   \n",
       "..           ...           ...                        ...           ...   \n",
       "763            5           0.4                          5         17.88   \n",
       "764            2           0.4                          5         16.54   \n",
       "765            3           0.4                          5         16.44   \n",
       "766            4           0.4                          5         16.48   \n",
       "767            5           0.4                          5         16.64   \n",
       "\n",
       "     cooling_load   load  load_pred  \n",
       "0           21.33  36.88  51.022624  \n",
       "1           21.33  36.88  51.048731  \n",
       "2           21.33  36.88  51.074838  \n",
       "3           21.33  36.88  51.100945  \n",
       "4           28.28  49.12  54.035855  \n",
       "..            ...    ...        ...  \n",
       "763         21.40  39.28  39.094809  \n",
       "764         16.88  33.42  41.330487  \n",
       "765         17.11  33.55  41.356594  \n",
       "766         16.61  33.09  41.382701  \n",
       "767         16.03  32.67  41.408808  \n",
       "\n",
       "[768 rows x 12 columns]"
      ]
     },
     "execution_count": 56,
     "metadata": {},
     "output_type": "execute_result"
    }
   ],
   "source": [
    "df['load_pred'] = pred\n",
    "df"
   ]
  },
  {
   "cell_type": "markdown",
   "metadata": {},
   "source": [
    " - 실제 냉난방 로드와 예측 로드의 R-squared, MSE, MAE를 각각 출력하세요."
   ]
  },
  {
   "cell_type": "code",
   "execution_count": 63,
   "metadata": {},
   "outputs": [
    {
     "name": "stdout",
     "output_type": "stream",
     "text": [
      "Load\n"
     ]
    },
    {
     "ename": "NameError",
     "evalue": "name 'y_train' is not defined",
     "output_type": "error",
     "traceback": [
      "\u001b[1;31m---------------------------------------------------------------------------\u001b[0m",
      "\u001b[1;31mNameError\u001b[0m                                 Traceback (most recent call last)",
      "\u001b[1;32m~\\AppData\\Local\\Temp/ipykernel_10756/1646211138.py\u001b[0m in \u001b[0;36m<module>\u001b[1;34m\u001b[0m\n\u001b[0;32m      4\u001b[0m \u001b[0mprint\u001b[0m\u001b[1;33m(\u001b[0m\u001b[1;34m'Load'\u001b[0m\u001b[1;33m)\u001b[0m\u001b[1;33m\u001b[0m\u001b[1;33m\u001b[0m\u001b[0m\n\u001b[0;32m      5\u001b[0m \u001b[1;31m# print('R squared : ', r2_score())\u001b[0m\u001b[1;33m\u001b[0m\u001b[1;33m\u001b[0m\u001b[0m\n\u001b[1;32m----> 6\u001b[1;33m \u001b[0mprint\u001b[0m\u001b[1;33m(\u001b[0m\u001b[1;34m'Mean Squared Error: '\u001b[0m\u001b[1;33m,\u001b[0m \u001b[0mmean_squared_error\u001b[0m\u001b[1;33m(\u001b[0m\u001b[0my_train\u001b[0m\u001b[1;33m)\u001b[0m\u001b[1;33m)\u001b[0m\u001b[1;33m\u001b[0m\u001b[1;33m\u001b[0m\u001b[0m\n\u001b[0m\u001b[0;32m      7\u001b[0m \u001b[1;31m# print('Mean Absolute Error: ', mean_absolute_error())\u001b[0m\u001b[1;33m\u001b[0m\u001b[1;33m\u001b[0m\u001b[0m\n",
      "\u001b[1;31mNameError\u001b[0m: name 'y_train' is not defined"
     ]
    }
   ],
   "source": [
    "from sklearn.metrics import r2_score\n",
    "from sklearn.metrics import mean_squared_error\n",
    "from sklearn.metrics import mean_absolute_error\n",
    "print('Load')\n",
    "# print('R squared : ', r2_score())\n",
    "print('Mean Squared Error: ', mean_squared_error(y_train))\n",
    "# print('Mean Absolute Error: ', mean_absolute_error())"
   ]
  },
  {
   "cell_type": "markdown",
   "metadata": {},
   "source": [
    "<br/>\n",
    "<br/>\n",
    "<br/>\n",
    "<br/>"
   ]
  },
  {
   "cell_type": "markdown",
   "metadata": {},
   "source": [
    "### 파이프라인 구축결과 시각화 하기"
   ]
  },
  {
   "cell_type": "markdown",
   "metadata": {},
   "source": [
    "1. 오늘 배운 PolynominalFeatue를 추가해서 성능을 향상해 봅니다.\n",
    "2. Polynominal, 다항회귀로 차수가 높아짐에 따라서 Overfitting 발생, 이를 Regulization(규제) 으로 제어합니다.\n",
    "3.  전처리 추가시 PipeLine 사용하고 최종적인 Error를 간단한 Bar그래프로 시각화 합니다."
   ]
  },
  {
   "cell_type": "code",
   "execution_count": 64,
   "metadata": {},
   "outputs": [
    {
     "ename": "SyntaxError",
     "evalue": "invalid syntax (Temp/ipykernel_10756/2764037901.py, line 1)",
     "output_type": "error",
     "traceback": [
      "\u001b[1;36m  File \u001b[1;32m\"C:\\Users\\user\\AppData\\Local\\Temp/ipykernel_10756/2764037901.py\"\u001b[1;36m, line \u001b[1;32m1\u001b[0m\n\u001b[1;33m    ridge, elasticnet 사용, pipe_line 안에 standardization사용\u001b[0m\n\u001b[1;37m                                                        ^\u001b[0m\n\u001b[1;31mSyntaxError\u001b[0m\u001b[1;31m:\u001b[0m invalid syntax\n"
     ]
    }
   ],
   "source": [
    "ridge, elasticnet 사용, pipe_line 안에 standardization사용"
   ]
  },
  {
   "cell_type": "code",
   "execution_count": 65,
   "metadata": {},
   "outputs": [],
   "source": [
    "from sklearn.linear_model import Ridge, ElasticNet\n",
    "import seaborn as sns"
   ]
  },
  {
   "cell_type": "code",
   "execution_count": 71,
   "metadata": {},
   "outputs": [
    {
     "data": {
      "text/plain": [
       "array([36.35347668, 19.00387917, 61.56699557, 55.49220957, 64.90611306,\n",
       "       57.90826633, 59.99361012, 69.4751505 , 62.3011416 , 59.59765254,\n",
       "       17.55708921, 71.65619007, 26.50222476, 71.81539455, 72.37174609,\n",
       "       57.33614659, 21.52957373, 57.72281582, 36.09521581, 26.41583064,\n",
       "       28.91527917, 65.09156357, 21.45083563, 66.66494903, 15.24309119,\n",
       "       31.54003013, 30.97101632, 29.75613761, 21.15867271, 67.22130056,\n",
       "       31.10397477, 31.25552323, 71.97459903, 31.07007272, 60.1528146 ,\n",
       "       72.39517031, 29.38523659, 72.76607133, 40.66306376, 24.42034516,\n",
       "       26.10507771, 66.7174411 , 33.72106971, 64.61513962, 53.12571949,\n",
       "       55.02861511, 21.90047476, 28.96777124, 58.25292132, 67.6107916 ,\n",
       "       65.11780961, 30.57386927, 67.53515943, 36.69813167, 72.58062082,\n",
       "       18.84467469, 51.05613058, 64.2442386 , 67.11458815, 34.25117521,\n",
       "       36.37972271, 26.38958461, 65.30326012, 19.5602307 , 26.23038013,\n",
       "       24.2610371 , 66.74368713, 24.13573468, 57.5215971 , 66.92913764,\n",
       "       65.25076805, 21.68877821, 59.80934909, 40.82226824, 28.6570183 ,\n",
       "       64.42968911, 65.43621856, 67.30003866, 65.62166907, 31.32833358,\n",
       "       68.15666531, 58.06747081, 25.73417668, 36.25442029, 70.11024013,\n",
       "       64.40344308, 55.42576217, 57.80620759, 30.89227822, 40.84851428,\n",
       "       29.25227814, 57.54784314, 23.91638211, 54.68396012, 77.14846877,\n",
       "       40.58432566, 69.71309308, 33.82778212, 22.18508525, 72.44766237,\n",
       "       61.77869212, 59.41220203, 53.17821155, 66.9000698 , 19.58647674,\n",
       "       62.48659211, 72.34550005, 31.46721977, 26.2041341 , 51.08237662,\n",
       "       39.01212969, 67.5089134 , 67.21364454, 28.47156779, 26.65377322,\n",
       "       28.84246882, 26.5284708 , 62.14959314, 57.49535107, 77.89027082,\n",
       "       68.66052477, 24.12807866, 26.25662616, 68.13041927, 26.60128115,\n",
       "       77.75731237, 29.62317917, 60.17906063, 24.44648761, 67.71750401,\n",
       "       66.9788079 , 54.65771409, 61.96414263, 24.28728313, 72.84480943,\n",
       "       22.13259318, 69.92478962, 54.63146805, 67.66811788, 31.72548064,\n",
       "       33.22486626, 38.27032764, 58.20042925, 21.07993461, 61.35529903,\n",
       "       41.03396479, 57.64407772, 72.07676135, 28.88903314, 36.01647771,\n",
       "       60.54996165, 26.31677425, 36.28066632, 35.64557669, 29.27852418,\n",
       "       67.13801237, 58.46461787, 59.43844807, 31.38848167, 55.21406562,\n",
       "       66.53199058, 26.2828722 , 54.8431646 , 64.9323591 , 30.91086824,\n",
       "       38.53451626, 31.62642425, 67.34660299, 36.20192822, 66.97570197,\n",
       "       77.36016532, 26.8129777 , 57.77996156, 72.42423815, 67.72060994,\n",
       "       55.39951613, 62.03695299, 64.21799256, 34.19868314, 55.3732701 ,\n",
       "       19.18932968, 72.23878764, 62.64579659, 26.76058922, 32.1226277 ,\n",
       "       59.09379308, 21.13242668, 26.44207668, 64.19174653, 35.69806875,\n",
       "       30.5213772 , 26.83922373])"
      ]
     },
     "execution_count": 71,
     "metadata": {},
     "output_type": "execute_result"
    }
   ],
   "source": [
    "ridge = Ridge(alpha = 0.01)\n",
    "ridge.fit(X_train, Y_train)\n",
    "pred = ridge.predict(X_test)\n",
    "pred"
   ]
  },
  {
   "cell_type": "code",
   "execution_count": null,
   "metadata": {},
   "outputs": [],
   "source": []
  },
  {
   "cell_type": "code",
   "execution_count": null,
   "metadata": {},
   "outputs": [],
   "source": []
  },
  {
   "cell_type": "markdown",
   "metadata": {},
   "source": [
    "#### 작업하신 결과물을 Mattermost 사이트 개인 메세지로 올려주시기 바랍니다."
   ]
  }
 ],
 "metadata": {
  "kernelspec": {
   "display_name": "Python 3 (ipykernel)",
   "language": "python",
   "name": "python3"
  },
  "language_info": {
   "codemirror_mode": {
    "name": "ipython",
    "version": 3
   },
   "file_extension": ".py",
   "mimetype": "text/x-python",
   "name": "python",
   "nbconvert_exporter": "python",
   "pygments_lexer": "ipython3",
   "version": "3.9.7"
  },
  "toc": {
   "base_numbering": 1,
   "nav_menu": {},
   "number_sections": true,
   "sideBar": true,
   "skip_h1_title": false,
   "title_cell": "Table of Contents",
   "title_sidebar": "Contents",
   "toc_cell": false,
   "toc_position": {},
   "toc_section_display": true,
   "toc_window_display": false
  },
  "varInspector": {
   "cols": {
    "lenName": 16,
    "lenType": 16,
    "lenVar": 40
   },
   "kernels_config": {
    "python": {
     "delete_cmd_postfix": "",
     "delete_cmd_prefix": "del ",
     "library": "var_list.py",
     "varRefreshCmd": "print(var_dic_list())"
    },
    "r": {
     "delete_cmd_postfix": ") ",
     "delete_cmd_prefix": "rm(",
     "library": "var_list.r",
     "varRefreshCmd": "cat(var_dic_list()) "
    }
   },
   "types_to_exclude": [
    "module",
    "function",
    "builtin_function_or_method",
    "instance",
    "_Feature"
   ],
   "window_display": false
  }
 },
 "nbformat": 4,
 "nbformat_minor": 4
}
