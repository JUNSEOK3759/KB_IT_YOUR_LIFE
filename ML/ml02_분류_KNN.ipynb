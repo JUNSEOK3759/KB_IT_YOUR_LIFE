{
 "cells": [
  {
   "cell_type": "code",
   "execution_count": 1,
   "id": "94d3339b",
   "metadata": {},
   "outputs": [],
   "source": [
    "import numpy as np\n",
    "import pandas as pd\n",
    "import matplotlib.pyplot as plt\n",
    "import seaborn as sns\n",
    "from IPython.display import Image"
   ]
  },
  {
   "cell_type": "markdown",
   "id": "ff731bdd",
   "metadata": {},
   "source": [
    "# 분류 (Classification)\n",
    "\n",
    "## K Nearest Neighbors (k-최근접 이웃 분류 알고리즘)\n",
    "\n",
    "가장 중요한 hyperparameter인 **K**값은 근처에 참고(reference)할 **이웃의 숫자**\n",
    "- k-최근접 이웃 분류 알고리즘\n",
    "- 가장 고전적이고 직관적인 머신러닝 분류 알고리즘\n",
    "- 기하학적 거리 분류기\n",
    "- 가장 **가깝게 위치하는 멤버로 분류**하는 방식"
   ]
  },
  {
   "cell_type": "code",
   "execution_count": 9,
   "id": "509af56a",
   "metadata": {},
   "outputs": [
    {
     "data": {
      "text/html": [
       "<img src=\"https://miro.medium.com/max/405/0*QyWp7J6eSz0tayc0.png\" width=\"500\"/>"
      ],
      "text/plain": [
       "<IPython.core.display.Image object>"
      ]
     },
     "execution_count": 9,
     "metadata": {},
     "output_type": "execute_result"
    }
   ],
   "source": [
    "Image(url='https://miro.medium.com/max/405/0*QyWp7J6eSz0tayc0.png', width=500)\n",
    "\n",
    "\n",
    "# '''\n",
    "# 물음표와 가장 가깝게 만나는 지웃을 지정해서 boundary를 친다.\n",
    "\n",
    "\n",
    "# k를 몇으로 정하느냐에 따라서 결과가 매우 달라진다.\n",
    "\n",
    "\n",
    "# 물음표가 별인지 세모인지를 구분하면 된다.\n",
    "\n",
    "# 이웃하는 데이터의 갯수가 홀수인지, 짝수인지에 따라서 알고리즘이 달라진다.\n",
    "\n",
    "# 짝수일 때는, 거리상 가장 가까운 클래스가 물음표 안에 들어간다.\n",
    "# 예를 들어 세모가 가장 가깝다고 한다면, 물음표는 세모이다.\n",
    "# 홀수일 때는, 그 안에 갯수가 가장 많은 클래스가 물음표 안에 들어간다.\n",
    "# 예를 들어 별이 가장 많다고 하면, 물음표는 별이다.\n",
    "\n",
    "# 여기서 지정하는 k를 hyperparameter라고 한다.\n",
    "# hyperparameter는 머신의 학습결과로 얻어지는 값이 아니라 인간의 경험치로 지정해줘야하는 값이다.\n",
    "# hyperparameter를 무슨 값으로 지정해주냐에 따라 성능이 크게 달라진다. 이러한 것을 모델 튜닝이라고 한다.\n",
    "# 딥러닝에서는 이러한 hyperparameter를 Art라고 한다.\n",
    "# '''"
   ]
  },
  {
   "cell_type": "markdown",
   "id": "9a446249",
   "metadata": {},
   "source": [
    "## 더미 데이터를 활용한 분류 원리 이해"
   ]
  },
  {
   "cell_type": "code",
   "execution_count": 3,
   "id": "86c29d62",
   "metadata": {},
   "outputs": [],
   "source": [
    "from sklearn.neighbors import KNeighborsClassifier"
   ]
  },
  {
   "cell_type": "markdown",
   "id": "d2cb52dc",
   "metadata": {},
   "source": [
    "## mnist (손글씨) 데이터셋을 활용한 분류\n",
    "\n",
    "mnist (손글씨) 데이터셋을 활용하여 0~9까지 분류하는 분류기를 만듭니다.\n",
    "\n",
    "`sklearn.datasets` 보다 고해상도 이미지이기 때문에 `tensorflow.keras.datasets`을 활용합니다."
   ]
  },
  {
   "cell_type": "code",
   "execution_count": 4,
   "id": "c1121f89",
   "metadata": {},
   "outputs": [],
   "source": [
    "from tensorflow.keras.datasets import mnist"
   ]
  },
  {
   "cell_type": "code",
   "execution_count": 5,
   "id": "ef0ae624",
   "metadata": {},
   "outputs": [
    {
     "data": {
      "text/plain": [
       "(5000, 784)"
      ]
     },
     "execution_count": 5,
     "metadata": {},
     "output_type": "execute_result"
    }
   ],
   "source": [
    "(x_digit, y_digit), (_, _15) = mnist.load_data()\n",
    "x_digit, y_digit = x_digit[:5000], y_digit[:5000]\n",
    "x_digit = x_digit.reshape(-1, 28*28)\n",
    "x_digit.shape"
   ]
  },
  {
   "cell_type": "markdown",
   "id": "017e803a",
   "metadata": {},
   "source": [
    "### mnist (손글씨) 데이터 시각화"
   ]
  },
  {
   "cell_type": "code",
   "execution_count": 6,
   "id": "f8a2e26d",
   "metadata": {},
   "outputs": [
    {
     "data": {
      "image/png": "[encoded data removed]",
      "text/plain": [
       "<Figure size 864x432 with 10 Axes>"
      ]
     },
     "metadata": {
      "needs_background": "light"
     },
     "output_type": "display_data"
    }
   ],
   "source": [
    "w, h = 2, 5\n",
    "fig, axes = plt.subplots(w, h)\n",
    "fig.set_size_inches(12, 6)\n",
    "for i in range(w*h):\n",
    "    axes[i//h, i%h].imshow(x_digit[i].reshape(-1, 28))\n",
    "    axes[i//h, i%h].set_title(y_digit[i], fontsize=20)\n",
    "    axes[i//h, i%h].axis('off')\n",
    "plt.tight_layout()\n",
    "plt.show()"
   ]
  },
  {
   "cell_type": "markdown",
   "id": "ca136870",
   "metadata": {},
   "source": [
    "## 데이터 셋 분할\n",
    "학습용(train) 데이터셋과 검증 (혹은 테스트)용 데이터 셋을 분할 합니다."
   ]
  },
  {
   "cell_type": "code",
   "execution_count": 7,
   "id": "b295bfee",
   "metadata": {},
   "outputs": [],
   "source": [
    "from sklearn.model_selection import train_test_split\n"
   ]
  },
  {
   "cell_type": "code",
   "execution_count": 11,
   "id": "ae8a3ae8",
   "metadata": {},
   "outputs": [],
   "source": [
    "X_train, X_test, y_train, y_test = train_test_split(x_digit, y_digit, stratify=y_digit, random_state=30, test_size=0.1)"
   ]
  },
  {
   "cell_type": "code",
   "execution_count": 12,
   "id": "ad2dcce7",
   "metadata": {},
   "outputs": [
    {
     "data": {
      "text/plain": [
       "((4500, 784), (500, 784))"
      ]
     },
     "execution_count": 12,
     "metadata": {},
     "output_type": "execute_result"
    }
   ],
   "source": [
    "X_train.shape, X_test.shape"
   ]
  },
  {
   "cell_type": "markdown",
   "id": "2f8f0802",
   "metadata": {},
   "source": [
    "### 모델 정의\n",
    "\n",
    "`KNeighborsClassifier`를 정의 하고 핵심 hyperparameter 인 `n_neighbors`를 지정합니다.\n",
    "\n",
    "임의로 5개의 이웃을 보도록 `n_neighbors=5`로 지정하겠습니다.\n",
    "\n",
    "그리고, `n_jobs` 옵션은 학습에 사용할 코어의 숫자를 지정합니다. -1로 지정하면, 모든 코어를 사용하도록 합니다."
   ]
  },
  {
   "cell_type": "code",
   "execution_count": 14,
   "id": "18eed0ab",
   "metadata": {},
   "outputs": [],
   "source": [
    "from sklearn.neighbors import KNeighborsClassifier"
   ]
  },
  {
   "cell_type": "code",
   "execution_count": 16,
   "id": "0b112ce5",
   "metadata": {},
   "outputs": [],
   "source": [
    "knn = KNeighborsClassifier(n_neighbors=5, n_jobs = -1) #k.... knn에서는 k를 입력하지 않으면 디폴트값이 5로 지정되어 있다."
   ]
  },
  {
   "cell_type": "code",
   "execution_count": 17,
   "id": "646fcc16",
   "metadata": {},
   "outputs": [
    {
     "data": {
      "text/plain": [
       "KNeighborsClassifier(n_jobs=-1)"
      ]
     },
     "execution_count": 17,
     "metadata": {},
     "output_type": "execute_result"
    }
   ],
   "source": [
    "knn"
   ]
  },
  {
   "cell_type": "markdown",
   "id": "98b9d746",
   "metadata": {},
   "source": [
    "### 학습 (fit)"
   ]
  },
  {
   "cell_type": "code",
   "execution_count": 18,
   "id": "7fad1522",
   "metadata": {},
   "outputs": [
    {
     "data": {
      "text/plain": [
       "KNeighborsClassifier(n_jobs=-1)"
      ]
     },
     "execution_count": 18,
     "metadata": {},
     "output_type": "execute_result"
    }
   ],
   "source": [
    "# 지도학습이기에 X_train(data)과 y_train(label)을 같이 넣어준다.\n",
    "knn.fit(X_train, y_train)"
   ]
  },
  {
   "cell_type": "markdown",
   "id": "7efa3388",
   "metadata": {},
   "source": [
    "### 예측 (predict)"
   ]
  },
  {
   "cell_type": "code",
   "execution_count": 20,
   "id": "58dcdbf5",
   "metadata": {},
   "outputs": [
    {
     "data": {
      "text/plain": [
       "array([6, 2, 0, 5, 4, 1, 3, 4, 7, 0, 8, 6, 6, 0, 4, 1, 0, 8, 2, 4, 1, 1,\n",
       "       7, 6, 0, 1, 1, 6, 1, 1, 2, 8, 7, 5, 6, 1, 4, 7, 0, 1, 2, 1, 2, 4,\n",
       "       5, 4, 3, 0, 7, 3, 4, 7, 5, 4, 9, 4, 9, 0, 2, 4, 5, 2, 4, 7, 3, 6,\n",
       "       9, 1, 7, 0, 5, 2, 7, 3, 9, 0, 1, 5, 6, 9, 4, 4, 9, 8, 9, 9, 1, 3,\n",
       "       3, 9, 0, 9, 6, 3, 0, 5, 7, 0, 1, 8, 2, 6, 7, 0, 3, 9, 9, 9, 2, 5,\n",
       "       1, 6, 1, 3, 7, 8, 8, 0, 5, 3, 6, 1, 4, 2, 4, 2, 4, 4, 3, 1, 3, 6,\n",
       "       0, 8, 7, 2, 5, 4, 2, 8, 1, 4, 7, 2, 4, 2, 7, 2, 1, 7, 6, 4, 8, 4,\n",
       "       8, 3, 4, 7, 2, 8, 8, 0, 6, 9, 8, 3, 6, 7, 2, 7, 2, 5, 0, 3, 2, 5,\n",
       "       6, 7, 2, 9, 4, 7, 2, 5, 7, 1, 5, 3, 9, 6, 9, 2, 4, 5, 1, 5, 3, 8,\n",
       "       9, 8, 6, 4, 4, 5, 0, 0, 8, 0, 8, 6, 6, 2, 0, 7, 9, 9, 9, 0, 1, 4,\n",
       "       3, 5, 1, 2, 0, 9, 8, 7, 3, 9, 3, 7, 0, 2, 8, 2, 1, 6, 0, 5, 5, 1,\n",
       "       6, 1, 2, 4, 7, 9, 0, 5, 6, 7, 3, 8, 7, 3, 0, 4, 2, 3, 6, 3, 8, 8,\n",
       "       1, 6, 7, 9, 3, 3, 4, 0, 9, 2, 0, 9, 6, 4, 1, 6, 1, 6, 4, 1, 1, 7,\n",
       "       5, 7, 2, 4, 9, 5, 2, 7, 6, 1, 4, 9, 9, 3, 9, 9, 6, 1, 9, 4, 1, 6,\n",
       "       7, 1, 9, 5, 9, 5, 8, 7, 3, 6, 7, 7, 6, 4, 7, 8, 6, 5, 5, 6, 9, 5,\n",
       "       1, 3, 6, 7, 5, 5, 3, 0, 6, 9, 2, 8, 4, 7, 7, 9, 3, 6, 3, 2, 4, 1,\n",
       "       6, 8, 6, 3, 4, 5, 1, 8, 9, 9, 0, 8, 3, 9, 5, 8, 5, 5, 8, 3, 7, 0,\n",
       "       7, 2, 7, 9, 7, 8, 1, 7, 1, 2, 4, 0, 3, 7, 5, 6, 0, 1, 9, 0, 3, 3,\n",
       "       1, 1, 8, 2, 4, 3, 4, 1, 3, 8, 6, 6, 6, 7, 4, 9, 4, 2, 0, 2, 1, 8,\n",
       "       9, 0, 7, 0, 0, 6, 0, 6, 0, 0, 0, 3, 6, 8, 0, 5, 0, 3, 3, 8, 1, 3,\n",
       "       4, 5, 3, 3, 0, 1, 1, 0, 1, 4, 9, 9, 1, 9, 9, 8, 7, 9, 2, 1, 9, 7,\n",
       "       1, 0, 6, 9, 6, 2, 8, 8, 1, 9, 7, 1, 7, 4, 6, 2, 8, 0, 6, 5, 2, 7,\n",
       "       1, 8, 2, 9, 9, 0, 4, 1, 1, 1, 7, 1, 4, 9, 7, 8], dtype=uint8)"
      ]
     },
     "execution_count": 20,
     "metadata": {},
     "output_type": "execute_result"
    }
   ],
   "source": [
    "pred = knn.predict(X_test)\n",
    "pred"
   ]
  },
  {
   "cell_type": "markdown",
   "id": "7562ef9d",
   "metadata": {},
   "source": [
    "### 검증 (evaluation)\n",
    "\n",
    "정확도 (Accuracy) 산출"
   ]
  },
  {
   "cell_type": "code",
   "execution_count": 23,
   "id": "752bafc2",
   "metadata": {},
   "outputs": [
    {
     "data": {
      "text/plain": [
       "0.938"
      ]
     },
     "execution_count": 23,
     "metadata": {},
     "output_type": "execute_result"
    }
   ],
   "source": [
    "#1. \n",
    "(pred == y_test).mean() # 전체중에서 몇프로 맞췄는지 퍼센트 내기"
   ]
  },
  {
   "cell_type": "code",
   "execution_count": 24,
   "id": "b1047a38",
   "metadata": {},
   "outputs": [
    {
     "data": {
      "text/plain": [
       "0.938"
      ]
     },
     "execution_count": 24,
     "metadata": {},
     "output_type": "execute_result"
    }
   ],
   "source": [
    "# 2. scroe()이용\n",
    "# score가 안돌아가는 경우가 있어서 위의 방법을 사용하는 것이 낫다.\n",
    "knn.score(X_test, y_test)"
   ]
  },
  {
   "cell_type": "markdown",
   "id": "a08a30e2",
   "metadata": {},
   "source": [
    "### 최적의 n_neighbors 찾기"
   ]
  },
  {
   "cell_type": "code",
   "execution_count": 27,
   "id": "cb2226bc",
   "metadata": {},
   "outputs": [
    {
     "name": "stdout",
     "output_type": "stream",
     "text": [
      "k :  1 , accuracy : 0.956\n",
      "k :  2 , accuracy : 0.95\n",
      "k :  3 , accuracy : 0.946\n",
      "k :  4 , accuracy : 0.938\n",
      "k :  5 , accuracy : 0.938\n",
      "k :  6 , accuracy : 0.934\n",
      "k :  7 , accuracy : 0.934\n",
      "k :  8 , accuracy : 0.936\n",
      "k :  9 , accuracy : 0.928\n",
      "k :  10 , accuracy : 0.928\n"
     ]
    }
   ],
   "source": [
    "for k in range(1, 11):\n",
    "    knn = KNeighborsClassifier(n_neighbors=k, n_jobs= -1)\n",
    "    knn.fit(X_train, y_train)\n",
    "    score = knn.score(X_test, y_test)\n",
    "    \n",
    "    print ('k : ', k, ', accuracy :', score)"
   ]
  },
  {
   "cell_type": "markdown",
   "id": "f94c4d8a",
   "metadata": {},
   "source": [
    "## Iris 붓꽃 데이터셋을 활용한 실습\n",
    "\n",
    "### 필요한 데이터셋 불러오기 (load_iris)"
   ]
  },
  {
   "cell_type": "code",
   "execution_count": 52,
   "id": "d99cbb69",
   "metadata": {
    "scrolled": true
   },
   "outputs": [
    {
     "data": {
      "text/plain": [
       "{'data': array([[5.1, 3.5, 1.4, 0.2],\n",
       "        [4.9, 3. , 1.4, 0.2],\n",
       "        [4.7, 3.2, 1.3, 0.2],\n",
       "        [4.6, 3.1, 1.5, 0.2],\n",
       "        [5. , 3.6, 1.4, 0.2],\n",
       "        [5.4, 3.9, 1.7, 0.4],\n",
       "        [4.6, 3.4, 1.4, 0.3],\n",
       "        [5. , 3.4, 1.5, 0.2],\n",
       "        [4.4, 2.9, 1.4, 0.2],\n",
       "        [4.9, 3.1, 1.5, 0.1],\n",
       "        [5.4, 3.7, 1.5, 0.2],\n",
       "        [4.8, 3.4, 1.6, 0.2],\n",
       "        [4.8, 3. , 1.4, 0.1],\n",
       "        [4.3, 3. , 1.1, 0.1],\n",
       "        [5.8, 4. , 1.2, 0.2],\n",
       "        [5.7, 4.4, 1.5, 0.4],\n",
       "        [5.4, 3.9, 1.3, 0.4],\n",
       "        [5.1, 3.5, 1.4, 0.3],\n",
       "        [5.7, 3.8, 1.7, 0.3],\n",
       "        [5.1, 3.8, 1.5, 0.3],\n",
       "        [5.4, 3.4, 1.7, 0.2],\n",
       "        [5.1, 3.7, 1.5, 0.4],\n",
       "        [4.6, 3.6, 1. , 0.2],\n",
       "        [5.1, 3.3, 1.7, 0.5],\n",
       "        [4.8, 3.4, 1.9, 0.2],\n",
       "        [5. , 3. , 1.6, 0.2],\n",
       "        [5. , 3.4, 1.6, 0.4],\n",
       "        [5.2, 3.5, 1.5, 0.2],\n",
       "        [5.2, 3.4, 1.4, 0.2],\n",
       "        [4.7, 3.2, 1.6, 0.2],\n",
       "        [4.8, 3.1, 1.6, 0.2],\n",
       "        [5.4, 3.4, 1.5, 0.4],\n",
       "        [5.2, 4.1, 1.5, 0.1],\n",
       "        [5.5, 4.2, 1.4, 0.2],\n",
       "        [4.9, 3.1, 1.5, 0.2],\n",
       "        [5. , 3.2, 1.2, 0.2],\n",
       "        [5.5, 3.5, 1.3, 0.2],\n",
       "        [4.9, 3.6, 1.4, 0.1],\n",
       "        [4.4, 3. , 1.3, 0.2],\n",
       "        [5.1, 3.4, 1.5, 0.2],\n",
       "        [5. , 3.5, 1.3, 0.3],\n",
       "        [4.5, 2.3, 1.3, 0.3],\n",
       "        [4.4, 3.2, 1.3, 0.2],\n",
       "        [5. , 3.5, 1.6, 0.6],\n",
       "        [5.1, 3.8, 1.9, 0.4],\n",
       "        [4.8, 3. , 1.4, 0.3],\n",
       "        [5.1, 3.8, 1.6, 0.2],\n",
       "        [4.6, 3.2, 1.4, 0.2],\n",
       "        [5.3, 3.7, 1.5, 0.2],\n",
       "        [5. , 3.3, 1.4, 0.2],\n",
       "        [7. , 3.2, 4.7, 1.4],\n",
       "        [6.4, 3.2, 4.5, 1.5],\n",
       "        [6.9, 3.1, 4.9, 1.5],\n",
       "        [5.5, 2.3, 4. , 1.3],\n",
       "        [6.5, 2.8, 4.6, 1.5],\n",
       "        [5.7, 2.8, 4.5, 1.3],\n",
       "        [6.3, 3.3, 4.7, 1.6],\n",
       "        [4.9, 2.4, 3.3, 1. ],\n",
       "        [6.6, 2.9, 4.6, 1.3],\n",
       "        [5.2, 2.7, 3.9, 1.4],\n",
       "        [5. , 2. , 3.5, 1. ],\n",
       "        [5.9, 3. , 4.2, 1.5],\n",
       "        [6. , 2.2, 4. , 1. ],\n",
       "        [6.1, 2.9, 4.7, 1.4],\n",
       "        [5.6, 2.9, 3.6, 1.3],\n",
       "        [6.7, 3.1, 4.4, 1.4],\n",
       "        [5.6, 3. , 4.5, 1.5],\n",
       "        [5.8, 2.7, 4.1, 1. ],\n",
       "        [6.2, 2.2, 4.5, 1.5],\n",
       "        [5.6, 2.5, 3.9, 1.1],\n",
       "        [5.9, 3.2, 4.8, 1.8],\n",
       "        [6.1, 2.8, 4. , 1.3],\n",
       "        [6.3, 2.5, 4.9, 1.5],\n",
       "        [6.1, 2.8, 4.7, 1.2],\n",
       "        [6.4, 2.9, 4.3, 1.3],\n",
       "        [6.6, 3. , 4.4, 1.4],\n",
       "        [6.8, 2.8, 4.8, 1.4],\n",
       "        [6.7, 3. , 5. , 1.7],\n",
       "        [6. , 2.9, 4.5, 1.5],\n",
       "        [5.7, 2.6, 3.5, 1. ],\n",
       "        [5.5, 2.4, 3.8, 1.1],\n",
       "        [5.5, 2.4, 3.7, 1. ],\n",
       "        [5.8, 2.7, 3.9, 1.2],\n",
       "        [6. , 2.7, 5.1, 1.6],\n",
       "        [5.4, 3. , 4.5, 1.5],\n",
       "        [6. , 3.4, 4.5, 1.6],\n",
       "        [6.7, 3.1, 4.7, 1.5],\n",
       "        [6.3, 2.3, 4.4, 1.3],\n",
       "        [5.6, 3. , 4.1, 1.3],\n",
       "        [5.5, 2.5, 4. , 1.3],\n",
       "        [5.5, 2.6, 4.4, 1.2],\n",
       "        [6.1, 3. , 4.6, 1.4],\n",
       "        [5.8, 2.6, 4. , 1.2],\n",
       "        [5. , 2.3, 3.3, 1. ],\n",
       "        [5.6, 2.7, 4.2, 1.3],\n",
       "        [5.7, 3. , 4.2, 1.2],\n",
       "        [5.7, 2.9, 4.2, 1.3],\n",
       "        [6.2, 2.9, 4.3, 1.3],\n",
       "        [5.1, 2.5, 3. , 1.1],\n",
       "        [5.7, 2.8, 4.1, 1.3],\n",
       "        [6.3, 3.3, 6. , 2.5],\n",
       "        [5.8, 2.7, 5.1, 1.9],\n",
       "        [7.1, 3. , 5.9, 2.1],\n",
       "        [6.3, 2.9, 5.6, 1.8],\n",
       "        [6.5, 3. , 5.8, 2.2],\n",
       "        [7.6, 3. , 6.6, 2.1],\n",
       "        [4.9, 2.5, 4.5, 1.7],\n",
       "        [7.3, 2.9, 6.3, 1.8],\n",
       "        [6.7, 2.5, 5.8, 1.8],\n",
       "        [7.2, 3.6, 6.1, 2.5],\n",
       "        [6.5, 3.2, 5.1, 2. ],\n",
       "        [6.4, 2.7, 5.3, 1.9],\n",
       "        [6.8, 3. , 5.5, 2.1],\n",
       "        [5.7, 2.5, 5. , 2. ],\n",
       "        [5.8, 2.8, 5.1, 2.4],\n",
       "        [6.4, 3.2, 5.3, 2.3],\n",
       "        [6.5, 3. , 5.5, 1.8],\n",
       "        [7.7, 3.8, 6.7, 2.2],\n",
       "        [7.7, 2.6, 6.9, 2.3],\n",
       "        [6. , 2.2, 5. , 1.5],\n",
       "        [6.9, 3.2, 5.7, 2.3],\n",
       "        [5.6, 2.8, 4.9, 2. ],\n",
       "        [7.7, 2.8, 6.7, 2. ],\n",
       "        [6.3, 2.7, 4.9, 1.8],\n",
       "        [6.7, 3.3, 5.7, 2.1],\n",
       "        [7.2, 3.2, 6. , 1.8],\n",
       "        [6.2, 2.8, 4.8, 1.8],\n",
       "        [6.1, 3. , 4.9, 1.8],\n",
       "        [6.4, 2.8, 5.6, 2.1],\n",
       "        [7.2, 3. , 5.8, 1.6],\n",
       "        [7.4, 2.8, 6.1, 1.9],\n",
       "        [7.9, 3.8, 6.4, 2. ],\n",
       "        [6.4, 2.8, 5.6, 2.2],\n",
       "        [6.3, 2.8, 5.1, 1.5],\n",
       "        [6.1, 2.6, 5.6, 1.4],\n",
       "        [7.7, 3. , 6.1, 2.3],\n",
       "        [6.3, 3.4, 5.6, 2.4],\n",
       "        [6.4, 3.1, 5.5, 1.8],\n",
       "        [6. , 3. , 4.8, 1.8],\n",
       "        [6.9, 3.1, 5.4, 2.1],\n",
       "        [6.7, 3.1, 5.6, 2.4],\n",
       "        [6.9, 3.1, 5.1, 2.3],\n",
       "        [5.8, 2.7, 5.1, 1.9],\n",
       "        [6.8, 3.2, 5.9, 2.3],\n",
       "        [6.7, 3.3, 5.7, 2.5],\n",
       "        [6.7, 3. , 5.2, 2.3],\n",
       "        [6.3, 2.5, 5. , 1.9],\n",
       "        [6.5, 3. , 5.2, 2. ],\n",
       "        [6.2, 3.4, 5.4, 2.3],\n",
       "        [5.9, 3. , 5.1, 1.8]]),\n",
       " 'target': array([0, 0, 0, 0, 0, 0, 0, 0, 0, 0, 0, 0, 0, 0, 0, 0, 0, 0, 0, 0, 0, 0,\n",
       "        0, 0, 0, 0, 0, 0, 0, 0, 0, 0, 0, 0, 0, 0, 0, 0, 0, 0, 0, 0, 0, 0,\n",
       "        0, 0, 0, 0, 0, 0, 1, 1, 1, 1, 1, 1, 1, 1, 1, 1, 1, 1, 1, 1, 1, 1,\n",
       "        1, 1, 1, 1, 1, 1, 1, 1, 1, 1, 1, 1, 1, 1, 1, 1, 1, 1, 1, 1, 1, 1,\n",
       "        1, 1, 1, 1, 1, 1, 1, 1, 1, 1, 1, 1, 2, 2, 2, 2, 2, 2, 2, 2, 2, 2,\n",
       "        2, 2, 2, 2, 2, 2, 2, 2, 2, 2, 2, 2, 2, 2, 2, 2, 2, 2, 2, 2, 2, 2,\n",
       "        2, 2, 2, 2, 2, 2, 2, 2, 2, 2, 2, 2, 2, 2, 2, 2, 2, 2]),\n",
       " 'frame': None,\n",
       " 'target_names': array(['setosa', 'versicolor', 'virginica'], dtype='<U10'),\n",
       " 'DESCR': '.. _iris_dataset:\\n\\nIris plants dataset\\n--------------------\\n\\n**Data Set Characteristics:**\\n\\n    :Number of Instances: 150 (50 in each of three classes)\\n    :Number of Attributes: 4 numeric, predictive attributes and the class\\n    :Attribute Information:\\n        - sepal length in cm\\n        - sepal width in cm\\n        - petal length in cm\\n        - petal width in cm\\n        - class:\\n                - Iris-Setosa\\n                - Iris-Versicolour\\n                - Iris-Virginica\\n                \\n    :Summary Statistics:\\n\\n    ============== ==== ==== ======= ===== ====================\\n                    Min  Max   Mean    SD   Class Correlation\\n    ============== ==== ==== ======= ===== ====================\\n    sepal length:   4.3  7.9   5.84   0.83    0.7826\\n    sepal width:    2.0  4.4   3.05   0.43   -0.4194\\n    petal length:   1.0  6.9   3.76   1.76    0.9490  (high!)\\n    petal width:    0.1  2.5   1.20   0.76    0.9565  (high!)\\n    ============== ==== ==== ======= ===== ====================\\n\\n    :Missing Attribute Values: None\\n    :Class Distribution: 33.3% for each of 3 classes.\\n    :Creator: R.A. Fisher\\n    :Donor: Michael Marshall (MARSHALL%PLU@io.arc.nasa.gov)\\n    :Date: July, 1988\\n\\nThe famous Iris database, first used by Sir R.A. Fisher. The dataset is taken\\nfrom Fisher\\'s paper. Note that it\\'s the same as in R, but not as in the UCI\\nMachine Learning Repository, which has two wrong data points.\\n\\nThis is perhaps the best known database to be found in the\\npattern recognition literature.  Fisher\\'s paper is a classic in the field and\\nis referenced frequently to this day.  (See Duda & Hart, for example.)  The\\ndata set contains 3 classes of 50 instances each, where each class refers to a\\ntype of iris plant.  One class is linearly separable from the other 2; the\\nlatter are NOT linearly separable from each other.\\n\\n.. topic:: References\\n\\n   - Fisher, R.A. \"The use of multiple measurements in taxonomic problems\"\\n     Annual Eugenics, 7, Part II, 179-188 (1936); also in \"Contributions to\\n     Mathematical Statistics\" (John Wiley, NY, 1950).\\n   - Duda, R.O., & Hart, P.E. (1973) Pattern Classification and Scene Analysis.\\n     (Q327.D83) John Wiley & Sons.  ISBN 0-471-22361-1.  See page 218.\\n   - Dasarathy, B.V. (1980) \"Nosing Around the Neighborhood: A New System\\n     Structure and Classification Rule for Recognition in Partially Exposed\\n     Environments\".  IEEE Transactions on Pattern Analysis and Machine\\n     Intelligence, Vol. PAMI-2, No. 1, 67-71.\\n   - Gates, G.W. (1972) \"The Reduced Nearest Neighbor Rule\".  IEEE Transactions\\n     on Information Theory, May 1972, 431-433.\\n   - See also: 1988 MLC Proceedings, 54-64.  Cheeseman et al\"s AUTOCLASS II\\n     conceptual clustering system finds 3 classes in the data.\\n   - Many, many more ...',\n",
       " 'feature_names': ['sepal length (cm)',\n",
       "  'sepal width (cm)',\n",
       "  'petal length (cm)',\n",
       "  'petal width (cm)'],\n",
       " 'filename': 'C:\\\\Anaconda3\\\\lib\\\\site-packages\\\\sklearn\\\\datasets\\\\data\\\\iris.csv'}"
      ]
     },
     "execution_count": 52,
     "metadata": {},
     "output_type": "execute_result"
    }
   ],
   "source": [
    "from sklearn.datasets import load_iris\n",
    "iris = load_iris() #머신에 들어갈 때는 무조건 2차원 배열로 들어가야 한다.\n",
    "iris"
   ]
  },
  {
   "cell_type": "code",
   "execution_count": null,
   "id": "93bc0599",
   "metadata": {},
   "outputs": [],
   "source": []
  },
  {
   "cell_type": "code",
   "execution_count": 53,
   "id": "533b3782",
   "metadata": {},
   "outputs": [],
   "source": [
    "import pandas as pd"
   ]
  },
  {
   "cell_type": "markdown",
   "id": "8bac7d4b",
   "metadata": {},
   "source": [
    "### 데이터프레임 (DataFrame) 만들기"
   ]
  },
  {
   "cell_type": "code",
   "execution_count": 54,
   "id": "01cb6187",
   "metadata": {},
   "outputs": [
    {
     "data": {
      "text/html": [
       "<div>\n",
       "<style scoped>\n",
       "    .dataframe tbody tr th:only-of-type {\n",
       "        vertical-align: middle;\n",
       "    }\n",
       "\n",
       "    .dataframe tbody tr th {\n",
       "        vertical-align: top;\n",
       "    }\n",
       "\n",
       "    .dataframe thead th {\n",
       "        text-align: right;\n",
       "    }\n",
       "</style>\n",
       "<table border=\"1\" class=\"dataframe\">\n",
       "  <thead>\n",
       "    <tr style=\"text-align: right;\">\n",
       "      <th></th>\n",
       "      <th>sepal length (cm)</th>\n",
       "      <th>sepal width (cm)</th>\n",
       "      <th>petal length (cm)</th>\n",
       "      <th>petal width (cm)</th>\n",
       "    </tr>\n",
       "  </thead>\n",
       "  <tbody>\n",
       "    <tr>\n",
       "      <th>0</th>\n",
       "      <td>5.1</td>\n",
       "      <td>3.5</td>\n",
       "      <td>1.4</td>\n",
       "      <td>0.2</td>\n",
       "    </tr>\n",
       "    <tr>\n",
       "      <th>1</th>\n",
       "      <td>4.9</td>\n",
       "      <td>3.0</td>\n",
       "      <td>1.4</td>\n",
       "      <td>0.2</td>\n",
       "    </tr>\n",
       "    <tr>\n",
       "      <th>2</th>\n",
       "      <td>4.7</td>\n",
       "      <td>3.2</td>\n",
       "      <td>1.3</td>\n",
       "      <td>0.2</td>\n",
       "    </tr>\n",
       "    <tr>\n",
       "      <th>3</th>\n",
       "      <td>4.6</td>\n",
       "      <td>3.1</td>\n",
       "      <td>1.5</td>\n",
       "      <td>0.2</td>\n",
       "    </tr>\n",
       "    <tr>\n",
       "      <th>4</th>\n",
       "      <td>5.0</td>\n",
       "      <td>3.6</td>\n",
       "      <td>1.4</td>\n",
       "      <td>0.2</td>\n",
       "    </tr>\n",
       "  </tbody>\n",
       "</table>\n",
       "</div>"
      ],
      "text/plain": [
       "   sepal length (cm)  sepal width (cm)  petal length (cm)  petal width (cm)\n",
       "0                5.1               3.5                1.4               0.2\n",
       "1                4.9               3.0                1.4               0.2\n",
       "2                4.7               3.2                1.3               0.2\n",
       "3                4.6               3.1                1.5               0.2\n",
       "4                5.0               3.6                1.4               0.2"
      ]
     },
     "execution_count": 54,
     "metadata": {},
     "output_type": "execute_result"
    }
   ],
   "source": [
    "df = pd.DataFrame(iris['data'], columns = iris['feature_names'])\n",
    "df.head()"
   ]
  },
  {
   "cell_type": "code",
   "execution_count": 55,
   "id": "30e68a11",
   "metadata": {},
   "outputs": [],
   "source": [
    "df['target'] = iris['target']"
   ]
  },
  {
   "cell_type": "code",
   "execution_count": 56,
   "id": "a30dcf02",
   "metadata": {},
   "outputs": [],
   "source": [
    "X = df.iloc[:, :4]\n",
    "y = df['target']"
   ]
  },
  {
   "cell_type": "markdown",
   "id": "2c4e7f90",
   "metadata": {},
   "source": [
    "## 데이터 셋 분할\n",
    "학습용(train) 데이터셋과 검증 (혹은 테스트)용 데이터 셋을 분할 합니다."
   ]
  },
  {
   "cell_type": "code",
   "execution_count": 57,
   "id": "63c35fcf",
   "metadata": {},
   "outputs": [],
   "source": [
    "X_train, X_test, y_train, y_test = train_test_split(X, y, test_size=0.1, random_state=1234)\n"
   ]
  },
  {
   "cell_type": "markdown",
   "id": "aa6f16c7",
   "metadata": {},
   "source": [
    "#### 잘 load가 되었는지 shape를 확인"
   ]
  },
  {
   "cell_type": "code",
   "execution_count": 58,
   "id": "2549202a",
   "metadata": {},
   "outputs": [
    {
     "data": {
      "text/plain": [
       "((135, 4), (15, 4))"
      ]
     },
     "execution_count": 58,
     "metadata": {},
     "output_type": "execute_result"
    }
   ],
   "source": [
    "X_train.shape, X_test.shape"
   ]
  },
  {
   "cell_type": "code",
   "execution_count": 59,
   "id": "8802ee7d",
   "metadata": {},
   "outputs": [
    {
     "data": {
      "text/plain": [
       "((135,), (15,))"
      ]
     },
     "execution_count": 59,
     "metadata": {},
     "output_type": "execute_result"
    }
   ],
   "source": [
    "y_train.shape, y_test.shape"
   ]
  },
  {
   "cell_type": "markdown",
   "id": "e991045d",
   "metadata": {},
   "source": [
    "### 모델 정의"
   ]
  },
  {
   "cell_type": "code",
   "execution_count": 60,
   "id": "ef80d3e8",
   "metadata": {},
   "outputs": [],
   "source": [
    "knn = KNeighborsClassifier(n_jobs = -1)"
   ]
  },
  {
   "cell_type": "markdown",
   "id": "0cc371d5",
   "metadata": {},
   "source": [
    "### 학습 (fit)"
   ]
  },
  {
   "cell_type": "code",
   "execution_count": 61,
   "id": "c4727b20",
   "metadata": {},
   "outputs": [
    {
     "data": {
      "text/plain": [
       "KNeighborsClassifier(n_jobs=-1)"
      ]
     },
     "execution_count": 61,
     "metadata": {},
     "output_type": "execute_result"
    }
   ],
   "source": [
    "knn.fit(X_train, y_train)"
   ]
  },
  {
   "cell_type": "markdown",
   "id": "3af62704",
   "metadata": {},
   "source": [
    "### 예측하기"
   ]
  },
  {
   "cell_type": "code",
   "execution_count": 62,
   "id": "9fc0ecf2",
   "metadata": {},
   "outputs": [],
   "source": [
    "pred = knn.predict(X_test)"
   ]
  },
  {
   "cell_type": "markdown",
   "id": "85ae02d1",
   "metadata": {},
   "source": [
    "### 검증 (evaluation)"
   ]
  },
  {
   "cell_type": "code",
   "execution_count": 63,
   "id": "45c54c26",
   "metadata": {},
   "outputs": [
    {
     "data": {
      "text/plain": [
       "1.0"
      ]
     },
     "execution_count": 63,
     "metadata": {},
     "output_type": "execute_result"
    }
   ],
   "source": [
    "(pred == y_test).mean()"
   ]
  },
  {
   "cell_type": "markdown",
   "id": "e6f7b7e2",
   "metadata": {},
   "source": [
    "### 최적의 k 값 찾기"
   ]
  },
  {
   "cell_type": "code",
   "execution_count": 64,
   "id": "13f61dd0",
   "metadata": {},
   "outputs": [
    {
     "name": "stdout",
     "output_type": "stream",
     "text": [
      "1.0\n",
      "1.0\n",
      "1.0\n",
      "1.0\n",
      "1.0\n",
      "1.0\n",
      "1.0\n",
      "1.0\n",
      "1.0\n",
      "1.0\n"
     ]
    }
   ],
   "source": [
    "for k in range(1, 11):\n",
    "    knn = KNeighborsClassifier(n_neighbors=k, n_jobs = -1)\n",
    "    knn.fit(X_train, y_train)\n",
    "    score = knn.score(X_test, y_test)\n",
    "    print(score)"
   ]
  },
  {
   "cell_type": "code",
   "execution_count": null,
   "id": "1c000552",
   "metadata": {},
   "outputs": [],
   "source": []
  }
 ],
 "metadata": {
  "kernelspec": {
   "display_name": "Python 3 (ipykernel)",
   "language": "python",
   "name": "python3"
  },
  "language_info": {
   "codemirror_mode": {
    "name": "ipython",
    "version": 3
   },
   "file_extension": ".py",
   "mimetype": "text/x-python",
   "name": "python",
   "nbconvert_exporter": "python",
   "pygments_lexer": "ipython3",
   "version": "3.9.7"
  }
 },
 "nbformat": 4,
 "nbformat_minor": 5
}
