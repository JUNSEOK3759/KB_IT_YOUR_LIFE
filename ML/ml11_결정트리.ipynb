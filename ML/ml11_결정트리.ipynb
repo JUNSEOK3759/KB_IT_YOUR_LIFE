{
 "cells": [
  {
   "cell_type": "code",
   "execution_count": 1,
   "id": "6cbb44b8",
   "metadata": {},
   "outputs": [],
   "source": [
    "from IPython.display import Image"
   ]
  },
  {
   "cell_type": "markdown",
   "id": "3e6893c9",
   "metadata": {},
   "source": [
    "# 결정트리 or 의사결정나무 (Decision Tree)\n",
    "\n",
    "결정트리를 가장 단수하게 표현하자면, **Tree 구조를 가진 알고리즘**입니다.\n",
    "\n",
    "의사결정나무는 데이터를 분석하여 데이터 사이에서 패턴을 예측 가능한 규칙들의 조합으로 나타내며, 이 과정을 시각화 해 본다면 마치 **스무고개** 놀이와 비슷합니다.\n",
    "\n",
    "의사 결정트리는 의사를 어떻게 결정할지에 따라 다른 결과를 도출하는 방식으로 전개된다.  \n",
    "트리란 내가 의사를 결정하는데 있어서 선택지가 2가지만 있는 것이 아니라 여러 개의 선택지 가능하고 나무를 뒤집어 놓은 것처럼, 가지에 가지를 뻗은 행태로 의사를 결정해 나가는 구조라서 트리라는 이름이 붙여졌다.  \n",
    "\n",
    "이렇게 가지를 뻗어나가는 형태로 최종 의사를 결정할 수 있다. "
   ]
  },
  {
   "cell_type": "code",
   "execution_count": 2,
   "id": "decd7221",
   "metadata": {},
   "outputs": [
    {
     "data": {
      "text/html": [
       "<img src=\"https://blog.kakaocdn.net/dn/wlH1u/btqwWZI9Xen/kFJDjGSFJAPxhyatC3Xhs0/img.png\" width=\"500\"/>"
      ],
      "text/plain": [
       "<IPython.core.display.Image object>"
      ]
     },
     "execution_count": 2,
     "metadata": {},
     "output_type": "execute_result"
    }
   ],
   "source": [
    "Image(url='https://blog.kakaocdn.net/dn/wlH1u/btqwWZI9Xen/kFJDjGSFJAPxhyatC3Xhs0/img.png', width=500)"
   ]
  },
  {
   "cell_type": "code",
   "execution_count": 4,
   "id": "966c0978",
   "metadata": {},
   "outputs": [
    {
     "data": {
      "text/html": [
       "<img src=\"https://tensorflowkorea.files.wordpress.com/2017/06/2-23.png\" width=\"360\"/>"
      ],
      "text/plain": [
       "<IPython.core.display.Image object>"
      ]
     },
     "execution_count": 4,
     "metadata": {},
     "output_type": "execute_result"
    }
   ],
   "source": [
    "Image(url='https://tensorflowkorea.files.wordpress.com/2017/06/2-23.png',width=360)"
   ]
  },
  {
   "cell_type": "code",
   "execution_count": 3,
   "id": "beaf1827",
   "metadata": {},
   "outputs": [
    {
     "data": {
      "text/html": [
       "<img src=\"https://tensorflowkorea.files.wordpress.com/2017/06/2-24.png?w=1024\" width=\"560\"/>"
      ],
      "text/plain": [
       "<IPython.core.display.Image object>"
      ]
     },
     "execution_count": 3,
     "metadata": {},
     "output_type": "execute_result"
    }
   ],
   "source": [
    "Image(url='https://tensorflowkorea.files.wordpress.com/2017/06/2-24.png?w=1024',width=560)"
   ]
  },
  {
   "cell_type": "markdown",
   "id": "72adac3f",
   "metadata": {},
   "source": [
    "'''\n",
    "\n",
    "위의 그림 중 count의 의미는 파란색, 빨간색을 의미한다\n",
    "\n",
    "True 다음의 counts에서 [2, 32]의 의미는 파란색 2개, 빨간색 32개라는 것이고, 결국 True는 빨간색 범위라는 것을 알 수 있다.\n",
    "\n",
    "좋은 질문은 위의 빨간색 범위처럼 하나의 범위에 다양하게 분포된 것이 아니라 하나의 색깔이 더 많은 질문이 더 좋은 질문이다.\n",
    "\n",
    "'''"
   ]
  },
  {
   "cell_type": "code",
   "execution_count": 6,
   "id": "8122e065",
   "metadata": {},
   "outputs": [
    {
     "data": {
      "text/html": [
       "<img src=\"https://tensorflowkorea.files.wordpress.com/2017/06/2-25.png?w=1024\" width=\"860\"/>"
      ],
      "text/plain": [
       "<IPython.core.display.Image object>"
      ]
     },
     "execution_count": 6,
     "metadata": {},
     "output_type": "execute_result"
    }
   ],
   "source": [
    "Image(url='https://tensorflowkorea.files.wordpress.com/2017/06/2-25.png?w=1024',width=860)"
   ]
  },
  {
   "cell_type": "markdown",
   "id": "c6f5334f",
   "metadata": {},
   "source": [
    "'''\n",
    "\n",
    "첫 번째 그림과 이 그림의 차이점은 하나의 선이 더 생성되는 것이다. \n",
    "\n",
    "선이 하나 더 생성되는 것은 질문이 하나 더 생긴다는 것을 의미한다.\n",
    "\n",
    "최종적으로 우리가 질문을 하면서 범위를 가르는 것은 불순도를 최소화시키는 방향으로 질문을 생성하는 것이다.\n",
    "\n",
    "위의 최종결과를 보면 아래쪽은 하나에 파란색만, 하나에는 빨간색만 있기에 해당 범위에서는 불순도가 0이라는 것을 알 수 있다.\n",
    "\n",
    "위의 그림 중 맨 위 오른쪽 그림을 보면 한 개의 파란색 점이 있는데, 이는 overfitting을 고려하여 그냥 놔두는 것이 낫다.\n",
    "\n",
    "즉, 한 개 정도는 놔둬야 하고, 이를 위해서 한 번 더 나눈다면 이는 overfitting이 될 수 있다는 것이다.\n",
    "\n",
    "'''"
   ]
  },
  {
   "cell_type": "code",
   "execution_count": 8,
   "id": "0dfccbff",
   "metadata": {},
   "outputs": [
    {
     "data": {
      "text/html": [
       "<img src=\"https://tensorflowkorea.files.wordpress.com/2017/06/2-26.png?w=1024\" width=\"860\"/>"
      ],
      "text/plain": [
       "<IPython.core.display.Image object>"
      ]
     },
     "execution_count": 8,
     "metadata": {},
     "output_type": "execute_result"
    }
   ],
   "source": [
    "Image(url='https://tensorflowkorea.files.wordpress.com/2017/06/2-26.png?w=1024',width=860)"
   ]
  },
  {
   "cell_type": "markdown",
   "id": "ccb0b0d0",
   "metadata": {},
   "source": [
    "'''\n",
    "\n",
    "위의 그림을 보면 이진분류트리는 직선으로밖에 분류가 되지 않는다. 따라서 100% overfitting이 일어날 수 밖에 없다.\n",
    "\n",
    "위에서 말한 것처럼 overfitting이 일어나기 이전에 작업을 멈춰줘야 한다.\n",
    "\n",
    "위의 그림은 너무 많이 나눈 것이다. 이는 overfitting이 일어날 수 밖에 없다. \n",
    "\n",
    "이를 잘 제어하는 것이 중요하다.\n",
    "'''"
   ]
  },
  {
   "cell_type": "markdown",
   "id": "2aadbe1d",
   "metadata": {},
   "source": [
    "결정트리의 기본 아이디어는 sample이 가장 섞이지 않은 상태로 완전히 분류되는 것, 다시 말해서 **엔트로피(Entropy)를 낮추도록** 만드는 것입니다."
   ]
  },
  {
   "cell_type": "markdown",
   "id": "7e5158bb",
   "metadata": {},
   "source": [
    "## 엔트로피 (Entropy)\n",
    "\n",
    "엔트로피는 쉽게 말해서 **무질서한 정도를 정량화(수치화)한 값**입니다.\n",
    "\n",
    "다음은 **엔트로피 지수를 불순도에 따른 지표로 표현**되었습니다."
   ]
  },
  {
   "cell_type": "code",
   "execution_count": 11,
   "id": "2577ca65",
   "metadata": {},
   "outputs": [
    {
     "data": {
      "text/html": [
       "<img src=\"https://miro.medium.com/max/875/1*i7cfMirN2WpaJhYZa1a1Mg.png\" width=\"500\"/>"
      ],
      "text/plain": [
       "<IPython.core.display.Image object>"
      ]
     },
     "execution_count": 11,
     "metadata": {},
     "output_type": "execute_result"
    }
   ],
   "source": [
    "Image(url='https://miro.medium.com/max/875/1*i7cfMirN2WpaJhYZa1a1Mg.png', width=500)"
   ]
  },
  {
   "cell_type": "markdown",
   "id": "0fc542f9",
   "metadata": {},
   "source": [
    "`결정트리에서 질문을 만들어내는 기준은 불순도를 최소화하는 방향으로 결정되어진다.\n",
    "불순도란 해당 범주 안에 서로 다른 데이터가 얼마나 섞여 있는지를 말하는데\n",
    "트리의 아랫 부분으로 내려 갈수록 불순도가 낮아진다.\n",
    "곧 순도가 높아지는 방향이다.`\n",
    "\n",
    "한범주에 서로 다른 데이터가 1일 때 불순도가 가장 낮고  \n",
    "한 범주 안에 서로 다른 데이터가 정확히 반반 있다면 불순도가 가장 높다\n",
    "\n",
    "엔트로피는 무질서함(불순도)을 나타내는 지표이고  \n",
    "엔트로피 계수를 그대로 변환해서 사용하는 것이 지니계수이다.  \n",
    "결정트리에서 사용되는 지니 계수는  0~0.5사이의 값을 가진다"
   ]
  },
  {
   "cell_type": "markdown",
   "id": "48879b0d",
   "metadata": {},
   "source": [
    "### 엔트로피 수식의 이해"
   ]
  },
  {
   "cell_type": "code",
   "execution_count": 10,
   "id": "147a69ea",
   "metadata": {},
   "outputs": [],
   "source": [
    "import numpy as np\n",
    "import pandas as pd\n",
    "import matplotlib.pyplot as plt\n",
    "import seaborn as sns"
   ]
  },
  {
   "cell_type": "code",
   "execution_count": 11,
   "id": "da0c602f",
   "metadata": {},
   "outputs": [],
   "source": [
    "# 샘플데이터를 생성합니다.\n",
    "group_1 = np.array([0.3, 0.4, 0.3])\n",
    "group_2 = np.array([0.7, 0.2, 0.1])\n",
    "group_3 = np.array([0.01, 0.01, 0.98])"
   ]
  },
  {
   "cell_type": "code",
   "execution_count": 12,
   "id": "fd443d64",
   "metadata": {},
   "outputs": [
    {
     "data": {
      "image/png": "[encoded data removed]",
      "text/plain": [
       "<Figure size 864x288 with 3 Axes>"
      ]
     },
     "metadata": {
      "needs_background": "light"
     },
     "output_type": "display_data"
    }
   ],
   "source": [
    "fig, axes = plt.subplots(1, 3)\n",
    "fig.set_size_inches(12, 4)\n",
    "axes[0].bar(np.arange(3), group_1, color='blue')\n",
    "axes[0].set_title('Group 1')\n",
    "axes[1].bar(np.arange(3), group_2, color='red')\n",
    "axes[1].set_title('Group 2')\n",
    "axes[2].bar(np.arange(3), group_3, color='green')\n",
    "axes[2].set_title('Group 3')\n",
    "plt.show()"
   ]
  },
  {
   "cell_type": "code",
   "execution_count": 13,
   "id": "4ceb7909",
   "metadata": {},
   "outputs": [
    {
     "data": {
      "text/html": [
       "<img src=\"https://miro.medium.com/max/1122/0*DkWdyGidNSfdT1Nu.png\" width=\"350\"/>"
      ],
      "text/plain": [
       "<IPython.core.display.Image object>"
      ]
     },
     "execution_count": 13,
     "metadata": {},
     "output_type": "execute_result"
    }
   ],
   "source": [
    "Image(url='https://miro.medium.com/max/1122/0*DkWdyGidNSfdT1Nu.png', width=350)"
   ]
  },
  {
   "cell_type": "code",
   "execution_count": 14,
   "id": "54b64281",
   "metadata": {},
   "outputs": [],
   "source": [
    "# entropy를  python으로 구현합니다.\n",
    "\n",
    "def entropy(x):\n",
    "    return -(x * np.log2(x)).sum()"
   ]
  },
  {
   "cell_type": "markdown",
   "id": "ac2ca095",
   "metadata": {},
   "source": [
    "### Entropy 계산 및 시각화\n"
   ]
  },
  {
   "cell_type": "code",
   "execution_count": 15,
   "id": "151957e6",
   "metadata": {},
   "outputs": [
    {
     "name": "stdout",
     "output_type": "stream",
     "text": [
      "Group 1: 1.571\n",
      "Group 2: 1.157\n",
      "Group 3: 0.161\n"
     ]
    }
   ],
   "source": [
    "entropy_1 = entropy(group_1)\n",
    "entropy_2 = entropy(group_2)\n",
    "entropy_3 = entropy(group_3)\n",
    "print(f'Group 1: {entropy_1:.3f}\\nGroup 2: {entropy_2:.3f}\\nGroup 3: {entropy_3:.3f}')"
   ]
  },
  {
   "cell_type": "code",
   "execution_count": 16,
   "id": "b30cb397",
   "metadata": {},
   "outputs": [
    {
     "data": {
      "image/png": "[encoded data removed]",
      "text/plain": [
       "<Figure size 360x360 with 1 Axes>"
      ]
     },
     "metadata": {
      "needs_background": "light"
     },
     "output_type": "display_data"
    }
   ],
   "source": [
    "plt.figure(figsize=(5, 5))\n",
    "plt.bar(['Group 1', 'Group 2', 'Group 3'], [entropy_1, entropy_2, entropy_3])\n",
    "plt.title('Entropy', fontsize=15)\n",
    "plt.show()"
   ]
  },
  {
   "cell_type": "markdown",
   "id": "6d29e6ca",
   "metadata": {},
   "source": [
    "## 지니 계수 (Gini Index)\n",
    "\n",
    "- 클래쓰들이 공평하게 섞여 있을 수록 **지니 계수**는 올라갑니다.\n",
    "- Decision Tree는 지니 불순도를 낮추는 방향으로 가지치기를 진행합니다."
   ]
  },
  {
   "cell_type": "code",
   "execution_count": 17,
   "id": "ff0e7ad8",
   "metadata": {},
   "outputs": [],
   "source": [
    "# Gini Index 구현합니다.\n",
    "def gini(x):\n",
    "    return 1 - ((x / x.sum())**2).sum()"
   ]
  },
  {
   "cell_type": "code",
   "execution_count": 18,
   "id": "9eb632d8",
   "metadata": {},
   "outputs": [],
   "source": [
    "# 샘플데이터를 생성합니다.\n",
    "group_1 = np.array([50, 50])\n",
    "group_2 = np.array([30, 70])\n",
    "group_3 = np.array([0, 100]) "
   ]
  },
  {
   "cell_type": "code",
   "execution_count": 19,
   "id": "8c74d1a0",
   "metadata": {},
   "outputs": [
    {
     "data": {
      "image/png": "[encoded data removed]",
      "text/plain": [
       "<Figure size 864x288 with 3 Axes>"
      ]
     },
     "metadata": {
      "needs_background": "light"
     },
     "output_type": "display_data"
    }
   ],
   "source": [
    "fig, axes = plt.subplots(1, 3)\n",
    "fig.set_size_inches(12, 4)\n",
    "axes[0].bar(['Positive', 'Negative'], group_1, color='blue')\n",
    "axes[0].set_title('Group 1')\n",
    "axes[1].bar(['Positive', 'Negative'], group_2, color='red')\n",
    "axes[1].set_title('Group 2')\n",
    "axes[2].bar(['Positive', 'Negative'], group_3, color='green')\n",
    "axes[2].set_title('Group 3')\n",
    "plt.show()"
   ]
  },
  {
   "cell_type": "code",
   "execution_count": 20,
   "id": "cee4f5f5",
   "metadata": {},
   "outputs": [
    {
     "name": "stdout",
     "output_type": "stream",
     "text": [
      "Group 1: 0.500\n",
      "Group 2: 0.420\n",
      "Group 3: 0.000\n"
     ]
    }
   ],
   "source": [
    "gini_1 = gini(group_1)\n",
    "gini_2 = gini(group_2)\n",
    "gini_3 = gini(group_3)\n",
    "\n",
    "print(f'Group 1: {gini_1:.3f}\\nGroup 2: {gini_2:.3f}\\nGroup 3: {gini_3:.3f}')"
   ]
  },
  {
   "cell_type": "code",
   "execution_count": 21,
   "id": "883eada6",
   "metadata": {},
   "outputs": [
    {
     "data": {
      "image/png": "[encoded data removed]",
      "text/plain": [
       "<Figure size 360x360 with 1 Axes>"
      ]
     },
     "metadata": {
      "needs_background": "light"
     },
     "output_type": "display_data"
    }
   ],
   "source": [
    "plt.figure(figsize=(5, 5))\n",
    "plt.bar(['Group 1', 'Group 2', 'Group 3'], [gini_1, gini_2, gini_3])\n",
    "plt.title('Gini Index', fontsize=15)\n",
    "plt.show()"
   ]
  },
  {
   "cell_type": "markdown",
   "id": "2e6d7711",
   "metadata": {},
   "source": [
    "## Decision Tree 구현"
   ]
  },
  {
   "cell_type": "code",
   "execution_count": 22,
   "id": "46ceca20",
   "metadata": {},
   "outputs": [],
   "source": [
    "from sklearn.tree import DecisionTreeClassifier\n",
    "from sklearn.datasets import load_breast_cancer\n",
    "from sklearn.model_selection import train_test_split\n",
    "from sklearn.metrics import accuracy_score\n",
    "\n",
    "SEED = 42"
   ]
  },
  {
   "cell_type": "code",
   "execution_count": 23,
   "id": "46032e95",
   "metadata": {},
   "outputs": [],
   "source": [
    "# breast cancer 데이타셋 로드\n",
    "cancer = load_breast_cancer()"
   ]
  },
  {
   "cell_type": "code",
   "execution_count": 24,
   "id": "b9cb2666",
   "metadata": {},
   "outputs": [],
   "source": [
    "# train_test_split 데이타 분할\n",
    "x_train, x_test, y_train, y_test = train_test_split(cancer['data'], cancer['target'], \n",
    "                                                   stratify=cancer['target'],\n",
    "                                                   random_state= SEED)"
   ]
  },
  {
   "cell_type": "code",
   "execution_count": 25,
   "id": "01e35f0b",
   "metadata": {},
   "outputs": [],
   "source": [
    "# 알고리즘 정의\n",
    "tree = DecisionTreeClassifier(random_state=0)"
   ]
  },
  {
   "cell_type": "code",
   "execution_count": 26,
   "id": "ff0dd8df",
   "metadata": {},
   "outputs": [
    {
     "data": {
      "text/plain": [
       "DecisionTreeClassifier(random_state=0)"
      ]
     },
     "execution_count": 26,
     "metadata": {},
     "output_type": "execute_result"
    }
   ],
   "source": [
    "# 학습\n",
    "tree.fit(x_train, y_train)"
   ]
  },
  {
   "cell_type": "code",
   "execution_count": 27,
   "id": "c9dd7a6a",
   "metadata": {},
   "outputs": [],
   "source": [
    "# 예측\n",
    "pred = tree.predict(x_test)"
   ]
  },
  {
   "cell_type": "code",
   "execution_count": 29,
   "id": "29fcfb58",
   "metadata": {},
   "outputs": [
    {
     "name": "stdout",
     "output_type": "stream",
     "text": [
      "Accuracy Score: 0.937\n"
     ]
    }
   ],
   "source": [
    "# 정확도 측정\n",
    "accuracy = accuracy_score(pred, y_test)\n",
    "print(f'Accuracy Score: {accuracy:.3f}')"
   ]
  },
  {
   "cell_type": "code",
   "execution_count": 31,
   "id": "8d31bb93",
   "metadata": {},
   "outputs": [],
   "source": [
    "import graphviz\n",
    "from sklearn.tree import export_graphviz"
   ]
  },
  {
   "cell_type": "markdown",
   "id": "7087dc63",
   "metadata": {},
   "source": [
    "### 의사결정나무의 시각화"
   ]
  },
  {
   "cell_type": "code",
   "execution_count": 37,
   "id": "cf81a131",
   "metadata": {},
   "outputs": [],
   "source": [
    "import graphviz\n",
    "from sklearn.tree import export_graphviz\n",
    "\n",
    "def show_trees(tree):\n",
    "    export_graphviz(tree, out_file='cancer_tree.dot',\n",
    "                    class_names=cancer.target_names,\n",
    "                    feature_names=cancer.feature_names,\n",
    "#                     impurity=False, # gini 미출력\n",
    "                    filled=True) \n",
    "\n",
    "    with open('cancer_tree.dot', encoding='utf-8') as f:\n",
    "        dot_graph = f.read()\n",
    "#    display(graphviz.Source(dot_graph))"
   ]
  },
  {
   "cell_type": "code",
   "execution_count": 38,
   "id": "50c96613",
   "metadata": {},
   "outputs": [],
   "source": [
    "show_trees(tree)"
   ]
  },
  {
   "cell_type": "markdown",
   "id": "67e4387f",
   "metadata": {},
   "source": [
    "### 장점\n",
    "쉽고 직관적입니다.  \n",
    "각 피처의 스케일링과 정규화 같은 전처리 작업의 영향도가 크지 않습니다.  \n",
    "\n",
    "### 단점\n",
    "규칙을 추가하며 서브트리를 만들어 나갈수록 모델이 복잡해지고, 과적합에 빠지기 쉽습니다.  \n",
    "→ 트리의 크기를 사전에 제한하는 **하이퍼파라미터 튜닝**이 필요합니다."
   ]
  },
  {
   "cell_type": "markdown",
   "id": "f9322667",
   "metadata": {},
   "source": [
    "## 주요 Hyper Parameter\n",
    "\n",
    "`max_depth`는 최대 트리의 깊이를 제한 합니다.\n",
    "\n",
    "기본 값은 None, 제한 없음 입니다."
   ]
  },
  {
   "cell_type": "code",
   "execution_count": 39,
   "id": "4d65d181",
   "metadata": {},
   "outputs": [],
   "source": [
    "tree = DecisionTreeClassifier(max_depth = 3, random_state=SEED)\n",
    "tree.fit(x_train, y_train)\n",
    "\n",
    "show_trees(tree)"
   ]
  },
  {
   "cell_type": "markdown",
   "id": "43034345",
   "metadata": {},
   "source": [
    "### min_sample_split\n",
    "\n",
    "`min_sample_split`은 노드 내에서 분할이 필요한 최소의 샘플 숫자입니다.\n",
    "\n",
    "기본 값은 2입니다."
   ]
  },
  {
   "cell_type": "code",
   "execution_count": 40,
   "id": "d45ea858",
   "metadata": {},
   "outputs": [],
   "source": [
    "tree = DecisionTreeClassifier(max_depth = 6, min_samples_split=20, random_state=SEED)\n",
    "tree.fit(x_train, y_train)\n",
    "show_trees(tree)"
   ]
  },
  {
   "cell_type": "markdown",
   "id": "da1c6021",
   "metadata": {},
   "source": [
    "### min_samples_leaf\n",
    "\n",
    "`min_samples_leaf`는 말단 노드의 최소 샘플의 숫자를 지정합니다.\n",
    "\n",
    "기본 값은 1 입니다."
   ]
  },
  {
   "cell_type": "code",
   "execution_count": null,
   "id": "e1963348",
   "metadata": {},
   "outputs": [],
   "source": []
  },
  {
   "cell_type": "markdown",
   "id": "65378e1c",
   "metadata": {},
   "source": [
    "### max_leaf_nodes\n",
    "\n",
    "`max_leaf_nodes`는 말단 노드의 최대 갯수 (과대 적합 방지용)\n",
    "\n",
    "기본 값은 None, 제한 없음 입니다."
   ]
  },
  {
   "cell_type": "code",
   "execution_count": 41,
   "id": "44fe6d69",
   "metadata": {},
   "outputs": [],
   "source": [
    "tree = DecisionTreeClassifier(max_leaf_nodes=10, random_state=SEED)\n",
    "tree.fit(x_train, y_train)\n",
    "show_trees(tree)"
   ]
  },
  {
   "cell_type": "markdown",
   "id": "a2c72c26",
   "metadata": {},
   "source": [
    "### max_features\n",
    "\n",
    "최적의 분할을 찾기 위해 고려할 피처의 수\n",
    "\n",
    "0.8 은 80% 의 feature 만 고려하여 분할 알고리즘 적용\n",
    "\n",
    "기본 값은 None, 모두 사용입니다."
   ]
  },
  {
   "cell_type": "code",
   "execution_count": 44,
   "id": "52315239",
   "metadata": {},
   "outputs": [],
   "source": [
    "tree = DecisionTreeClassifier(max_depth=7, max_features=0.8, random_state=SEED)\n",
    "tree.fit(x_train, y_train)\n",
    "show_trees(tree)"
   ]
  },
  {
   "cell_type": "markdown",
   "id": "7c4e67ec",
   "metadata": {},
   "source": [
    "## feature의 중요도\n",
    "\n",
    "`feature_importances_` 변수를 통해서 tree 알고리즘이 학습시 고려한 feature 별 중요도를 확인할 수 있습니다.\n",
    "\n",
    " 결정트리 모델을 생성하고 수행하게되면\n",
    " 결과적으로 속성의 중요도를 알수 있는 특성중요도 인스턴스가 생성된다.\n",
    "     \n",
    " 결정트리를 만드는데 있어서   \n",
    "**어떤 의사결정, 조건, 질문, 특징, 속성**으로 결정되는가...다 같은 말이다.\n",
    "\n",
    " 특성 중요도는   \n",
    " Tree모델을 생성해서 학습시키고 난후, **내부적으로 생성되는 인스턴스**이다.  \n",
    " \n",
    " 트리구조상 상위에 있는 특성, 속성이 중요한 것으로 지정되며   \n",
    " 트리계층을 내려갈수록 중요도가 떨어지는데, 그렇다고 이것이 필요없는 속성으로 바로 간주하는 것은  \n",
    " 위험한 발상이다.  \n",
    " \n",
    " 특성 중요도는 **트리의 계층구조와 밀접한 연관**을 가진다."
   ]
  },
  {
   "cell_type": "code",
   "execution_count": 46,
   "id": "90be3fb1",
   "metadata": {},
   "outputs": [
    {
     "data": {
      "text/plain": [
       "array([0.        , 0.        , 0.        , 0.        , 0.00752597,\n",
       "       0.        , 0.        , 0.01354675, 0.        , 0.        ,\n",
       "       0.        , 0.05383566, 0.        , 0.00238745, 0.00231135,\n",
       "       0.        , 0.        , 0.        , 0.        , 0.        ,\n",
       "       0.69546322, 0.04179055, 0.        , 0.        , 0.00668975,\n",
       "       0.        , 0.01740312, 0.12587473, 0.02341413, 0.00975731])"
      ]
     },
     "execution_count": 46,
     "metadata": {},
     "output_type": "execute_result"
    }
   ],
   "source": [
    "tree.feature_importances_"
   ]
  },
  {
   "cell_type": "markdown",
   "id": "03858075",
   "metadata": {},
   "source": [
    "'''\n",
    "\n",
    "위에서 보면 0인 것들이 있는데, 의사 결정할 때 사용되지 않은 컬럼값은 0을 가진다.\n",
    "\n",
    "'''"
   ]
  },
  {
   "cell_type": "markdown",
   "id": "53da0c1d",
   "metadata": {},
   "source": [
    "DataFrame으로 만들면 **중요도(feature importances) 순서로 정렬**할 수 있습니다."
   ]
  },
  {
   "cell_type": "code",
   "execution_count": 54,
   "id": "83913fb7",
   "metadata": {
    "scrolled": true
   },
   "outputs": [
    {
     "data": {
      "text/html": [
       "<div>\n",
       "<style scoped>\n",
       "    .dataframe tbody tr th:only-of-type {\n",
       "        vertical-align: middle;\n",
       "    }\n",
       "\n",
       "    .dataframe tbody tr th {\n",
       "        vertical-align: top;\n",
       "    }\n",
       "\n",
       "    .dataframe thead th {\n",
       "        text-align: right;\n",
       "    }\n",
       "</style>\n",
       "<table border=\"1\" class=\"dataframe\">\n",
       "  <thead>\n",
       "    <tr style=\"text-align: right;\">\n",
       "      <th></th>\n",
       "      <th>feature</th>\n",
       "      <th>importances</th>\n",
       "    </tr>\n",
       "  </thead>\n",
       "  <tbody>\n",
       "    <tr>\n",
       "      <th>20</th>\n",
       "      <td>worst radius</td>\n",
       "      <td>0.695463</td>\n",
       "    </tr>\n",
       "    <tr>\n",
       "      <th>27</th>\n",
       "      <td>worst concave points</td>\n",
       "      <td>0.125875</td>\n",
       "    </tr>\n",
       "    <tr>\n",
       "      <th>11</th>\n",
       "      <td>texture error</td>\n",
       "      <td>0.053836</td>\n",
       "    </tr>\n",
       "    <tr>\n",
       "      <th>21</th>\n",
       "      <td>worst texture</td>\n",
       "      <td>0.041791</td>\n",
       "    </tr>\n",
       "    <tr>\n",
       "      <th>28</th>\n",
       "      <td>worst symmetry</td>\n",
       "      <td>0.023414</td>\n",
       "    </tr>\n",
       "    <tr>\n",
       "      <th>26</th>\n",
       "      <td>worst concavity</td>\n",
       "      <td>0.017403</td>\n",
       "    </tr>\n",
       "    <tr>\n",
       "      <th>7</th>\n",
       "      <td>mean concave points</td>\n",
       "      <td>0.013547</td>\n",
       "    </tr>\n",
       "    <tr>\n",
       "      <th>29</th>\n",
       "      <td>worst fractal dimension</td>\n",
       "      <td>0.009757</td>\n",
       "    </tr>\n",
       "    <tr>\n",
       "      <th>4</th>\n",
       "      <td>mean smoothness</td>\n",
       "      <td>0.007526</td>\n",
       "    </tr>\n",
       "    <tr>\n",
       "      <th>24</th>\n",
       "      <td>worst smoothness</td>\n",
       "      <td>0.006690</td>\n",
       "    </tr>\n",
       "    <tr>\n",
       "      <th>13</th>\n",
       "      <td>area error</td>\n",
       "      <td>0.002387</td>\n",
       "    </tr>\n",
       "    <tr>\n",
       "      <th>14</th>\n",
       "      <td>smoothness error</td>\n",
       "      <td>0.002311</td>\n",
       "    </tr>\n",
       "    <tr>\n",
       "      <th>22</th>\n",
       "      <td>worst perimeter</td>\n",
       "      <td>0.000000</td>\n",
       "    </tr>\n",
       "    <tr>\n",
       "      <th>23</th>\n",
       "      <td>worst area</td>\n",
       "      <td>0.000000</td>\n",
       "    </tr>\n",
       "    <tr>\n",
       "      <th>18</th>\n",
       "      <td>symmetry error</td>\n",
       "      <td>0.000000</td>\n",
       "    </tr>\n",
       "    <tr>\n",
       "      <th>25</th>\n",
       "      <td>worst compactness</td>\n",
       "      <td>0.000000</td>\n",
       "    </tr>\n",
       "    <tr>\n",
       "      <th>19</th>\n",
       "      <td>fractal dimension error</td>\n",
       "      <td>0.000000</td>\n",
       "    </tr>\n",
       "    <tr>\n",
       "      <th>0</th>\n",
       "      <td>mean radius</td>\n",
       "      <td>0.000000</td>\n",
       "    </tr>\n",
       "    <tr>\n",
       "      <th>17</th>\n",
       "      <td>concave points error</td>\n",
       "      <td>0.000000</td>\n",
       "    </tr>\n",
       "    <tr>\n",
       "      <th>16</th>\n",
       "      <td>concavity error</td>\n",
       "      <td>0.000000</td>\n",
       "    </tr>\n",
       "    <tr>\n",
       "      <th>1</th>\n",
       "      <td>mean texture</td>\n",
       "      <td>0.000000</td>\n",
       "    </tr>\n",
       "    <tr>\n",
       "      <th>12</th>\n",
       "      <td>perimeter error</td>\n",
       "      <td>0.000000</td>\n",
       "    </tr>\n",
       "    <tr>\n",
       "      <th>10</th>\n",
       "      <td>radius error</td>\n",
       "      <td>0.000000</td>\n",
       "    </tr>\n",
       "    <tr>\n",
       "      <th>9</th>\n",
       "      <td>mean fractal dimension</td>\n",
       "      <td>0.000000</td>\n",
       "    </tr>\n",
       "    <tr>\n",
       "      <th>8</th>\n",
       "      <td>mean symmetry</td>\n",
       "      <td>0.000000</td>\n",
       "    </tr>\n",
       "    <tr>\n",
       "      <th>6</th>\n",
       "      <td>mean concavity</td>\n",
       "      <td>0.000000</td>\n",
       "    </tr>\n",
       "    <tr>\n",
       "      <th>5</th>\n",
       "      <td>mean compactness</td>\n",
       "      <td>0.000000</td>\n",
       "    </tr>\n",
       "    <tr>\n",
       "      <th>3</th>\n",
       "      <td>mean area</td>\n",
       "      <td>0.000000</td>\n",
       "    </tr>\n",
       "    <tr>\n",
       "      <th>2</th>\n",
       "      <td>mean perimeter</td>\n",
       "      <td>0.000000</td>\n",
       "    </tr>\n",
       "    <tr>\n",
       "      <th>15</th>\n",
       "      <td>compactness error</td>\n",
       "      <td>0.000000</td>\n",
       "    </tr>\n",
       "  </tbody>\n",
       "</table>\n",
       "</div>"
      ],
      "text/plain": [
       "                    feature  importances\n",
       "20             worst radius     0.695463\n",
       "27     worst concave points     0.125875\n",
       "11            texture error     0.053836\n",
       "21            worst texture     0.041791\n",
       "28           worst symmetry     0.023414\n",
       "26          worst concavity     0.017403\n",
       "7       mean concave points     0.013547\n",
       "29  worst fractal dimension     0.009757\n",
       "4           mean smoothness     0.007526\n",
       "24         worst smoothness     0.006690\n",
       "13               area error     0.002387\n",
       "14         smoothness error     0.002311\n",
       "22          worst perimeter     0.000000\n",
       "23               worst area     0.000000\n",
       "18           symmetry error     0.000000\n",
       "25        worst compactness     0.000000\n",
       "19  fractal dimension error     0.000000\n",
       "0               mean radius     0.000000\n",
       "17     concave points error     0.000000\n",
       "16          concavity error     0.000000\n",
       "1              mean texture     0.000000\n",
       "12          perimeter error     0.000000\n",
       "10             radius error     0.000000\n",
       "9    mean fractal dimension     0.000000\n",
       "8             mean symmetry     0.000000\n",
       "6            mean concavity     0.000000\n",
       "5          mean compactness     0.000000\n",
       "3                 mean area     0.000000\n",
       "2            mean perimeter     0.000000\n",
       "15        compactness error     0.000000"
      ]
     },
     "execution_count": 54,
     "metadata": {},
     "output_type": "execute_result"
    }
   ],
   "source": [
    "import pandas as pd\n",
    "df=pd.DataFrame(list(zip(cancer['feature_names'], tree.feature_importances_)), \n",
    "               columns = ['feature', 'importances']).sort_values(by = 'importances', ascending = False)\n",
    "df"
   ]
  },
  {
   "cell_type": "markdown",
   "id": "b75cabb4",
   "metadata": {},
   "source": [
    "'''\n",
    "\n",
    "의사결정시에는 \n",
    "1) entropy 지수가 낮게 나오는 방향으로 결정하고, 이는 feature importances에서 가장 높게 나온 것이 엔트로피 지수, 즉 불순도를\n",
    "가장 낮출 수 있는 것이다.\n",
    "\n",
    "'''"
   ]
  },
  {
   "cell_type": "code",
   "execution_count": 55,
   "id": "f5b312cf",
   "metadata": {},
   "outputs": [
    {
     "data": {
      "image/png": "[encoded data removed]",
      "text/plain": [
       "<Figure size 720x720 with 1 Axes>"
      ]
     },
     "metadata": {
      "needs_background": "light"
     },
     "output_type": "display_data"
    }
   ],
   "source": [
    "import matplotlib.pyplot as plt\n",
    "import seaborn as sns\n",
    "plt.figure(figsize = (10, 10))\n",
    "sns.barplot(y = 'feature', x = 'importances', data = df)\n",
    "plt.show()"
   ]
  },
  {
   "cell_type": "code",
   "execution_count": null,
   "id": "2a7d4c10",
   "metadata": {},
   "outputs": [],
   "source": []
  }
 ],
 "metadata": {
  "kernelspec": {
   "display_name": "Python 3 (ipykernel)",
   "language": "python",
   "name": "python3"
  },
  "language_info": {
   "codemirror_mode": {
    "name": "ipython",
    "version": 3
   },
   "file_extension": ".py",
   "mimetype": "text/x-python",
   "name": "python",
   "nbconvert_exporter": "python",
   "pygments_lexer": "ipython3",
   "version": "3.9.7"
  }
 },
 "nbformat": 4,
 "nbformat_minor": 5
}
