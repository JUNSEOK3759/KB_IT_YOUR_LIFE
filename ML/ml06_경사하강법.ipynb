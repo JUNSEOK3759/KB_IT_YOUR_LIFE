{
 "cells": [
  {
   "cell_type": "markdown",
   "metadata": {},
   "source": [
    "### 선형회귀(Linear Regression) - 경사하강법"
   ]
  },
  {
   "cell_type": "markdown",
   "metadata": {},
   "source": [
    "#### Linear Regression을 활용하여 섭씨온도(C, Celsius)를 화씨온도(F, Fahrenheit)로 변환해주는 공식을 만들수 있다. \n",
    "섭씨온도과 화씨온도의 관계는 앞에서 우리가 살펴보았던 선형회귀의 관계를 가지고 있다.\n",
    "#### H(x) = aX + b 에서처럼, F = C*1.8 +32 \n",
    "이때, 1.8과 32라는 값을 모르고 있다고 가정하고, 머신러닝 알고리즘을 이용해서 주어진 섭씨 온도와 화씨온도 데이타 만으로 이 값들을 찾아내는 실습을 진행해보도록 하겠다.\n"
   ]
  },
  {
   "cell_type": "markdown",
   "metadata": {},
   "source": [
    "### Configuration (or prerequisite)"
   ]
  },
  {
   "cell_type": "code",
   "execution_count": 1,
   "metadata": {},
   "outputs": [],
   "source": [
    "import numpy as np\n",
    "import pandas as pd\n",
    "import matplotlib.pyplot as plt"
   ]
  },
  {
   "cell_type": "markdown",
   "metadata": {},
   "source": [
    "### Generate Dataset"
   ]
  },
  {
   "cell_type": "markdown",
   "metadata": {},
   "source": [
    "#### 선형회귀 문제를 다루기 위한 학습용 데이타셋을 생성\n",
    "0도에서 100도 사이의 값을 갖는 섭씨온도 데이타를 100개 만들어보자\n",
    "이 데이타가 해당 머신러닝 알고리즘에서 사실상 Feature가 될 것이다."
   ]
  },
  {
   "cell_type": "code",
   "execution_count": 2,
   "metadata": {},
   "outputs": [
    {
     "data": {
      "text/plain": [
       "array([65,  7, 43, 47, 48,  4, 34, 67, 25, 63, 42, 99, 10, 19, 40, 65, 53,\n",
       "       85,  8, 87,  0, 14, 18, 90, 80, 52, 37, 27, 85, 66, 86, 86, 85, 22,\n",
       "       48, 55, 27, 29, 42, 35,  3, 82, 21, 41, 27, 64, 88, 81, 22, 62, 77,\n",
       "       13, 98, 22, 84, 98, 34, 60,  2, 44,  7, 94, 51, 99, 34,  2, 92, 79,\n",
       "       17, 63, 69, 71, 66, 74, 76, 23,  6, 73, 96, 55, 39, 75, 52, 41, 49,\n",
       "       93, 64,  0, 54, 99,  4, 24, 45, 86, 49, 16, 10, 91, 70, 36])"
      ]
     },
     "execution_count": 2,
     "metadata": {},
     "output_type": "execute_result"
    }
   ],
   "source": [
    "C=np.random.randint(0,100, size=100)\n",
    "C\n",
    "\n",
    "C=np.random.randint(low=0,high=100, size=100) \n",
    "C"
   ]
  },
  {
   "cell_type": "code",
   "execution_count": 5,
   "metadata": {},
   "outputs": [
    {
     "name": "stdout",
     "output_type": "stream",
     "text": [
      "(100,)\n",
      "[65  7 43 47 48  4 34 67 25 63]\n"
     ]
    }
   ],
   "source": [
    "print(C.shape)\n",
    "print(C[:10])"
   ]
  },
  {
   "cell_type": "markdown",
   "metadata": {},
   "source": [
    "### 섭씨온도 데이타에 상응하는 화씨온도를 생성\n",
    "#### 우리가 알고있던 기존의 섭씨-화씨변환 공식을 적용해서 위 섭씨온도 데이타에 대응하는 화씨온도 데이타를 생성. \n",
    "이 데이타가 오늘 다룰 학습 모델 알고리즘의 Label이 될 것이다.\n",
    "\n",
    "**화씨온도 = 섭씨온도 * 1.8  + 32**"
   ]
  },
  {
   "cell_type": "code",
   "execution_count": 6,
   "metadata": {},
   "outputs": [
    {
     "data": {
      "text/plain": [
       "array([149. ,  44.6, 109.4, 116.6, 118.4,  39.2,  93.2, 152.6,  77. ,\n",
       "       145.4, 107.6, 210.2,  50. ,  66.2, 104. , 149. , 127.4, 185. ,\n",
       "        46.4, 188.6,  32. ,  57.2,  64.4, 194. , 176. , 125.6,  98.6,\n",
       "        80.6, 185. , 150.8, 186.8, 186.8, 185. ,  71.6, 118.4, 131. ,\n",
       "        80.6,  84.2, 107.6,  95. ,  37.4, 179.6,  69.8, 105.8,  80.6,\n",
       "       147.2, 190.4, 177.8,  71.6, 143.6, 170.6,  55.4, 208.4,  71.6,\n",
       "       183.2, 208.4,  93.2, 140. ,  35.6, 111.2,  44.6, 201.2, 123.8,\n",
       "       210.2,  93.2,  35.6, 197.6, 174.2,  62.6, 145.4, 156.2, 159.8,\n",
       "       150.8, 165.2, 168.8,  73.4,  42.8, 163.4, 204.8, 131. , 102.2,\n",
       "       167. , 125.6, 105.8, 120.2, 199.4, 147.2,  32. , 129.2, 210.2,\n",
       "        39.2,  75.2, 113. , 186.8, 120.2,  60.8,  50. , 195.8, 158. ,\n",
       "        96.8])"
      ]
     },
     "execution_count": 6,
     "metadata": {},
     "output_type": "execute_result"
    }
   ],
   "source": [
    "F = (C * 1.8) + 32\n",
    "F # 라벨, 정답값"
   ]
  },
  {
   "cell_type": "code",
   "execution_count": 7,
   "metadata": {},
   "outputs": [
    {
     "name": "stdout",
     "output_type": "stream",
     "text": [
      "(100,)\n",
      "[149.   44.6 109.4 116.6 118.4  39.2  93.2 152.6  77.  145.4]\n"
     ]
    }
   ],
   "source": [
    "print(F.shape)\n",
    "print(F[:10])"
   ]
  },
  {
   "cell_type": "markdown",
   "metadata": {},
   "source": [
    "### Visualize"
   ]
  },
  {
   "cell_type": "markdown",
   "metadata": {},
   "source": [
    "#### 위에서 우리가 만든 Feature와 Label을 matplot을 이용해서 시각화"
   ]
  },
  {
   "cell_type": "code",
   "execution_count": 9,
   "metadata": {},
   "outputs": [
    {
     "data": {
      "image/png": "[encoded data removed]",
      "text/plain": [
       "<Figure size 432x288 with 1 Axes>"
      ]
     },
     "metadata": {
      "needs_background": "light"
     },
     "output_type": "display_data"
    }
   ],
   "source": [
    "plt.scatter(C, F)\n",
    "plt.xlabel('Celsius Temperature')\n",
    "plt.ylabel('Fahrenheit Temperature')\n",
    "plt.show()"
   ]
  },
  {
   "cell_type": "markdown",
   "metadata": {},
   "source": [
    "### Bias (편향 찾기) -- Weight는 1.8"
   ]
  },
  {
   "cell_type": "markdown",
   "metadata": {},
   "source": [
    "#### Weight는 1.8로 주고 Bias를 직관적인 방법으로 한번 찾아보겠다."
   ]
  },
  {
   "cell_type": "code",
   "execution_count": 11,
   "metadata": {},
   "outputs": [],
   "source": [
    "X = C\n",
    "y = F"
   ]
  },
  {
   "cell_type": "code",
   "execution_count": 62,
   "metadata": {},
   "outputs": [
    {
     "data": {
      "text/plain": [
       "(1.8, 0.1820663910263869)"
      ]
     },
     "execution_count": 62,
     "metadata": {},
     "output_type": "execute_result"
    }
   ],
   "source": [
    "w = 1.8\n",
    "b = np.random.uniform(low = -1.0, high = +1.0)\n",
    "\n",
    "w, b"
   ]
  },
  {
   "cell_type": "code",
   "execution_count": 63,
   "metadata": {},
   "outputs": [
    {
     "data": {
      "text/plain": [
       "array([117.18206639,  12.78206639,  77.58206639,  84.78206639,\n",
       "        86.58206639,   7.38206639,  61.38206639, 120.78206639,\n",
       "        45.18206639, 113.58206639])"
      ]
     },
     "execution_count": 63,
     "metadata": {},
     "output_type": "execute_result"
    }
   ],
   "source": [
    "y_predict = w * X + b\n",
    "y_predict[:10]"
   ]
  },
  {
   "cell_type": "code",
   "execution_count": 64,
   "metadata": {},
   "outputs": [
    {
     "data": {
      "image/png": "[encoded data removed]",
      "text/plain": [
       "<Figure size 432x288 with 1 Axes>"
      ]
     },
     "metadata": {
      "needs_background": "light"
     },
     "output_type": "display_data"
    }
   ],
   "source": [
    "plt.scatter(C, F)\n",
    "plt.plot(C, y_predict, c = 'r')\n",
    "plt.xlabel('Celsius Temperature')\n",
    "plt.ylabel('Fahrenheit Temperature')\n",
    "plt.show()"
   ]
  },
  {
   "cell_type": "code",
   "execution_count": 65,
   "metadata": {},
   "outputs": [
    {
     "data": {
      "text/plain": [
       "32.00000000000001"
      ]
     },
     "execution_count": 65,
     "metadata": {},
     "output_type": "execute_result"
    }
   ],
   "source": [
    "b = b - (y_predict - y).mean()\n",
    "b"
   ]
  },
  {
   "cell_type": "code",
   "execution_count": 66,
   "metadata": {},
   "outputs": [
    {
     "data": {
      "text/plain": [
       "array([149. ,  44.6, 109.4, 116.6, 118.4,  39.2,  93.2, 152.6,  77. ,\n",
       "       145.4])"
      ]
     },
     "execution_count": 66,
     "metadata": {},
     "output_type": "execute_result"
    }
   ],
   "source": [
    "y_predict = w * X + b\n",
    "y_predict[:10]"
   ]
  },
  {
   "cell_type": "code",
   "execution_count": 67,
   "metadata": {},
   "outputs": [
    {
     "data": {
      "image/png": "[encoded data removed]",
      "text/plain": [
       "<Figure size 432x288 with 1 Axes>"
      ]
     },
     "metadata": {
      "needs_background": "light"
     },
     "output_type": "display_data"
    }
   ],
   "source": [
    "plt.scatter(C, F)\n",
    "plt.plot(C, y_predict, c = 'r')\n",
    "plt.xlabel('Celsius Temperature')\n",
    "plt.ylabel('Fahrenheit Temperature')\n",
    "plt.show()"
   ]
  },
  {
   "cell_type": "code",
   "execution_count": null,
   "metadata": {},
   "outputs": [],
   "source": []
  },
  {
   "cell_type": "markdown",
   "metadata": {},
   "source": [
    "#### 정규분포에 해당하는 w,b값을 랜덤하게 지정해서 초기화\n",
    "실제값과 예측치 결과값과의 차이를 시각화해서 확인"
   ]
  },
  {
   "cell_type": "code",
   "execution_count": 72,
   "metadata": {},
   "outputs": [
    {
     "data": {
      "text/plain": [
       "(0.5121972998638404, 0.2393511796092418)"
      ]
     },
     "execution_count": 72,
     "metadata": {},
     "output_type": "execute_result"
    }
   ],
   "source": [
    "w = np.random.uniform(low=-1.0, high= 1.0) \n",
    "b = np.random.uniform(low=-1.0, high= 1.0)\n",
    "w,b"
   ]
  },
  {
   "cell_type": "code",
   "execution_count": 73,
   "metadata": {},
   "outputs": [
    {
     "data": {
      "text/plain": [
       "array([33.53217567,  3.82473228, 22.26383507, 24.31262427, 24.82482157,\n",
       "        2.28814038, 17.65405937, 34.55657027, 13.04428368, 32.50778107])"
      ]
     },
     "execution_count": 73,
     "metadata": {},
     "output_type": "execute_result"
    }
   ],
   "source": [
    "y_predict = w * X + b\n",
    "y_predict[0:10]"
   ]
  },
  {
   "cell_type": "code",
   "execution_count": 74,
   "metadata": {},
   "outputs": [
    {
     "data": {
      "text/plain": [
       "[<matplotlib.lines.Line2D at 0x2a58daeb2b0>]"
      ]
     },
     "execution_count": 74,
     "metadata": {},
     "output_type": "execute_result"
    },
    {
     "data": {
      "image/png": "[encoded data removed]",
      "text/plain": [
       "<Figure size 432x288 with 1 Axes>"
      ]
     },
     "metadata": {
      "needs_background": "light"
     },
     "output_type": "display_data"
    }
   ],
   "source": [
    "plt.scatter(C, F)\n",
    "plt.plot(C, y_predict, 'r')"
   ]
  },
  {
   "cell_type": "markdown",
   "metadata": {},
   "source": [
    "### Gradient Descent"
   ]
  },
  {
   "cell_type": "markdown",
   "metadata": {},
   "source": [
    "### 가중치(Weight, W), 편향(Bias, B) 찾기\n",
    "#### 이제 경사하강법(Gradient Descent)을 사용하여 섭씨온도를 화씨온도로 변환해줄 주 있는 공식을 찾아보겠다.\n",
    "공식의 세부내용은 모른다치고, 두 변수(X,y)가 선형(Linear)과 관계있음을 가정(y=X * w + b)하여 가중치(weight)와 편차(bias)를 정의해 둔다. 그리고 경사하강법을 이용해서 선형회귀를 학습시킨다.\n",
    "학습이 완료되면, 얻어진 최적의 가중치와 편차로 섭씨온도를 화씨온도로 변환해주는 공식을 만들어 줄수 있다.\n",
    "학습은 모든 epoch이 끝날 때까지 반복할 수도 있지만, 여기선 오차(error)가 0.1 이하가 되면 break 키워드를 사용해서 학습을 종료한다."
   ]
  },
  {
   "cell_type": "code",
   "execution_count": 93,
   "metadata": {},
   "outputs": [
    {
     "name": "stdout",
     "output_type": "stream",
     "text": [
      "    0 w = 1.381314, b = 0.258, error = 151.621\n",
      "10000 w = 2.081053, b = 12.921, error = 7.976\n",
      "20000 w = 1.969001, b = 20.528, error = 4.796\n",
      "30000 w = 1.901623, b = 25.101, error = 2.884\n",
      "40000 w = 1.861108, b = 27.852, error = 1.734\n",
      "50000 w = 1.836745, b = 29.506, error = 1.043\n",
      "60000 w = 1.822095, b = 30.500, error = 0.627\n",
      "70000 w = 1.813286, b = 31.098, error = 0.377\n",
      "80000 w = 1.807989, b = 31.458, error = 0.227\n",
      "90000 w = 1.804804, b = 31.674, error = 0.136\n",
      "------------------------------------------------------------------------------------------\n",
      "96094 w = 1.804, b = 31.761, error = 0.100\n"
     ]
    }
   ],
   "source": [
    "num_epoch = 100000\n",
    "learning_rate = 0.0002\n",
    "\n",
    "w = np.random.uniform(low=-1.0, high=1.0)\n",
    "b = np.random.uniform(low=-1.0, high=1.0)\n",
    "\n",
    "for epoch in range(num_epoch):    \n",
    "   \n",
    "    y_predict = w * X + b \n",
    "  \n",
    "    error = np.abs(y_predict - y).mean()\n",
    "    \n",
    "    if error < 0.1: # 거의 기존 그래프와 일치할 때\n",
    "        break\n",
    "    \n",
    "    # 0.1 아래가 아니라면 w, b값을 보정한다. 편미분 공식\n",
    "    w = w - learning_rate * ((y_predict - y) * X).mean() # w를 보정하는 공식\n",
    "    b = b - learning_rate * (y_predict - y).mean() # b를 보정하는 공식\n",
    "    \n",
    "    \n",
    "    if epoch % 10000 == 0:\n",
    "        print(f\"{epoch:5} w = {w:.6f}, b = {b:.3f}, error = {error:.3f}\")\n",
    "    \n",
    "print(\"---------\" * 10)\n",
    "print(f\"{epoch:5} w = {w:.3f}, b = {b:.3f}, error = {error:.3f}\")"
   ]
  },
  {
   "cell_type": "markdown",
   "metadata": {},
   "source": [
    "# Predict"
   ]
  },
  {
   "cell_type": "markdown",
   "metadata": {},
   "source": [
    "#### 선형 회귀의 학습이 끝났으면, 이제 이 머신러닝 알고리즘을 활용하여 변환공식을 완성하고, 주어진 섭씨온도를 화씨온도로 변환(혹은 섭씨온도로 화씨온도를 예측)할 수 있다. 앞서 만들어준 데이터를 그대로 활용하여 주어진 섭씨온도(C)로 화씨온도를 예측해보자."
   ]
  },
  {
   "cell_type": "code",
   "execution_count": 89,
   "metadata": {},
   "outputs": [
    {
     "data": {
      "text/plain": [
       "array([148.98983951,  44.38547093, 109.31232039, 116.52641478,\n",
       "       118.32993837])"
      ]
     },
     "execution_count": 89,
     "metadata": {},
     "output_type": "execute_result"
    }
   ],
   "source": [
    "y_predict = w * C + b\n",
    "\n",
    "y_predict[0:5]"
   ]
  },
  {
   "cell_type": "code",
   "execution_count": 90,
   "metadata": {},
   "outputs": [
    {
     "name": "stdout",
     "output_type": "stream",
     "text": [
      "(100, 3)\n"
     ]
    },
    {
     "data": {
      "text/html": [
       "<div>\n",
       "<style scoped>\n",
       "    .dataframe tbody tr th:only-of-type {\n",
       "        vertical-align: middle;\n",
       "    }\n",
       "\n",
       "    .dataframe tbody tr th {\n",
       "        vertical-align: top;\n",
       "    }\n",
       "\n",
       "    .dataframe thead th {\n",
       "        text-align: right;\n",
       "    }\n",
       "</style>\n",
       "<table border=\"1\" class=\"dataframe\">\n",
       "  <thead>\n",
       "    <tr style=\"text-align: right;\">\n",
       "      <th></th>\n",
       "      <th>C</th>\n",
       "      <th>F</th>\n",
       "      <th>F(predict)</th>\n",
       "    </tr>\n",
       "  </thead>\n",
       "  <tbody>\n",
       "    <tr>\n",
       "      <th>0</th>\n",
       "      <td>65</td>\n",
       "      <td>149.0</td>\n",
       "      <td>148.989840</td>\n",
       "    </tr>\n",
       "    <tr>\n",
       "      <th>1</th>\n",
       "      <td>7</td>\n",
       "      <td>44.6</td>\n",
       "      <td>44.385471</td>\n",
       "    </tr>\n",
       "    <tr>\n",
       "      <th>2</th>\n",
       "      <td>43</td>\n",
       "      <td>109.4</td>\n",
       "      <td>109.312320</td>\n",
       "    </tr>\n",
       "    <tr>\n",
       "      <th>3</th>\n",
       "      <td>47</td>\n",
       "      <td>116.6</td>\n",
       "      <td>116.526415</td>\n",
       "    </tr>\n",
       "    <tr>\n",
       "      <th>4</th>\n",
       "      <td>48</td>\n",
       "      <td>118.4</td>\n",
       "      <td>118.329938</td>\n",
       "    </tr>\n",
       "    <tr>\n",
       "      <th>5</th>\n",
       "      <td>4</td>\n",
       "      <td>39.2</td>\n",
       "      <td>38.974900</td>\n",
       "    </tr>\n",
       "    <tr>\n",
       "      <th>6</th>\n",
       "      <td>34</td>\n",
       "      <td>93.2</td>\n",
       "      <td>93.080608</td>\n",
       "    </tr>\n",
       "    <tr>\n",
       "      <th>7</th>\n",
       "      <td>67</td>\n",
       "      <td>152.6</td>\n",
       "      <td>152.596887</td>\n",
       "    </tr>\n",
       "    <tr>\n",
       "      <th>8</th>\n",
       "      <td>25</td>\n",
       "      <td>77.0</td>\n",
       "      <td>76.848896</td>\n",
       "    </tr>\n",
       "    <tr>\n",
       "      <th>9</th>\n",
       "      <td>63</td>\n",
       "      <td>145.4</td>\n",
       "      <td>145.382792</td>\n",
       "    </tr>\n",
       "  </tbody>\n",
       "</table>\n",
       "</div>"
      ],
      "text/plain": [
       "    C      F  F(predict)\n",
       "0  65  149.0  148.989840\n",
       "1   7   44.6   44.385471\n",
       "2  43  109.4  109.312320\n",
       "3  47  116.6  116.526415\n",
       "4  48  118.4  118.329938\n",
       "5   4   39.2   38.974900\n",
       "6  34   93.2   93.080608\n",
       "7  67  152.6  152.596887\n",
       "8  25   77.0   76.848896\n",
       "9  63  145.4  145.382792"
      ]
     },
     "execution_count": 90,
     "metadata": {},
     "output_type": "execute_result"
    }
   ],
   "source": [
    "result = pd.DataFrame({\"C\": C, \"F\": F, \"F(predict)\": y_predict})\n",
    "print(result.shape) \n",
    "result.head(10)"
   ]
  },
  {
   "cell_type": "markdown",
   "metadata": {},
   "source": [
    "### Visualize\n",
    "#### 결과가 잘 나왔으면, 예측한 값과 실제값을 비교하여 시각화를 통해 잘 예측이 되었는지 확인"
   ]
  },
  {
   "cell_type": "code",
   "execution_count": 91,
   "metadata": {},
   "outputs": [
    {
     "data": {
      "text/plain": [
       "[<matplotlib.lines.Line2D at 0x2a58f404e50>]"
      ]
     },
     "execution_count": 91,
     "metadata": {},
     "output_type": "execute_result"
    },
    {
     "data": {
      "image/png": "[encoded data removed]",
      "text/plain": [
       "<Figure size 432x288 with 1 Axes>"
      ]
     },
     "metadata": {
      "needs_background": "light"
     },
     "output_type": "display_data"
    }
   ],
   "source": [
    "plt.scatter(C, F)\n",
    "plt.plot(C, y_predict, 'r')"
   ]
  },
  {
   "cell_type": "code",
   "execution_count": null,
   "metadata": {},
   "outputs": [],
   "source": []
  }
 ],
 "metadata": {
  "kernelspec": {
   "display_name": "Python 3 (ipykernel)",
   "language": "python",
   "name": "python3"
  },
  "language_info": {
   "codemirror_mode": {
    "name": "ipython",
    "version": 3
   },
   "file_extension": ".py",
   "mimetype": "text/x-python",
   "name": "python",
   "nbconvert_exporter": "python",
   "pygments_lexer": "ipython3",
   "version": "3.9.7"
  }
 },
 "nbformat": 4,
 "nbformat_minor": 4
}
