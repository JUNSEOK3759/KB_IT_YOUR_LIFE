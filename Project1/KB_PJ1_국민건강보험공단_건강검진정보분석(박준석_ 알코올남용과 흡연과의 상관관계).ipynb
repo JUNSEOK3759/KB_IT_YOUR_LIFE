{
 "cells": [
  {
   "cell_type": "markdown",
   "metadata": {
    "id": "gjr42eVdQOql"
   },
   "source": [
    "# 국민건강보험공단_건강검진정보_2021_12 분석\n",
    "건강검진 결과지 제대로 읽는 법\n",
    "\n",
    "\n",
    "https://health.chosun.com/site/data/html_dir/2016/11/30/2016113001291.html"
   ]
  },
  {
   "cell_type": "code",
   "execution_count": 1,
   "metadata": {
    "scrolled": true
   },
   "outputs": [
    {
     "data": {
      "text/html": [
       "<div>\n",
       "<style scoped>\n",
       "    .dataframe tbody tr th:only-of-type {\n",
       "        vertical-align: middle;\n",
       "    }\n",
       "\n",
       "    .dataframe tbody tr th {\n",
       "        vertical-align: top;\n",
       "    }\n",
       "\n",
       "    .dataframe thead th {\n",
       "        text-align: right;\n",
       "    }\n",
       "</style>\n",
       "<table border=\"1\" class=\"dataframe\">\n",
       "  <thead>\n",
       "    <tr style=\"text-align: right;\">\n",
       "      <th></th>\n",
       "      <th>시도명</th>\n",
       "      <th>연령대</th>\n",
       "      <th>성별</th>\n",
       "      <th>신장(5Cm단위)</th>\n",
       "      <th>체중(5Kg 단위)</th>\n",
       "      <th>허리둘레</th>\n",
       "      <th>시력(좌)</th>\n",
       "      <th>시력(우)</th>\n",
       "      <th>청력(좌)</th>\n",
       "      <th>청력(우)</th>\n",
       "      <th>...</th>\n",
       "      <th>치석</th>\n",
       "      <th>당뇨병</th>\n",
       "      <th>저혈당</th>\n",
       "      <th>간 기능 이상</th>\n",
       "      <th>고혈압</th>\n",
       "      <th>저혈압</th>\n",
       "      <th>이상지질혈증HDL</th>\n",
       "      <th>이상지질혈증LDL</th>\n",
       "      <th>이상지질혈증</th>\n",
       "      <th>비만</th>\n",
       "    </tr>\n",
       "  </thead>\n",
       "  <tbody>\n",
       "    <tr>\n",
       "      <th>0</th>\n",
       "      <td>세종특별자치시</td>\n",
       "      <td>40~44세</td>\n",
       "      <td>남자</td>\n",
       "      <td>165</td>\n",
       "      <td>60</td>\n",
       "      <td>72.1</td>\n",
       "      <td>1.2</td>\n",
       "      <td>1.5</td>\n",
       "      <td>1.0</td>\n",
       "      <td>1.0</td>\n",
       "      <td>...</td>\n",
       "      <td>NaN</td>\n",
       "      <td>정상</td>\n",
       "      <td>정상</td>\n",
       "      <td>정상</td>\n",
       "      <td>의심</td>\n",
       "      <td>미관측</td>\n",
       "      <td>yes</td>\n",
       "      <td>no</td>\n",
       "      <td>비정상</td>\n",
       "      <td>정상</td>\n",
       "    </tr>\n",
       "  </tbody>\n",
       "</table>\n",
       "<p>1 rows × 37 columns</p>\n",
       "</div>"
      ],
      "text/plain": [
       "       시도명     연령대  성별  신장(5Cm단위)  체중(5Kg 단위)  허리둘레  시력(좌)  시력(우)  청력(좌)  \\\n",
       "0  세종특별자치시  40~44세  남자        165          60  72.1    1.2    1.5    1.0   \n",
       "\n",
       "   청력(우)  ...  치석  당뇨병  저혈당  간 기능 이상  고혈압  저혈압  이상지질혈증HDL  이상지질혈증LDL  이상지질혈증  \\\n",
       "0    1.0  ... NaN   정상   정상       정상   의심  미관측        yes         no     비정상   \n",
       "\n",
       "   비만  \n",
       "0  정상  \n",
       "\n",
       "[1 rows x 37 columns]"
      ]
     },
     "execution_count": 1,
     "metadata": {},
     "output_type": "execute_result"
    }
   ],
   "source": [
    "import numpy as np\n",
    "import pandas as pd\n",
    "from pandas import DataFrame\n",
    "import matplotlib.pyplot as plt\n",
    "import seaborn as sns\n",
    "\n",
    "import platform\n",
    "\n",
    "from matplotlib import font_manager, rc\n",
    "plt.rcParams['axes.unicode_minus'] = False\n",
    "\n",
    "if platform.system() == 'Darwin':\n",
    "    rc('font', family='AppleGothic')\n",
    "elif platform.system() == 'Windows':\n",
    "    path = \"c:/Windows/Fonts/malgun.ttf\"\n",
    "    font_name = font_manager.FontProperties(fname=path).get_name()\n",
    "    rc('font', family=font_name)\n",
    "else:\n",
    "    print('Unknown system... sorry~~~~')\n",
    "\n",
    "url1=\"https://raw.githubusercontent.com/KimYounghwan/bigdata/master/%EA%B5%AD%EB%AF%BC%EA%B1%B4%EA%B0%95%EB%B3%B4%ED%97%98%EA%B3%B5%EB%8B%A8_%EA%B1%B4%EA%B0%95%EA%B2%80%EC%A7%84%EC%A0%95%EB%B3%B4_20211229_1.CSV\"\n",
    "url2=\"https://raw.githubusercontent.com/KimYounghwan/bigdata/master/%EA%B5%AD%EB%AF%BC%EA%B1%B4%EA%B0%95%EB%B3%B4%ED%97%98%EA%B3%B5%EB%8B%A8_%EA%B1%B4%EA%B0%95%EA%B2%80%EC%A7%84%EC%A0%95%EB%B3%B4_20211229_2.CSV\"\n",
    "url3=\"https://raw.githubusercontent.com/KimYounghwan/bigdata/master/%EA%B5%AD%EB%AF%BC%EA%B1%B4%EA%B0%95%EB%B3%B4%ED%97%98%EA%B3%B5%EB%8B%A8_%EA%B1%B4%EA%B0%95%EA%B2%80%EC%A7%84%EC%A0%95%EB%B3%B4_20211229_3.CSV\"\n",
    "url4=\"https://raw.githubusercontent.com/KimYounghwan/bigdata/master/%EA%B5%AD%EB%AF%BC%EA%B1%B4%EA%B0%95%EB%B3%B4%ED%97%98%EA%B3%B5%EB%8B%A8_%EA%B1%B4%EA%B0%95%EA%B2%80%EC%A7%84%EC%A0%95%EB%B3%B4_20211229_4.CSV\"\n",
    "\n",
    "import pandas as pd\n",
    "\n",
    "검진정보1=pd.read_csv(url1)\n",
    "검진정보2=pd.read_csv(url2)\n",
    "검진정보3=pd.read_csv(url3)\n",
    "검진정보4=pd.read_csv(url4)\n",
    "\n",
    "검진정보 = 검진정보1.append(검진정보2).append(검진정보3).append(검진정보4)\n",
    "\n",
    "\n",
    "검진정보 = 검진정보1.append(검진정보2).append(검진정보3).append(검진정보4)\n",
    "df = 검진정보.copy()\n",
    "df\n",
    "\n",
    "dic1 = {11 : '서울특별시',\n",
    "26 : '부산광역시',\n",
    "27 : '대구광역시',\n",
    "28 : '인천광역시',\n",
    "29 : '광주광역시',\n",
    "30 : '대전광역시',\n",
    "31 : '울산광역시',\n",
    "36 : '세종특별자치시',\n",
    "41 : '경기도',\n",
    "42 : '강원도',\n",
    "43 : '충청북도',\n",
    "44 : '충청남도',\n",
    "45 : '전라북도',\n",
    "46 : '전라남도',\n",
    "47 : '경상북도' ,\n",
    "48 : '경상남도',\n",
    "49 : '제주특별자치도'}\n",
    "\n",
    "\n",
    "age_list = ['0~4세','5~9세','10~14세',\n",
    "                '15~19세','20~24세','25~29세',\n",
    "                '30~34세','35~39세','40~44세',\n",
    "                '45~49세','50~54세','55~59세',\n",
    "                '60~64세','65~69세','70~74세',\n",
    "               '75~79세','80~84세','85세 이상']\n",
    "\n",
    "# 코드 변환 후 새로운 칼럼 추가, 기존 코드 칼럼 삭제\n",
    "df['시도명'] = df['시도코드'].apply(lambda x : dic1[x])\n",
    "df.drop('시도코드', axis=1, inplace=True)\n",
    "df['연령대'] = df['연령대 코드(5세단위)'].apply(lambda x:age_list[x-1])\n",
    "df.drop('연령대 코드(5세단위)', axis=1, inplace=True)\n",
    "df['성별'] = df['성별코드'].apply(lambda x:'남자' if x==1 else '여자')\n",
    "df.drop('성별코드', axis=1, inplace=True)\n",
    "\n",
    "# 필요없는 칼럼 삭제\n",
    "df.drop(['기준년도','가입자 일련번호','데이터 공개일자'], axis=1, inplace=True)\n",
    "\n",
    "#시도명, 연령대, 성별 칼럼 맨 앞으로 가져오기\n",
    "검진정보_copy1 = df[['시도명', '연령대', '성별']]\n",
    "검진정보_copy2 = df.loc[:,'신장(5Cm단위)':'치석']\n",
    "검진정보_merge = pd.concat([검진정보_copy1, 검진정보_copy2], axis=1)\n",
    "검진정보_merge = 검진정보_merge.reset_index(drop = True) \n",
    "\n",
    "\n",
    "# merge한 데이터 검진정보_copy에 저장\n",
    "df = 검진정보_merge.copy()\n",
    "\n",
    "#당뇨병 \n",
    "df['당뇨병'] = '의심'\n",
    "con1 = (df['식전혈당(공복혈당)'] >= 126)\n",
    "con2 = (df['식전혈당(공복혈당)'] <= 120) & (df['식전혈당(공복혈당)'] >= 70)\n",
    "con3 = df['식전혈당(공복혈당)'].isnull()\n",
    "df.loc[con1,\"당뇨병\"] = '비정상'\n",
    "df.loc[con2, '당뇨병'] = '정상'\n",
    "df.loc[con3, '당뇨병'] = '미관측'\n",
    "\n",
    "#저혈당\n",
    "# http://www.samsunghospital.com/dept/main/index.do?DP_CODE=DM&MENU_ID=008037\n",
    "df['저혈당']= '정상'\n",
    "con1 = (df['식전혈당(공복혈당)'] < 70)\n",
    "con2 = (df['식전혈당(공복혈당)'].isnull())\n",
    "df.loc[con1,\"저혈당\"] = '비정상'\n",
    "df.loc[con2,\"저혈당\"] = '미관측'\n",
    "\n",
    "# 간 기능 이상\n",
    "df['간 기능 이상'] = '의심'\n",
    "con1 = ((df['(혈청지오티)AST'] >= 51)|(df['(혈청지오티)ALT'] >= 46))\n",
    "con2 = ((df['(혈청지오티)AST'] <= 32) & (df['(혈청지오티)ALT'] <= 32))\n",
    "con3 = (df['(혈청지오티)AST'].isnull()) & (df['(혈청지오티)ALT'].isnull())\n",
    "df.loc[con1,'간 기능 이상'] = '비정상'\n",
    "df.loc[con2,'간 기능 이상'] = '정상'\n",
    "df.loc[con3, '간 기능 이상'] = '미관측'\n",
    "\n",
    "#고혈압\n",
    "df['고혈압']= '의심'\n",
    "con1 = (df['수축기 혈압'] < 120) & (df['이완기 혈압'] < 80)\n",
    "con2 = (df['수축기 혈압'] >= 145) | (df['이완기 혈압'] >=95)\n",
    "con3 = (df['수축기 혈압'].isnull()) | (df['이완기 혈압'].isnull())\n",
    "df.loc[con1,\"고혈압\"] = '정상'\n",
    "df.loc[con3,\"고혈압\"] = '미관측'\n",
    "df.loc[con2,\"고혈압\"] = '비정상'\n",
    "\n",
    "#저혈압 \n",
    "#https://www.amc.seoul.kr/asan/healthinfo/disease/diseaseDetail.do?contentId=32144\n",
    "df[\"저혈압\"] = '미관측'\n",
    "con1 = (df['수축기 혈압'] < 120) & (df['이완기 혈압'] < 80) #정상\n",
    "con2 = (df['수축기 혈압'] < 100)  & (df['이완기 혈압'] < 60) #비정상\n",
    "con3 = (df['수축기 혈압'].isnull()) | (df['이완기 혈압'].isnull()) | (df['수축기 혈압'] >= 120) & (df['이완기 혈압'] >= 80)#미관측\n",
    "\n",
    "df.loc[con1,\"저혈압\"] = '정상'\n",
    "df.loc[con3,\"저혈압\"] = '미관측'\n",
    "df.loc[con2,\"저혈압\"] = '비정상'\n",
    "\n",
    "# 이상지질혈증\n",
    "df['이상지질혈증HDL'] = df['HDL 콜레스테롤'].apply(lambda x:'yes' if 60 > x else 'no')\n",
    "df['이상지질혈증LDL'] = df['LDL 콜레스테롤'].apply(lambda x:'yes' if 130 < x else 'no')\n",
    "\n",
    "df['이상지질혈증'] = '미관측'\n",
    "\n",
    "HDLcon = df['이상지질혈증HDL']=='yes'\n",
    "LDLcon = df['이상지질혈증LDL']=='yes'\n",
    "df.loc[HDLcon|LDLcon, '이상지질혈증'] = '비정상'\n",
    "\n",
    "con1 = df['HDL 콜레스테롤'].isnull()\n",
    "con2 = df['LDL 콜레스테롤'].isnull()\n",
    "df.loc[con1,'이상지질혈증HDL'] = '미관측'\n",
    "df.loc[con2,'이상지질혈증LDL'] = '미관측'\n",
    "\n",
    "HDLcon2 = df['이상지질혈증HDL']=='no'\n",
    "LDLcon2 = df['이상지질혈증LDL']=='no'\n",
    "df.loc[HDLcon2&LDLcon2, '이상지질혈증'] = '정상'\n",
    "\n",
    "# 비만\n",
    "BMI = df['체중(5Kg 단위)'] / (df['신장(5Cm단위)']*0.01)**2\n",
    "cond1 = (BMI <= 18.5)\n",
    "cond2 = ((BMI > 18.5) & (BMI <= 23.0))\n",
    "cond3 = ((BMI > 23.0) & (BMI <= 25.0))\n",
    "cond4 = (BMI > 25.0)\n",
    "\n",
    "df.loc[cond1, '비만'] = \"저체중\"\n",
    "df.loc[cond2, '비만'] = \"정상\"\n",
    "df.loc[cond3, '비만'] = \"과체중\"\n",
    "df.loc[cond4, '비만'] = \"고도비만\"\n",
    "\n",
    "df.head(1)"
   ]
  },
  {
   "cell_type": "code",
   "execution_count": 2,
   "metadata": {},
   "outputs": [
    {
     "data": {
      "text/html": [
       "<div>\n",
       "<style scoped>\n",
       "    .dataframe tbody tr th:only-of-type {\n",
       "        vertical-align: middle;\n",
       "    }\n",
       "\n",
       "    .dataframe tbody tr th {\n",
       "        vertical-align: top;\n",
       "    }\n",
       "\n",
       "    .dataframe thead th {\n",
       "        text-align: right;\n",
       "    }\n",
       "</style>\n",
       "<table border=\"1\" class=\"dataframe\">\n",
       "  <thead>\n",
       "    <tr style=\"text-align: right;\">\n",
       "      <th></th>\n",
       "      <th>(혈청지오티)AST</th>\n",
       "      <th>(혈청지오티)ALT</th>\n",
       "      <th>감마 지티피</th>\n",
       "    </tr>\n",
       "  </thead>\n",
       "  <tbody>\n",
       "    <tr>\n",
       "      <th>(혈청지오티)AST</th>\n",
       "      <td>1.000000</td>\n",
       "      <td>0.741916</td>\n",
       "      <td>0.320785</td>\n",
       "    </tr>\n",
       "    <tr>\n",
       "      <th>(혈청지오티)ALT</th>\n",
       "      <td>0.741916</td>\n",
       "      <td>1.000000</td>\n",
       "      <td>0.362289</td>\n",
       "    </tr>\n",
       "    <tr>\n",
       "      <th>감마 지티피</th>\n",
       "      <td>0.320785</td>\n",
       "      <td>0.362289</td>\n",
       "      <td>1.000000</td>\n",
       "    </tr>\n",
       "  </tbody>\n",
       "</table>\n",
       "</div>"
      ],
      "text/plain": [
       "            (혈청지오티)AST  (혈청지오티)ALT    감마 지티피\n",
       "(혈청지오티)AST    1.000000    0.741916  0.320785\n",
       "(혈청지오티)ALT    0.741916    1.000000  0.362289\n",
       "감마 지티피        0.320785    0.362289  1.000000"
      ]
     },
     "execution_count": 2,
     "metadata": {},
     "output_type": "execute_result"
    }
   ],
   "source": [
    "df[['(혈청지오티)AST', '(혈청지오티)ALT', '감마 지티피']].corr()"
   ]
  },
  {
   "cell_type": "code",
   "execution_count": 64,
   "metadata": {},
   "outputs": [
    {
     "data": {
      "text/html": [
       "<div>\n",
       "<style scoped>\n",
       "    .dataframe tbody tr th:only-of-type {\n",
       "        vertical-align: middle;\n",
       "    }\n",
       "\n",
       "    .dataframe tbody tr th {\n",
       "        vertical-align: top;\n",
       "    }\n",
       "\n",
       "    .dataframe thead th {\n",
       "        text-align: right;\n",
       "    }\n",
       "</style>\n",
       "<table border=\"1\" class=\"dataframe\">\n",
       "  <thead>\n",
       "    <tr style=\"text-align: right;\">\n",
       "      <th></th>\n",
       "      <th>음주여부</th>\n",
       "    </tr>\n",
       "    <tr>\n",
       "      <th>알코올남용</th>\n",
       "      <th></th>\n",
       "    </tr>\n",
       "  </thead>\n",
       "  <tbody>\n",
       "    <tr>\n",
       "      <th>남용자</th>\n",
       "      <td>9271</td>\n",
       "    </tr>\n",
       "    <tr>\n",
       "      <th>비남용자</th>\n",
       "      <td>990533</td>\n",
       "    </tr>\n",
       "  </tbody>\n",
       "</table>\n",
       "</div>"
      ],
      "text/plain": [
       "         음주여부\n",
       "알코올남용        \n",
       "남용자      9271\n",
       "비남용자   990533"
      ]
     },
     "execution_count": 64,
     "metadata": {},
     "output_type": "execute_result"
    }
   ],
   "source": [
    "# 혈청지오티인 AST와 ALT로 알코올남용자를 찾을 수 있다.\n",
    "# .\n",
    "'''\n",
    "감마지티피(GGT) : 0 - 40IU/L(인터네셔널 유닛)가 정상범위, 대부분 간에서 유래하는 데이터\n",
    "주어진 감마지티피만으로는 사실 간질환이나 여타 질환들을 유추해내기에는 무리가 있다.\n",
    "하지만 주어진 감마지티피로 ast와의 비율 조정을 통해서 알코올남용자를 찾을 수 있다.\n",
    "혈청지오티인 AST와 ALT로 알코올남용자를 찾을 수 있다.\n",
    "\n",
    "ast alt는 낮고 감마지티피만 높다면 다소 심각하지는 않지만\n",
    "ast alt가 높고 감마지티피토 높다면 심각한 간기능 이상이다.\n",
    "\n",
    "\n",
    "데이터를 기반으로 한 알코올 남용자 분석법\n",
    "\n",
    "AST가 높은 수치이고 (AST/ALT)가 2 이상일 때,\n",
    "'''\n",
    "\n",
    "\n",
    "df['알코올남용'] = '비남용자'\n",
    "cond1 = (df['(혈청지오티)AST'] >= 51)\n",
    "cond3 = (df['(혈청지오티)AST'] / df['(혈청지오티)ALT'] >= 2)\n",
    "cond4 = (df['감마 지티피'] >= 50)\n",
    "cond5 = (df['감마 지티피'] / df['(혈청지오티)ALT'] >= 2.5)\n",
    "cond6 = (df['음주여부'] == 1)\n",
    "\n",
    "'''\n",
    "AST/ALT비율이 2 이상인 경우 알코올성 간질환을 강하게 시사함.\n",
    "또한 r-GTP가 상승하고 r-GTP/ALT> 2.5이상이여도 강하게 시사함.\n",
    "ALT는 범위에 포함시키지 않은 이유는 알코올때문에 ALT와 관련이 있는\n",
    "PYRIDOXAL PHOSPHATE가 부족해지기 때문이다.\n",
    "\n",
    "\n",
    "인산피리독살(P5P 또는 PYRIDIXAL PHOSPHATE 또는 비타민B6)은 알라닌 전이효소(ALT)의\n",
    "완전한 촉매 활성에 필요한 보조인자.\n",
    "'''\n",
    "\n",
    "\n",
    "df.loc[cond1&cond3&cond6, '알코올남용'] = '남용자'\n",
    "df.loc[cond1&cond4&cond5&cond6, '알코올남용'] = '남용자'\n",
    "df.groupby('알코올남용').count()['음주여부'].to_frame()"
   ]
  },
  {
   "cell_type": "code",
   "execution_count": 65,
   "metadata": {},
   "outputs": [
    {
     "data": {
      "image/png": "[encoded data removed]",
      "text/plain": [
       "<Figure size 432x288 with 1 Axes>"
      ]
     },
     "metadata": {
      "needs_background": "light"
     },
     "output_type": "display_data"
    }
   ],
   "source": [
    "df_fat_alcoholic = df.groupby(['알코올남용', '비만']).count()[:4][['식전혈당(공복혈당)']].reset_index()\n",
    "df_fat_alcoholic.sort_values(by = '알코올남용')\n",
    "\n",
    "sns.barplot(x='비만', y = '식전혈당(공복혈당)', data=df_fat_alcoholic, palette='Blues_r')\n",
    "plt.show()"
   ]
  },
  {
   "cell_type": "code",
   "execution_count": 118,
   "metadata": {
    "scrolled": false
   },
   "outputs": [
    {
     "data": {
      "image/png": "[encoded data removed]",
      "text/plain": [
       "<Figure size 720x360 with 2 Axes>"
      ]
     },
     "metadata": {
      "needs_background": "light"
     },
     "output_type": "display_data"
    }
   ],
   "source": [
    "df_alcohol_highpress = df.groupby('알코올남용').mean()[['수축기 혈압', '이완기 혈압']].reset_index()\n",
    "\n",
    "\n",
    "# sns.barplot(x= '알코올남용', y = ['수축기 혈압', '이완기 혈압'], data=df_alcohol_highpress, palette='coolwarm')\n",
    "# plt.show()\n",
    "df_alcohol_highpress\n",
    "\n",
    "\n",
    "plt.figure(figsize = (10,5))\n",
    "a = plt.subplot(1,2,1)\n",
    "\n",
    "sns.barplot(x= '알코올남용', y = '수축기 혈압', data=df_alcohol_highpress, palette='Blues_r')\n",
    "plt.title('알코올 남용별 혈당 분석')\n",
    "\n",
    "plt.subplot(1,2,2, sharey = a)\n",
    "sns.barplot(x= '비만', y = '수축기 혈압', data=df_fat_highpress, palette='Blues_r')\n",
    "plt.title('비만 단계별 혈당 분석')\n",
    "plt.ylim([100, 135])\n",
    "plt.tight_layout()\n",
    "plt.show()\n",
    "\n",
    "\n",
    "\n",
    "# plt.figure(figsize = (10,5))\n",
    "# a = plt.subplot(1,2,1)\n",
    "# sns.barplot(x='알코올남용', y = '식전혈당(공복혈당)', data=df_alcohol_insulin, palette='Blues_r')\n",
    "# plt.title('알코올 남용별 혈당 분석')\n",
    "\n",
    "# plt.subplot(1,2,2, sharey = a)\n",
    "# sns.barplot(x='비만', y = '식전혈당(공복혈당)', data=df_fat_insulin, palette='Blues_r')\n",
    "# plt.title('비만 단계별 혈당 분석')\n",
    "# plt.ylim([100, 120])\n",
    "# plt.tight_layout()\n",
    "# plt.show()"
   ]
  },
  {
   "cell_type": "code",
   "execution_count": 123,
   "metadata": {},
   "outputs": [
    {
     "data": {
      "image/png": "[encoded data removed]",
      "text/plain": [
       "<Figure size 720x360 with 2 Axes>"
      ]
     },
     "metadata": {
      "needs_background": "light"
     },
     "output_type": "display_data"
    }
   ],
   "source": [
    "plt.figure(figsize = (10,5))\n",
    "a = plt.subplot(1,2,1)\n",
    "\n",
    "sns.barplot(x= '알코올남용', y = '이완기 혈압', data=df_alcohol_highpress, palette='Blues_r')\n",
    "plt.title('알코올 남용별 혈당 분석')\n",
    "\n",
    "plt.subplot(1,2,2, sharey = a)\n",
    "sns.barplot(x= '비만', y = '이완기 혈압', data=df_fat_highpress, palette='Blues_r')\n",
    "plt.title('비만 단계별 혈당 분석')\n",
    "plt.ylim([50, 85])\n",
    "plt.tight_layout()\n",
    "plt.show()"
   ]
  },
  {
   "cell_type": "code",
   "execution_count": 109,
   "metadata": {},
   "outputs": [
    {
     "data": {
      "text/html": [
       "<div>\n",
       "<style scoped>\n",
       "    .dataframe tbody tr th:only-of-type {\n",
       "        vertical-align: middle;\n",
       "    }\n",
       "\n",
       "    .dataframe tbody tr th {\n",
       "        vertical-align: top;\n",
       "    }\n",
       "\n",
       "    .dataframe thead th {\n",
       "        text-align: right;\n",
       "    }\n",
       "</style>\n",
       "<table border=\"1\" class=\"dataframe\">\n",
       "  <thead>\n",
       "    <tr style=\"text-align: right;\">\n",
       "      <th></th>\n",
       "      <th>비만</th>\n",
       "      <th>수축기 혈압</th>\n",
       "      <th>이완기 혈압</th>\n",
       "    </tr>\n",
       "  </thead>\n",
       "  <tbody>\n",
       "    <tr>\n",
       "      <th>0</th>\n",
       "      <td>고도비만</td>\n",
       "      <td>128.752286</td>\n",
       "      <td>79.369591</td>\n",
       "    </tr>\n",
       "    <tr>\n",
       "      <th>1</th>\n",
       "      <td>과체중</td>\n",
       "      <td>125.265105</td>\n",
       "      <td>76.922309</td>\n",
       "    </tr>\n",
       "    <tr>\n",
       "      <th>2</th>\n",
       "      <td>저체중</td>\n",
       "      <td>117.271577</td>\n",
       "      <td>72.601582</td>\n",
       "    </tr>\n",
       "    <tr>\n",
       "      <th>3</th>\n",
       "      <td>정상</td>\n",
       "      <td>121.388356</td>\n",
       "      <td>74.614527</td>\n",
       "    </tr>\n",
       "  </tbody>\n",
       "</table>\n",
       "</div>"
      ],
      "text/plain": [
       "     비만      수축기 혈압     이완기 혈압\n",
       "0  고도비만  128.752286  79.369591\n",
       "1   과체중  125.265105  76.922309\n",
       "2   저체중  117.271577  72.601582\n",
       "3    정상  121.388356  74.614527"
      ]
     },
     "execution_count": 109,
     "metadata": {},
     "output_type": "execute_result"
    }
   ],
   "source": [
    "df_fat_highpress = df.groupby('비만').mean()[['수축기 혈압', '이완기 혈압']].reset_index()\n",
    "df_fat_highpress"
   ]
  },
  {
   "cell_type": "code",
   "execution_count": 98,
   "metadata": {},
   "outputs": [
    {
     "data": {
      "image/png": "[encoded data removed]",
      "text/plain": [
       "<Figure size 432x288 with 1 Axes>"
      ]
     },
     "metadata": {
      "needs_background": "light"
     },
     "output_type": "display_data"
    }
   ],
   "source": [
    "df_alcohol_insulin = df.groupby('알코올남용').mean()[['식전혈당(공복혈당)']].reset_index()\n",
    "plt.ylim([90, 120])\n",
    "df_alcohol_insulin\n",
    "# sns.barplot(x='알코올남용', y = '식전혈당(공복혈당)', data=df_alcohol_insulin, palette='Blues_r')\n",
    "# plt.show()"
   ]
  },
  {
   "cell_type": "code",
   "execution_count": 104,
   "metadata": {},
   "outputs": [
    {
     "data": {
      "image/png": "[encoded data removed]",
      "text/plain": [
       "<Figure size 432x288 with 1 Axes>"
      ]
     },
     "metadata": {
      "needs_background": "light"
     },
     "output_type": "display_data"
    }
   ],
   "source": [
    "df_alcohol_tri = df.groupby('알코올남용').mean()[['트리글리세라이드']].reset_index()\n",
    "plt.ylim([100, 250])\n",
    "\n",
    "sns.barplot(x='알코올남용', y = '트리글리세라이드', data=df_alcohol_tri, palette='Blues_r')\n",
    "plt.show()\n"
   ]
  },
  {
   "cell_type": "code",
   "execution_count": 96,
   "metadata": {},
   "outputs": [
    {
     "data": {
      "image/png": "[encoded data removed]",
      "text/plain": [
       "<Figure size 432x288 with 1 Axes>"
      ]
     },
     "metadata": {
      "needs_background": "light"
     },
     "output_type": "display_data"
    }
   ],
   "source": [
    "df_fat_insulin = df.groupby('비만').mean()[['식전혈당(공복혈당)']].reset_index()\n",
    "plt.ylim([90, 110])\n",
    "sns.barplot(x='비만', y = '식전혈당(공복혈당)', data=df_fat_insulin, palette='Blues_r')\n",
    "plt.show()"
   ]
  },
  {
   "cell_type": "code",
   "execution_count": null,
   "metadata": {},
   "outputs": [],
   "source": [
    "sns.barplot(x='비만', y = '식전혈당(공복혈당)', data=df_fat_insulin, palette='Blues_r')\n",
    "plt.show()"
   ]
  },
  {
   "cell_type": "code",
   "execution_count": 99,
   "metadata": {
    "scrolled": true
   },
   "outputs": [
    {
     "data": {
      "image/png": "[encoded data removed]",
      "text/plain": [
       "<Figure size 720x360 with 2 Axes>"
      ]
     },
     "metadata": {
      "needs_background": "light"
     },
     "output_type": "display_data"
    }
   ],
   "source": [
    "# df_alcohol_insulin = df.groupby('알코올남용').mean()[['식전혈당(공복혈당)']].reset_index()\n",
    "# df_alcohol_insulin\n",
    "# sns.barplot(x='알코올남용', y = '식전혈당(공복혈당)', data=df_alcohol_insulin, palette='Blues_r')\n",
    "# plt.show()\n",
    "\n",
    "\n",
    "# df_fat_insulin = df.groupby('비만').mean()[['식전혈당(공복혈당)']].reset_index()\n",
    "# sns.barplot(x='비만', y = '식전혈당(공복혈당)', data=df_fat_insulin, palette='Blues_r')\n",
    "# plt.show()\n",
    "plt.figure(figsize = (10,5))\n",
    "a = plt.subplot(1,2,1)\n",
    "sns.barplot(x='알코올남용', y = '식전혈당(공복혈당)', data=df_alcohol_insulin, palette='Blues_r')\n",
    "plt.title('알코올 남용별 혈당 분석')\n",
    "\n",
    "plt.subplot(1,2,2, sharey = a)\n",
    "sns.barplot(x='비만', y = '식전혈당(공복혈당)', data=df_fat_insulin, palette='Blues_r')\n",
    "plt.title('비만 단계별 혈당 분석')\n",
    "plt.ylim([100, 120])\n",
    "plt.tight_layout()\n",
    "plt.show()"
   ]
  },
  {
   "cell_type": "code",
   "execution_count": 6,
   "metadata": {},
   "outputs": [
    {
     "data": {
      "image/png": "[encoded data removed]",
      "text/plain": [
       "<Figure size 432x288 with 1 Axes>"
      ]
     },
     "metadata": {
      "needs_background": "light"
     },
     "output_type": "display_data"
    },
    {
     "data": {
      "text/html": [
       "<div>\n",
       "<style scoped>\n",
       "    .dataframe tbody tr th:only-of-type {\n",
       "        vertical-align: middle;\n",
       "    }\n",
       "\n",
       "    .dataframe tbody tr th {\n",
       "        vertical-align: top;\n",
       "    }\n",
       "\n",
       "    .dataframe thead th {\n",
       "        text-align: right;\n",
       "    }\n",
       "</style>\n",
       "<table border=\"1\" class=\"dataframe\">\n",
       "  <thead>\n",
       "    <tr style=\"text-align: right;\">\n",
       "      <th></th>\n",
       "      <th>알코올남용</th>\n",
       "      <th>흡연상태</th>\n",
       "    </tr>\n",
       "  </thead>\n",
       "  <tbody>\n",
       "    <tr>\n",
       "      <th>0</th>\n",
       "      <td>남용자</td>\n",
       "      <td>1.984492</td>\n",
       "    </tr>\n",
       "    <tr>\n",
       "      <th>1</th>\n",
       "      <td>비남용자</td>\n",
       "      <td>1.555873</td>\n",
       "    </tr>\n",
       "  </tbody>\n",
       "</table>\n",
       "</div>"
      ],
      "text/plain": [
       "  알코올남용      흡연상태\n",
       "0   남용자  1.984492\n",
       "1  비남용자  1.555873"
      ]
     },
     "execution_count": 6,
     "metadata": {},
     "output_type": "execute_result"
    }
   ],
   "source": [
    "df_alcohol_smoke = df.groupby('알코올남용').mean()[['흡연상태']].reset_index()\n",
    "sns.barplot(x='알코올남용', y = '흡연상태', data=df_alcohol_smoke, palette='Blues_r')\n",
    "plt.show()\n",
    "df_alcohol_smoke"
   ]
  },
  {
   "cell_type": "code",
   "execution_count": 7,
   "metadata": {
    "scrolled": true
   },
   "outputs": [
    {
     "data": {
      "image/png": "[encoded data removed]",
      "text/plain": [
       "<Figure size 432x288 with 1 Axes>"
      ]
     },
     "metadata": {
      "needs_background": "light"
     },
     "output_type": "display_data"
    }
   ],
   "source": [
    "df_drunk_smoke = df.groupby('흡연상태').mean()[['음주여부']].reset_index()\n",
    "sns.barplot(x='흡연상태', y = '음주여부', data=df_drunk_smoke, palette='Blues')\n",
    "plt.show()"
   ]
  },
  {
   "cell_type": "code",
   "execution_count": 8,
   "metadata": {
    "scrolled": false
   },
   "outputs": [
    {
     "data": {
      "image/png": "[encoded data removed]",
      "text/plain": [
       "<Figure size 432x288 with 1 Axes>"
      ]
     },
     "metadata": {
      "needs_background": "light"
     },
     "output_type": "display_data"
    },
    {
     "data": {
      "text/html": [
       "<div>\n",
       "<style scoped>\n",
       "    .dataframe tbody tr th:only-of-type {\n",
       "        vertical-align: middle;\n",
       "    }\n",
       "\n",
       "    .dataframe tbody tr th {\n",
       "        vertical-align: top;\n",
       "    }\n",
       "\n",
       "    .dataframe thead th {\n",
       "        text-align: right;\n",
       "    }\n",
       "</style>\n",
       "<table border=\"1\" class=\"dataframe\">\n",
       "  <thead>\n",
       "    <tr style=\"text-align: right;\">\n",
       "      <th></th>\n",
       "      <th>간 기능 이상</th>\n",
       "      <th>흡연상태</th>\n",
       "    </tr>\n",
       "  </thead>\n",
       "  <tbody>\n",
       "    <tr>\n",
       "      <th>1</th>\n",
       "      <td>비정상</td>\n",
       "      <td>1.809411</td>\n",
       "    </tr>\n",
       "    <tr>\n",
       "      <th>2</th>\n",
       "      <td>의심</td>\n",
       "      <td>1.676022</td>\n",
       "    </tr>\n",
       "    <tr>\n",
       "      <th>3</th>\n",
       "      <td>정상</td>\n",
       "      <td>1.492768</td>\n",
       "    </tr>\n",
       "  </tbody>\n",
       "</table>\n",
       "</div>"
      ],
      "text/plain": [
       "  간 기능 이상      흡연상태\n",
       "1     비정상  1.809411\n",
       "2      의심  1.676022\n",
       "3      정상  1.492768"
      ]
     },
     "execution_count": 8,
     "metadata": {},
     "output_type": "execute_result"
    }
   ],
   "source": [
    "df_livererr_smoke = df.groupby('간 기능 이상').mean()[['흡연상태']].reset_index()\n",
    "df_livererr_smoke = df_livererr_smoke.drop(0)\n",
    "sns.barplot(x='간 기능 이상', y = '흡연상태', data=df_livererr_smoke, palette='Blues_r')\n",
    "plt.show()\n",
    "df_livererr_smoke"
   ]
  },
  {
   "cell_type": "code",
   "execution_count": 10,
   "metadata": {},
   "outputs": [
    {
     "data": {
      "text/html": [
       "<div>\n",
       "<style scoped>\n",
       "    .dataframe tbody tr th:only-of-type {\n",
       "        vertical-align: middle;\n",
       "    }\n",
       "\n",
       "    .dataframe tbody tr th {\n",
       "        vertical-align: top;\n",
       "    }\n",
       "\n",
       "    .dataframe thead th {\n",
       "        text-align: right;\n",
       "    }\n",
       "</style>\n",
       "<table border=\"1\" class=\"dataframe\">\n",
       "  <thead>\n",
       "    <tr style=\"text-align: right;\">\n",
       "      <th></th>\n",
       "      <th>식전혈당(공복혈당)</th>\n",
       "    </tr>\n",
       "    <tr>\n",
       "      <th>당뇨병</th>\n",
       "      <th></th>\n",
       "    </tr>\n",
       "  </thead>\n",
       "  <tbody>\n",
       "    <tr>\n",
       "      <th>미관측</th>\n",
       "      <td>0</td>\n",
       "    </tr>\n",
       "    <tr>\n",
       "      <th>비정상</th>\n",
       "      <td>105231</td>\n",
       "    </tr>\n",
       "    <tr>\n",
       "      <th>의심</th>\n",
       "      <td>31575</td>\n",
       "    </tr>\n",
       "    <tr>\n",
       "      <th>정상</th>\n",
       "      <td>855592</td>\n",
       "    </tr>\n",
       "  </tbody>\n",
       "</table>\n",
       "</div>"
      ],
      "text/plain": [
       "     식전혈당(공복혈당)\n",
       "당뇨병            \n",
       "미관측           0\n",
       "비정상      105231\n",
       "의심        31575\n",
       "정상       855592"
      ]
     },
     "execution_count": 10,
     "metadata": {},
     "output_type": "execute_result"
    }
   ],
   "source": [
    "df.groupby('당뇨병').count()[['식전혈당(공복혈당)']]"
   ]
  },
  {
   "cell_type": "code",
   "execution_count": 9,
   "metadata": {},
   "outputs": [
    {
     "ename": "KeyError",
     "evalue": "'gender'",
     "output_type": "error",
     "traceback": [
      "\u001b[1;31m---------------------------------------------------------------------------\u001b[0m",
      "\u001b[1;31mKeyError\u001b[0m                                  Traceback (most recent call last)",
      "\u001b[1;32m~\\AppData\\Local\\Temp/ipykernel_10376/1516016916.py\u001b[0m in \u001b[0;36m<module>\u001b[1;34m\u001b[0m\n\u001b[1;32m----> 1\u001b[1;33m \u001b[0mdf_gender_smoke\u001b[0m \u001b[1;33m=\u001b[0m \u001b[0mdf\u001b[0m\u001b[1;33m.\u001b[0m\u001b[0mgroupby\u001b[0m\u001b[1;33m(\u001b[0m\u001b[1;34m'gender'\u001b[0m\u001b[1;33m)\u001b[0m\u001b[1;33m.\u001b[0m\u001b[0mmean\u001b[0m\u001b[1;33m(\u001b[0m\u001b[1;33m)\u001b[0m\u001b[1;33m[\u001b[0m\u001b[1;33m[\u001b[0m\u001b[1;34m'흡연상태'\u001b[0m\u001b[1;33m]\u001b[0m\u001b[1;33m]\u001b[0m\u001b[1;33m\u001b[0m\u001b[1;33m\u001b[0m\u001b[0m\n\u001b[0m\u001b[0;32m      2\u001b[0m \u001b[0mdf_gender_smoke\u001b[0m\u001b[1;33m\u001b[0m\u001b[1;33m\u001b[0m\u001b[0m\n",
      "\u001b[1;32mC:\\Anaconda3\\lib\\site-packages\\pandas\\core\\frame.py\u001b[0m in \u001b[0;36mgroupby\u001b[1;34m(self, by, axis, level, as_index, sort, group_keys, squeeze, observed, dropna)\u001b[0m\n\u001b[0;32m   7629\u001b[0m         \u001b[1;31m# error: Argument \"squeeze\" to \"DataFrameGroupBy\" has incompatible type\u001b[0m\u001b[1;33m\u001b[0m\u001b[1;33m\u001b[0m\u001b[0m\n\u001b[0;32m   7630\u001b[0m         \u001b[1;31m# \"Union[bool, NoDefault]\"; expected \"bool\"\u001b[0m\u001b[1;33m\u001b[0m\u001b[1;33m\u001b[0m\u001b[0m\n\u001b[1;32m-> 7631\u001b[1;33m         return DataFrameGroupBy(\n\u001b[0m\u001b[0;32m   7632\u001b[0m             \u001b[0mobj\u001b[0m\u001b[1;33m=\u001b[0m\u001b[0mself\u001b[0m\u001b[1;33m,\u001b[0m\u001b[1;33m\u001b[0m\u001b[1;33m\u001b[0m\u001b[0m\n\u001b[0;32m   7633\u001b[0m             \u001b[0mkeys\u001b[0m\u001b[1;33m=\u001b[0m\u001b[0mby\u001b[0m\u001b[1;33m,\u001b[0m\u001b[1;33m\u001b[0m\u001b[1;33m\u001b[0m\u001b[0m\n",
      "\u001b[1;32mC:\\Anaconda3\\lib\\site-packages\\pandas\\core\\groupby\\groupby.py\u001b[0m in \u001b[0;36m__init__\u001b[1;34m(self, obj, keys, axis, level, grouper, exclusions, selection, as_index, sort, group_keys, squeeze, observed, mutated, dropna)\u001b[0m\n\u001b[0;32m    887\u001b[0m             \u001b[1;32mfrom\u001b[0m \u001b[0mpandas\u001b[0m\u001b[1;33m.\u001b[0m\u001b[0mcore\u001b[0m\u001b[1;33m.\u001b[0m\u001b[0mgroupby\u001b[0m\u001b[1;33m.\u001b[0m\u001b[0mgrouper\u001b[0m \u001b[1;32mimport\u001b[0m \u001b[0mget_grouper\u001b[0m\u001b[1;33m\u001b[0m\u001b[1;33m\u001b[0m\u001b[0m\n\u001b[0;32m    888\u001b[0m \u001b[1;33m\u001b[0m\u001b[0m\n\u001b[1;32m--> 889\u001b[1;33m             grouper, exclusions, obj = get_grouper(\n\u001b[0m\u001b[0;32m    890\u001b[0m                 \u001b[0mobj\u001b[0m\u001b[1;33m,\u001b[0m\u001b[1;33m\u001b[0m\u001b[1;33m\u001b[0m\u001b[0m\n\u001b[0;32m    891\u001b[0m                 \u001b[0mkeys\u001b[0m\u001b[1;33m,\u001b[0m\u001b[1;33m\u001b[0m\u001b[1;33m\u001b[0m\u001b[0m\n",
      "\u001b[1;32mC:\\Anaconda3\\lib\\site-packages\\pandas\\core\\groupby\\grouper.py\u001b[0m in \u001b[0;36mget_grouper\u001b[1;34m(obj, key, axis, level, sort, observed, mutated, validate, dropna)\u001b[0m\n\u001b[0;32m    860\u001b[0m                 \u001b[0min_axis\u001b[0m\u001b[1;33m,\u001b[0m \u001b[0mlevel\u001b[0m\u001b[1;33m,\u001b[0m \u001b[0mgpr\u001b[0m \u001b[1;33m=\u001b[0m \u001b[1;32mFalse\u001b[0m\u001b[1;33m,\u001b[0m \u001b[0mgpr\u001b[0m\u001b[1;33m,\u001b[0m \u001b[1;32mNone\u001b[0m\u001b[1;33m\u001b[0m\u001b[1;33m\u001b[0m\u001b[0m\n\u001b[0;32m    861\u001b[0m             \u001b[1;32melse\u001b[0m\u001b[1;33m:\u001b[0m\u001b[1;33m\u001b[0m\u001b[1;33m\u001b[0m\u001b[0m\n\u001b[1;32m--> 862\u001b[1;33m                 \u001b[1;32mraise\u001b[0m \u001b[0mKeyError\u001b[0m\u001b[1;33m(\u001b[0m\u001b[0mgpr\u001b[0m\u001b[1;33m)\u001b[0m\u001b[1;33m\u001b[0m\u001b[1;33m\u001b[0m\u001b[0m\n\u001b[0m\u001b[0;32m    863\u001b[0m         \u001b[1;32melif\u001b[0m \u001b[0misinstance\u001b[0m\u001b[1;33m(\u001b[0m\u001b[0mgpr\u001b[0m\u001b[1;33m,\u001b[0m \u001b[0mGrouper\u001b[0m\u001b[1;33m)\u001b[0m \u001b[1;32mand\u001b[0m \u001b[0mgpr\u001b[0m\u001b[1;33m.\u001b[0m\u001b[0mkey\u001b[0m \u001b[1;32mis\u001b[0m \u001b[1;32mnot\u001b[0m \u001b[1;32mNone\u001b[0m\u001b[1;33m:\u001b[0m\u001b[1;33m\u001b[0m\u001b[1;33m\u001b[0m\u001b[0m\n\u001b[0;32m    864\u001b[0m             \u001b[1;31m# Add key to exclusions\u001b[0m\u001b[1;33m\u001b[0m\u001b[1;33m\u001b[0m\u001b[0m\n",
      "\u001b[1;31mKeyError\u001b[0m: 'gender'"
     ]
    }
   ],
   "source": [
    "df_gender_smoke = df.groupby('gender').mean()[['흡연상태']]\n",
    "df_gender_smoke"
   ]
  },
  {
   "cell_type": "code",
   "execution_count": null,
   "metadata": {},
   "outputs": [],
   "source": [
    "df.groupby('gender').mean()[['음주여부']]"
   ]
  },
  {
   "cell_type": "code",
   "execution_count": null,
   "metadata": {
    "scrolled": true
   },
   "outputs": [],
   "source": [
    "df_drunk_smoke_gender = df.groupby(['흡연상태', 'gender']).mean()[['음주여부']].reset_index()\n",
    "sns.barplot(x='흡연상태', y = '음주여부', hue='gender', data=df_drunk_smoke_gender, palette='Blues_r')\n",
    "plt.show()"
   ]
  },
  {
   "cell_type": "code",
   "execution_count": null,
   "metadata": {},
   "outputs": [],
   "source": [
    "df[['흡연상태', '음주여부']].corr()"
   ]
  },
  {
   "cell_type": "code",
   "execution_count": null,
   "metadata": {},
   "outputs": [],
   "source": []
  }
 ],
 "metadata": {
  "colab": {
   "collapsed_sections": [],
   "name": "22-02-11 국민건강보험공단_건강검진정보_2021_12 분석.ipynb",
   "provenance": []
  },
  "kernelspec": {
   "display_name": "Python 3 (ipykernel)",
   "language": "python",
   "name": "python3"
  },
  "language_info": {
   "codemirror_mode": {
    "name": "ipython",
    "version": 3
   },
   "file_extension": ".py",
   "mimetype": "text/x-python",
   "name": "python",
   "nbconvert_exporter": "python",
   "pygments_lexer": "ipython3",
   "version": "3.9.7"
  },
  "toc": {
   "base_numbering": 1,
   "nav_menu": {},
   "number_sections": true,
   "sideBar": true,
   "skip_h1_title": false,
   "title_cell": "Table of Contents",
   "title_sidebar": "Contents",
   "toc_cell": false,
   "toc_position": {},
   "toc_section_display": true,
   "toc_window_display": false
  },
  "varInspector": {
   "cols": {
    "lenName": 16,
    "lenType": 16,
    "lenVar": 40
   },
   "kernels_config": {
    "python": {
     "delete_cmd_postfix": "",
     "delete_cmd_prefix": "del ",
     "library": "var_list.py",
     "varRefreshCmd": "print(var_dic_list())"
    },
    "r": {
     "delete_cmd_postfix": ") ",
     "delete_cmd_prefix": "rm(",
     "library": "var_list.r",
     "varRefreshCmd": "cat(var_dic_list()) "
    }
   },
   "types_to_exclude": [
    "module",
    "function",
    "builtin_function_or_method",
    "instance",
    "_Feature"
   ],
   "window_display": false
  }
 },
 "nbformat": 4,
 "nbformat_minor": 1
}
