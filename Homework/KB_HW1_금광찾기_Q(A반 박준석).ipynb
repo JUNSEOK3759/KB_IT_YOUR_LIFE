{
 "cells": [
  {
   "cell_type": "markdown",
   "metadata": {},
   "source": [
    "# 금광찾기 게임"
   ]
  },
  {
   "cell_type": "markdown",
   "metadata": {},
   "source": [
    "## 규칙 : \n",
    "1. 20x20 짜리 공간에 컴퓨터가 임의의 위치를 정한다 \n",
    "2. \"금광의 예상 좌표를 입력하세요\" 메시지 출력한다.\n",
    "2. 사용자는 임의의 x,y좌표를 입력한다.\n",
    "3. 컴퓨터는 컴퓨터의 좌표와 사용자 입력좌표간 직선거리의 정수를 계산한다. 소수이하 반올림한다.\n",
    "4. 직선거리가 0이면 \"축하합니다. 금광을 찾으셨습니다\" 메시지 출력한다. 반복문 빠져나간다.\n",
    "5. 직선거리가 0이 아니면 시도횟수를 출력한다. 시도횟수가 10번이상이면 \"당신은 바보입니까?\" 메시지 출력 후 반복문 빠져나간다.\n",
    "5. 직선거리가 0이 아니면 2번부터 반복한다."
   ]
  },
  {
   "cell_type": "code",
   "execution_count": 1,
   "metadata": {
    "ExecuteTime": {
     "end_time": "2022-03-02T07:53:22.417879Z",
     "start_time": "2022-03-02T07:53:22.409875Z"
    }
   },
   "outputs": [
    {
     "name": "stdout",
     "output_type": "stream",
     "text": [
      "1\n",
      "3\n"
     ]
    }
   ],
   "source": [
    "# 금광의 좌표와 사용자의 좌표를 입력받아 두 점 사이의 거리를 반환하는 함수를 작성하세요.\n",
    "import math\n",
    "from math import sqrt\n",
    "\n",
    "def get_distance(gold_x, gold_y, user_x, user_y) :\n",
    "    dist =  round(sqrt(math.pow((gold_x - user_x), 2) + math.pow((gold_y - user_y), 2)))\n",
    "    return dist\n",
    "\n",
    "print(get_distance(0,0,1,1)) # 1\n",
    "print(get_distance(0,0,2,2)) # 3"
   ]
  },
  {
   "cell_type": "code",
   "execution_count": null,
   "metadata": {
    "ExecuteTime": {
     "end_time": "2022-03-02T08:01:09.204389Z",
     "start_time": "2022-03-02T07:58:56.506410Z"
    }
   },
   "outputs": [
    {
     "name": "stdout",
     "output_type": "stream",
     "text": [
      "\n",
      "** 1번째 시도 **\n",
      "금광의 예상 좌표를 입력하세요 : 14, 3\n",
      "X = 6 Y = 6\n",
      "X = 14 Y = 3\n",
      "9\n",
      "\n",
      "** 2번째 시도 **\n",
      "금광의 예상 좌표를 입력하세요 : 14, 2\n",
      "X = 6 Y = 6\n",
      "X = 14 Y = 2\n",
      "9\n",
      "\n",
      "** 3번째 시도 **\n",
      "금광의 예상 좌표를 입력하세요 : 14, 4\n",
      "X = 6 Y = 6\n",
      "X = 14 Y = 4\n",
      "8\n",
      "\n",
      "** 4번째 시도 **\n"
     ]
    }
   ],
   "source": [
    "import random\n",
    "\n",
    "field_size = 20\n",
    "gold_x = random.randint(1, 20)\n",
    "gold_y = random.randint(1, 20)\n",
    "count = 1 #시도횟수\n",
    "array1 = [[0 for col in range(field_size)] for row in range(field_size)]\n",
    "\n",
    "while (True):\n",
    "    print(f\"\\n** {count}번째 시도 **\")\n",
    "    user_x, user_y = list(map(int, input(\"금광의 예상 좌표를 입력하세요 : \").split(\",\")))\n",
    "    print(f\"X = {gold_x} Y = {gold_y}\")\n",
    "    print(f\"X = {user_x} Y = {user_y}\")    \n",
    "    #금광과 직선거리 계산\n",
    "    diff = get_distance(gold_x, gold_y, user_x, user_y)\n",
    "    print(diff)\n",
    "    if diff > 0:\n",
    "        count += 1\n",
    "        if count >= 11:\n",
    "            print(\"당신은 바보입니까?\")\n",
    "            break\n",
    "    elif diff == 0:\n",
    "        print(\"축하합니다. 금광을 찾으셨습니다\")\n",
    "        break\n",
    "print(\"게임 종료\")"
   ]
  },
  {
   "cell_type": "code",
   "execution_count": null,
   "metadata": {},
   "outputs": [],
   "source": []
  }
 ],
 "metadata": {
  "kernelspec": {
   "display_name": "Python 3 (ipykernel)",
   "language": "python",
   "name": "python3"
  },
  "language_info": {
   "codemirror_mode": {
    "name": "ipython",
    "version": 3
   },
   "file_extension": ".py",
   "mimetype": "text/x-python",
   "name": "python",
   "nbconvert_exporter": "python",
   "pygments_lexer": "ipython3",
   "version": "3.9.7"
  },
  "toc": {
   "base_numbering": 1,
   "nav_menu": {},
   "number_sections": true,
   "sideBar": true,
   "skip_h1_title": false,
   "title_cell": "Table of Contents",
   "title_sidebar": "Contents",
   "toc_cell": false,
   "toc_position": {},
   "toc_section_display": true,
   "toc_window_display": false
  },
  "varInspector": {
   "cols": {
    "lenName": 16,
    "lenType": 16,
    "lenVar": 40
   },
   "kernels_config": {
    "python": {
     "delete_cmd_postfix": "",
     "delete_cmd_prefix": "del ",
     "library": "var_list.py",
     "varRefreshCmd": "print(var_dic_list())"
    },
    "r": {
     "delete_cmd_postfix": ") ",
     "delete_cmd_prefix": "rm(",
     "library": "var_list.r",
     "varRefreshCmd": "cat(var_dic_list()) "
    }
   },
   "types_to_exclude": [
    "module",
    "function",
    "builtin_function_or_method",
    "instance",
    "_Feature"
   ],
   "window_display": false
  }
 },
 "nbformat": 4,
 "nbformat_minor": 4
}
